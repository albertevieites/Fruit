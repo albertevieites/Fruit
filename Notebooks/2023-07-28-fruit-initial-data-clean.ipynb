{
 "cells": [
  {
   "cell_type": "code",
   "execution_count": 1,
   "metadata": {
    "ExecuteTime": {
     "end_time": "2023-07-28T10:16:36.258208700Z",
     "start_time": "2023-07-28T10:16:36.174712600Z"
    },
    "collapsed": true
   },
   "outputs": [],
   "source": [
    "import pandas as pd"
   ]
  },
  {
   "cell_type": "code",
   "execution_count": 2,
   "metadata": {
    "ExecuteTime": {
     "end_time": "2023-07-28T10:22:48.308682600Z",
     "start_time": "2023-07-28T10:22:47.774683200Z"
    },
    "collapsed": false
   },
   "outputs": [],
   "source": [
    "data = pd.read_excel(\"../Dataset/entrenamiento.xlsx\")"
   ]
  },
  {
   "cell_type": "code",
   "execution_count": 8,
   "metadata": {},
   "outputs": [
    {
     "data": {
      "text/html": [
       "<div>\n",
       "<style scoped>\n",
       "    .dataframe tbody tr th:only-of-type {\n",
       "        vertical-align: middle;\n",
       "    }\n",
       "\n",
       "    .dataframe tbody tr th {\n",
       "        vertical-align: top;\n",
       "    }\n",
       "\n",
       "    .dataframe thead th {\n",
       "        text-align: right;\n",
       "    }\n",
       "</style>\n",
       "<table border=\"1\" class=\"dataframe\">\n",
       "  <thead>\n",
       "    <tr style=\"text-align: right;\">\n",
       "      <th></th>\n",
       "      <th>C1</th>\n",
       "      <th>C2</th>\n",
       "      <th>C3</th>\n",
       "      <th>C4</th>\n",
       "      <th>C5</th>\n",
       "      <th>C6</th>\n",
       "      <th>C7</th>\n",
       "      <th>C7.1</th>\n",
       "      <th>C9</th>\n",
       "      <th>C10</th>\n",
       "      <th>C11</th>\n",
       "      <th>des</th>\n",
       "    </tr>\n",
       "  </thead>\n",
       "  <tbody>\n",
       "    <tr>\n",
       "      <th>0</th>\n",
       "      <td>6.8</td>\n",
       "      <td>0.190620</td>\n",
       "      <td>0.307485</td>\n",
       "      <td>18.1</td>\n",
       "      <td>46.00</td>\n",
       "      <td>32.0</td>\n",
       "      <td>4.897840</td>\n",
       "      <td>1.00000</td>\n",
       "      <td>3.27</td>\n",
       "      <td>0.392042</td>\n",
       "      <td>8.8</td>\n",
       "      <td>5</td>\n",
       "    </tr>\n",
       "    <tr>\n",
       "      <th>1</th>\n",
       "      <td>6.2</td>\n",
       "      <td>0.246860</td>\n",
       "      <td>NaN</td>\n",
       "      <td>5.0</td>\n",
       "      <td>43.00</td>\n",
       "      <td>50.0</td>\n",
       "      <td>5.241747</td>\n",
       "      <td>0.99318</td>\n",
       "      <td>3.23</td>\n",
       "      <td>0.494696</td>\n",
       "      <td>10.8</td>\n",
       "      <td>6</td>\n",
       "    </tr>\n",
       "    <tr>\n",
       "      <th>2</th>\n",
       "      <td>6.7</td>\n",
       "      <td>0.350657</td>\n",
       "      <td>0.329304</td>\n",
       "      <td>12.1</td>\n",
       "      <td>0.04</td>\n",
       "      <td>61.0</td>\n",
       "      <td>5.517453</td>\n",
       "      <td>0.99794</td>\n",
       "      <td>3.31</td>\n",
       "      <td>0.457425</td>\n",
       "      <td>9.7</td>\n",
       "      <td>5</td>\n",
       "    </tr>\n",
       "    <tr>\n",
       "      <th>3</th>\n",
       "      <td>6.8</td>\n",
       "      <td>0.254642</td>\n",
       "      <td>0.405465</td>\n",
       "      <td>13.3</td>\n",
       "      <td>53.00</td>\n",
       "      <td>48.0</td>\n",
       "      <td>5.273000</td>\n",
       "      <td>0.99740</td>\n",
       "      <td>3.09</td>\n",
       "      <td>0.371564</td>\n",
       "      <td>9.4</td>\n",
       "      <td>5</td>\n",
       "    </tr>\n",
       "    <tr>\n",
       "      <th>4</th>\n",
       "      <td>6.6</td>\n",
       "      <td>0.215111</td>\n",
       "      <td>0.239017</td>\n",
       "      <td>15.8</td>\n",
       "      <td>35.00</td>\n",
       "      <td>46.0</td>\n",
       "      <td>5.241747</td>\n",
       "      <td>0.99820</td>\n",
       "      <td>3.24</td>\n",
       "      <td>0.412110</td>\n",
       "      <td>9.2</td>\n",
       "      <td>5</td>\n",
       "    </tr>\n",
       "  </tbody>\n",
       "</table>\n",
       "</div>"
      ],
      "text/plain": [
       "    C1        C2        C3    C4     C5    C6        C7     C7.1    C9  \\\n",
       "0  6.8  0.190620  0.307485  18.1  46.00  32.0  4.897840  1.00000  3.27   \n",
       "1  6.2  0.246860       NaN   5.0  43.00  50.0  5.241747  0.99318  3.23   \n",
       "2  6.7  0.350657  0.329304  12.1   0.04  61.0  5.517453  0.99794  3.31   \n",
       "3  6.8  0.254642  0.405465  13.3  53.00  48.0  5.273000  0.99740  3.09   \n",
       "4  6.6  0.215111  0.239017  15.8  35.00  46.0  5.241747  0.99820  3.24   \n",
       "\n",
       "        C10   C11  des  \n",
       "0  0.392042   8.8    5  \n",
       "1  0.494696  10.8    6  \n",
       "2  0.457425   9.7    5  \n",
       "3  0.371564   9.4    5  \n",
       "4  0.412110   9.2    5  "
      ]
     },
     "execution_count": 8,
     "metadata": {},
     "output_type": "execute_result"
    }
   ],
   "source": [
    "data.head()"
   ]
  },
  {
   "cell_type": "code",
   "execution_count": 9,
   "metadata": {},
   "outputs": [
    {
     "name": "stdout",
     "output_type": "stream",
     "text": [
      "<class 'pandas.core.frame.DataFrame'>\n",
      "RangeIndex: 3918 entries, 0 to 3917\n",
      "Data columns (total 12 columns):\n",
      " #   Column  Non-Null Count  Dtype  \n",
      "---  ------  --------------  -----  \n",
      " 0   C1      3684 non-null   float64\n",
      " 1   C2      3664 non-null   float64\n",
      " 2   C3      3648 non-null   float64\n",
      " 3   C4      3636 non-null   float64\n",
      " 4   C5      3659 non-null   float64\n",
      " 5   C6      3655 non-null   float64\n",
      " 6   C7      3645 non-null   float64\n",
      " 7   C7.1    3646 non-null   float64\n",
      " 8   C9      3658 non-null   float64\n",
      " 9   C10     3639 non-null   float64\n",
      " 10  C11     3658 non-null   float64\n",
      " 11  des     3918 non-null   int64  \n",
      "dtypes: float64(11), int64(1)\n",
      "memory usage: 367.4 KB\n"
     ]
    }
   ],
   "source": [
    "data.info()"
   ]
  },
  {
   "cell_type": "code",
   "execution_count": 10,
   "metadata": {},
   "outputs": [
    {
     "data": {
      "text/plain": [
       "C1      234\n",
       "C2      254\n",
       "C3      270\n",
       "C4      282\n",
       "C5      259\n",
       "C6      263\n",
       "C7      273\n",
       "C7.1    272\n",
       "C9      260\n",
       "C10     279\n",
       "C11     260\n",
       "des       0\n",
       "dtype: int64"
      ]
     },
     "execution_count": 10,
     "metadata": {},
     "output_type": "execute_result"
    }
   ],
   "source": [
    "data.isna().sum()"
   ]
  },
  {
   "cell_type": "code",
   "execution_count": null,
   "outputs": [],
   "source": [],
   "metadata": {
    "collapsed": false
   }
  }
 ],
 "metadata": {
  "kernelspec": {
   "display_name": "Python 3",
   "language": "python",
   "name": "python3"
  },
  "language_info": {
   "codemirror_mode": {
    "name": "ipython",
    "version": 3
   },
   "file_extension": ".py",
   "mimetype": "text/x-python",
   "name": "python",
   "nbconvert_exporter": "python",
   "pygments_lexer": "ipython3",
   "version": "3.10.12"
  }
 },
 "nbformat": 4,
 "nbformat_minor": 0
}
