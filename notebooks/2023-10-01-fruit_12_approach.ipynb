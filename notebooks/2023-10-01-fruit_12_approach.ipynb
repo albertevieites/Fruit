{
 "cells": [
  {
   "cell_type": "code",
   "execution_count": 98,
   "id": "initial_id",
   "metadata": {
    "collapsed": true,
    "ExecuteTime": {
     "end_time": "2023-10-01T18:25:33.665850526Z",
     "start_time": "2023-10-01T18:25:33.403228796Z"
    }
   },
   "outputs": [],
   "source": [
    "import numpy as np\n",
    "import pandas as pd\n",
    "\n",
    "import matplotlib.pyplot as plt\n",
    "import seaborn as sns\n",
    "\n",
    "from sklearn.preprocessing import StandardScaler\n",
    "from sklearn.preprocessing import MinMaxScaler\n",
    "from sklearn.model_selection import train_test_split\n",
    "from sklearn.decomposition import PCA\n",
    "import xgboost as xgb\n",
    "\n",
    "import warnings\n",
    "\n",
    "warnings.filterwarnings(\"ignore\", category=FutureWarning)"
   ]
  },
  {
   "cell_type": "code",
   "execution_count": 99,
   "outputs": [],
   "source": [
    "df = pd.read_excel(\"../data/raw/entrenamiento.xlsx\")\n",
    "df = df.rename(columns={\"C7.1\": \"C8\", \"des\": \"QUALITY\"})\n",
    "features = df.drop(columns=[\"QUALITY\"])\n",
    "target = df[\"QUALITY\"]"
   ],
   "metadata": {
    "collapsed": false,
    "ExecuteTime": {
     "end_time": "2023-10-01T18:25:34.223330706Z",
     "start_time": "2023-10-01T18:25:33.431398663Z"
    }
   },
   "id": "89f565dc104d541a"
  },
  {
   "cell_type": "markdown",
   "source": [],
   "metadata": {
    "collapsed": false
   },
   "id": "5ac862cd29ebdefe"
  },
  {
   "cell_type": "code",
   "execution_count": 100,
   "outputs": [
    {
     "data": {
      "text/plain": "          count       mean         std       min        25%        50%  \\\nC1       3684.0   6.857166    0.846430  3.800000   6.300000   6.800000   \nC2       3664.0   0.421440    0.988207  0.076961   0.190620   0.231112   \nC3       3648.0   0.284054    0.086887  0.000000   0.239017   0.277632   \nC4       3636.0   6.424642    5.084063  0.600000   1.700000   5.300000   \nC5       3659.0  40.685294   25.106022  0.020000  33.000000  41.000000   \nC6       3655.0  35.216142   17.167346  2.000000  23.000000  34.000000   \nC7       3645.0   4.885591    0.341723  2.302585   4.691348   4.912655   \nC8       3646.0  65.824651  245.359289  0.987110   0.991800   0.994100   \nC9       3658.0   3.188291    0.152155  2.720000   3.090000   3.180000   \nC10      3639.0   0.395421    0.074535  0.198851   0.343590   0.385262   \nC11      3658.0  10.491607    1.218126  8.000000   9.400000  10.300000   \nQUALITY  3918.0   5.870342    0.887340  3.000000   5.000000   6.000000   \n\n               75%          max  \nC1        7.300000    14.200000  \nC2        0.285179     6.913737  \nC3        0.329304     0.802002  \nC4        9.900000    65.800000  \nC5       49.000000   346.000000  \nC6       46.000000   289.000000  \nC7        5.129899     6.089045  \nC8        0.996825  1001.000000  \nC9        3.280000     3.820000  \nC10       0.438255     0.732368  \nC11      11.300000    14.000000  \nQUALITY   6.000000     9.000000  ",
      "text/html": "<div>\n<style scoped>\n    .dataframe tbody tr th:only-of-type {\n        vertical-align: middle;\n    }\n\n    .dataframe tbody tr th {\n        vertical-align: top;\n    }\n\n    .dataframe thead th {\n        text-align: right;\n    }\n</style>\n<table border=\"1\" class=\"dataframe\">\n  <thead>\n    <tr style=\"text-align: right;\">\n      <th></th>\n      <th>count</th>\n      <th>mean</th>\n      <th>std</th>\n      <th>min</th>\n      <th>25%</th>\n      <th>50%</th>\n      <th>75%</th>\n      <th>max</th>\n    </tr>\n  </thead>\n  <tbody>\n    <tr>\n      <th>C1</th>\n      <td>3684.0</td>\n      <td>6.857166</td>\n      <td>0.846430</td>\n      <td>3.800000</td>\n      <td>6.300000</td>\n      <td>6.800000</td>\n      <td>7.300000</td>\n      <td>14.200000</td>\n    </tr>\n    <tr>\n      <th>C2</th>\n      <td>3664.0</td>\n      <td>0.421440</td>\n      <td>0.988207</td>\n      <td>0.076961</td>\n      <td>0.190620</td>\n      <td>0.231112</td>\n      <td>0.285179</td>\n      <td>6.913737</td>\n    </tr>\n    <tr>\n      <th>C3</th>\n      <td>3648.0</td>\n      <td>0.284054</td>\n      <td>0.086887</td>\n      <td>0.000000</td>\n      <td>0.239017</td>\n      <td>0.277632</td>\n      <td>0.329304</td>\n      <td>0.802002</td>\n    </tr>\n    <tr>\n      <th>C4</th>\n      <td>3636.0</td>\n      <td>6.424642</td>\n      <td>5.084063</td>\n      <td>0.600000</td>\n      <td>1.700000</td>\n      <td>5.300000</td>\n      <td>9.900000</td>\n      <td>65.800000</td>\n    </tr>\n    <tr>\n      <th>C5</th>\n      <td>3659.0</td>\n      <td>40.685294</td>\n      <td>25.106022</td>\n      <td>0.020000</td>\n      <td>33.000000</td>\n      <td>41.000000</td>\n      <td>49.000000</td>\n      <td>346.000000</td>\n    </tr>\n    <tr>\n      <th>C6</th>\n      <td>3655.0</td>\n      <td>35.216142</td>\n      <td>17.167346</td>\n      <td>2.000000</td>\n      <td>23.000000</td>\n      <td>34.000000</td>\n      <td>46.000000</td>\n      <td>289.000000</td>\n    </tr>\n    <tr>\n      <th>C7</th>\n      <td>3645.0</td>\n      <td>4.885591</td>\n      <td>0.341723</td>\n      <td>2.302585</td>\n      <td>4.691348</td>\n      <td>4.912655</td>\n      <td>5.129899</td>\n      <td>6.089045</td>\n    </tr>\n    <tr>\n      <th>C8</th>\n      <td>3646.0</td>\n      <td>65.824651</td>\n      <td>245.359289</td>\n      <td>0.987110</td>\n      <td>0.991800</td>\n      <td>0.994100</td>\n      <td>0.996825</td>\n      <td>1001.000000</td>\n    </tr>\n    <tr>\n      <th>C9</th>\n      <td>3658.0</td>\n      <td>3.188291</td>\n      <td>0.152155</td>\n      <td>2.720000</td>\n      <td>3.090000</td>\n      <td>3.180000</td>\n      <td>3.280000</td>\n      <td>3.820000</td>\n    </tr>\n    <tr>\n      <th>C10</th>\n      <td>3639.0</td>\n      <td>0.395421</td>\n      <td>0.074535</td>\n      <td>0.198851</td>\n      <td>0.343590</td>\n      <td>0.385262</td>\n      <td>0.438255</td>\n      <td>0.732368</td>\n    </tr>\n    <tr>\n      <th>C11</th>\n      <td>3658.0</td>\n      <td>10.491607</td>\n      <td>1.218126</td>\n      <td>8.000000</td>\n      <td>9.400000</td>\n      <td>10.300000</td>\n      <td>11.300000</td>\n      <td>14.000000</td>\n    </tr>\n    <tr>\n      <th>QUALITY</th>\n      <td>3918.0</td>\n      <td>5.870342</td>\n      <td>0.887340</td>\n      <td>3.000000</td>\n      <td>5.000000</td>\n      <td>6.000000</td>\n      <td>6.000000</td>\n      <td>9.000000</td>\n    </tr>\n  </tbody>\n</table>\n</div>"
     },
     "execution_count": 100,
     "metadata": {},
     "output_type": "execute_result"
    }
   ],
   "source": [
    "df.describe().T"
   ],
   "metadata": {
    "collapsed": false,
    "ExecuteTime": {
     "end_time": "2023-10-01T18:25:34.224918983Z",
     "start_time": "2023-10-01T18:25:33.753093184Z"
    }
   },
   "id": "5f91ac2d9b897cae"
  },
  {
   "cell_type": "code",
   "execution_count": 101,
   "outputs": [
    {
     "data": {
      "text/plain": "{'C2': 853,\n 'C5_below': 906,\n 'C5_above': 820,\n 'C4': 906,\n 'C6_below': 873,\n 'C6_above': 879,\n 'C8': 290}"
     },
     "execution_count": 101,
     "metadata": {},
     "output_type": "execute_result"
    }
   ],
   "source": [
    "# Calculando la cantidad de valores atípicos según los criterios dados para cada característica\n",
    "\n",
    "# C2\n",
    "outliers_C2 = df[df['C2'] > 0.29]\n",
    "\n",
    "# C5\n",
    "outliers_C5_below = df[df['C5'] < 33]\n",
    "outliers_C5_above = df[df['C5'] > 49]\n",
    "\n",
    "# C4\n",
    "outliers_C4 = df[df['C4'] > 9.9]\n",
    "\n",
    "# C6\n",
    "outliers_C6_below = df[df['C6'] < 23]\n",
    "outliers_C6_above = df[df['C6'] > 46]\n",
    "\n",
    "# C8\n",
    "outliers_C8 = df[df['C8'] > 1]\n",
    "\n",
    "outliers_counts = {\n",
    "    'C2': len(outliers_C2),\n",
    "    'C5_below': len(outliers_C5_below),\n",
    "    'C5_above': len(outliers_C5_above),\n",
    "    'C4': len(outliers_C4),\n",
    "    'C6_below': len(outliers_C6_below),\n",
    "    'C6_above': len(outliers_C6_above),\n",
    "    'C8': len(outliers_C8)\n",
    "}\n",
    "\n",
    "outliers_counts"
   ],
   "metadata": {
    "collapsed": false,
    "ExecuteTime": {
     "end_time": "2023-10-01T18:25:34.225102349Z",
     "start_time": "2023-10-01T18:25:33.753191862Z"
    }
   },
   "id": "a1b6125081190c8f"
  },
  {
   "cell_type": "code",
   "execution_count": 102,
   "outputs": [
    {
     "data": {
      "text/plain": "{'C2 > 0.29': count    853.000000\n mean       5.728019\n std        0.980383\n min        3.000000\n 25%        5.000000\n 50%        6.000000\n 75%        6.000000\n max        9.000000\n Name: QUALITY, dtype: float64,\n 'C5 < 33': count    906.000000\n mean       6.073951\n std        0.923628\n min        3.000000\n 25%        5.000000\n 50%        6.000000\n 75%        7.000000\n max        9.000000\n Name: QUALITY, dtype: float64,\n 'C5 > 49': count    820.000000\n mean       5.580488\n std        0.817758\n min        3.000000\n 25%        5.000000\n 50%        6.000000\n 75%        6.000000\n max        8.000000\n Name: QUALITY, dtype: float64,\n 'C4 > 9.9': count    906.000000\n mean       5.730684\n std        0.817142\n min        3.000000\n 25%        5.000000\n 50%        6.000000\n 75%        6.000000\n max        9.000000\n Name: QUALITY, dtype: float64,\n 'C6 < 23': count    873.000000\n mean       5.681558\n std        0.941812\n min        3.000000\n 25%        5.000000\n 50%        6.000000\n 75%        6.000000\n max        8.000000\n Name: QUALITY, dtype: float64,\n 'C6 > 46': count    879.000000\n mean       5.737201\n std        0.798841\n min        3.000000\n 25%        5.000000\n 50%        6.000000\n 75%        6.000000\n max        8.000000\n Name: QUALITY, dtype: float64,\n 'C8 > 1': count    290.000000\n mean       5.858621\n std        0.968721\n min        3.000000\n 25%        5.000000\n 50%        6.000000\n 75%        6.000000\n max        9.000000\n Name: QUALITY, dtype: float64}"
     },
     "execution_count": 102,
     "metadata": {},
     "output_type": "execute_result"
    }
   ],
   "source": [
    "# Filtrando los datos atípicos para cada característica y extrayendo la columna \"QUALITY\"\n",
    "quality_c2 = df[df['C2'] > 0.29]['QUALITY']\n",
    "quality_c5_below = df[df['C5'] < 33]['QUALITY']\n",
    "quality_c5_above = df[df['C5'] > 49]['QUALITY']\n",
    "quality_c4 = df[df['C4'] > 9.9]['QUALITY']\n",
    "quality_c6_below = df[df['C6'] < 23]['QUALITY']\n",
    "quality_c6_above = df[df['C6'] > 46]['QUALITY']\n",
    "quality_c8 = df[df['C8'] > 1]['QUALITY']\n",
    "\n",
    "# Creando un diccionario con las distribuciones de \"QUALITY\" para cada conjunto de observaciones atípicas\n",
    "quality_distributions = {\n",
    "    'C2 > 0.29': quality_c2,\n",
    "    'C5 < 33': quality_c5_below,\n",
    "    'C5 > 49': quality_c5_above,\n",
    "    'C4 > 9.9': quality_c4,\n",
    "    'C6 < 23': quality_c6_below,\n",
    "    'C6 > 46': quality_c6_above,\n",
    "    'C8 > 1': quality_c8\n",
    "}\n",
    "\n",
    "# Retornando las descripciones de estas distribuciones\n",
    "quality_descriptions = {key: value.describe() for key, value in quality_distributions.items()}\n",
    "quality_descriptions"
   ],
   "metadata": {
    "collapsed": false,
    "ExecuteTime": {
     "end_time": "2023-10-01T18:25:34.225342152Z",
     "start_time": "2023-10-01T18:25:33.753249630Z"
    }
   },
   "id": "389732439d4efec5"
  },
  {
   "cell_type": "code",
   "execution_count": 103,
   "outputs": [
    {
     "data": {
      "text/plain": "count    3646.000000\nmean        0.979775\nstd         0.117781\nmin         0.001000\n25%         0.991660\n50%         0.993630\n75%         0.995900\nmax         1.001000\nName: C8, dtype: float64"
     },
     "execution_count": 103,
     "metadata": {},
     "output_type": "execute_result"
    }
   ],
   "source": [
    "# Corregir los valores de C8 mayores a 1 dividiéndolos por 1000 en el DataFrame original\n",
    "df[\"C8\"] = df[\"C8\"].apply(lambda x: x / 1000 if x > 1 else x)\n",
    "\n",
    "# Verificar el cambio\n",
    "df[\"C8\"].describe()"
   ],
   "metadata": {
    "collapsed": false,
    "ExecuteTime": {
     "end_time": "2023-10-01T18:25:34.225534557Z",
     "start_time": "2023-10-01T18:25:33.753325098Z"
    }
   },
   "id": "7ea74486a77eb548"
  },
  {
   "cell_type": "code",
   "execution_count": 104,
   "outputs": [
    {
     "data": {
      "text/plain": "C1         0\nC2         0\nC3         0\nC4         0\nC5         0\nC6         0\nC7         0\nC8         0\nC9         0\nC10        0\nC11        0\nQUALITY    0\ndtype: int64"
     },
     "execution_count": 104,
     "metadata": {},
     "output_type": "execute_result"
    }
   ],
   "source": [
    "# Imputar datos faltantes con la mediana\n",
    "df_filled = df.copy()\n",
    "for column in df_filled.columns:\n",
    "    df_filled[column].fillna(df_filled[column].median(), inplace=True)\n",
    "\n",
    "# Verificar si quedan datos faltantes\n",
    "missing_values = df_filled.isnull().sum()\n",
    "\n",
    "missing_values"
   ],
   "metadata": {
    "collapsed": false,
    "ExecuteTime": {
     "end_time": "2023-10-01T18:25:34.225731342Z",
     "start_time": "2023-10-01T18:25:33.753364987Z"
    }
   },
   "id": "4a5ed26cef5b6755"
  },
  {
   "cell_type": "code",
   "execution_count": 105,
   "outputs": [
    {
     "data": {
      "text/plain": "       C1        C2        C3    C4     C5    C6        C7       C8    C9  \\\n0     6.8  0.190620  0.307485  18.1  46.00  32.0  4.897840  1.00000  3.27   \n1     6.2  0.246860  0.277632   5.0  43.00  50.0  5.241747  0.99318  3.23   \n2     6.7  0.350657  0.329304  12.1   0.04  61.0  5.517453  0.99794  3.31   \n3     6.8  0.254642  0.405465  13.3  53.00  48.0  5.273000  0.99740  3.09   \n4     6.6  0.215111  0.239017  15.8  35.00  46.0  5.241747  0.99820  3.24   \n...   ...       ...       ...   ...    ...   ...       ...      ...   ...   \n3913  7.7  0.231112  0.215111  11.2  31.00  41.0  5.123964  0.99480  3.12   \n3914  8.1  0.378436  0.270027   1.7  52.00  50.0  5.214936  0.99230  3.03   \n3915  6.1  0.148420  0.254642   6.0   0.03  29.0  4.976734  0.99474  3.68   \n3916  8.2  0.239017  0.329304   7.8  41.00  49.0  5.342334  0.99760  3.31   \n3917  6.8  0.165514  0.246860   9.8  39.00  29.0  4.736198  0.99406  3.11   \n\n           C10   C11  QUALITY  \n0     0.392042   8.8        5  \n1     0.494696  10.8        6  \n2     0.457425   9.7        5  \n3     0.371564   9.4        5  \n4     0.412110   9.2        5  \n...        ...   ...      ...  \n3913  0.357674  11.3        7  \n3914  0.350657  11.2        5  \n3915  0.378436  10.7        6  \n3916  0.412110   9.5        6  \n3917  0.371564  10.9        7  \n\n[3918 rows x 12 columns]",
      "text/html": "<div>\n<style scoped>\n    .dataframe tbody tr th:only-of-type {\n        vertical-align: middle;\n    }\n\n    .dataframe tbody tr th {\n        vertical-align: top;\n    }\n\n    .dataframe thead th {\n        text-align: right;\n    }\n</style>\n<table border=\"1\" class=\"dataframe\">\n  <thead>\n    <tr style=\"text-align: right;\">\n      <th></th>\n      <th>C1</th>\n      <th>C2</th>\n      <th>C3</th>\n      <th>C4</th>\n      <th>C5</th>\n      <th>C6</th>\n      <th>C7</th>\n      <th>C8</th>\n      <th>C9</th>\n      <th>C10</th>\n      <th>C11</th>\n      <th>QUALITY</th>\n    </tr>\n  </thead>\n  <tbody>\n    <tr>\n      <th>0</th>\n      <td>6.8</td>\n      <td>0.190620</td>\n      <td>0.307485</td>\n      <td>18.1</td>\n      <td>46.00</td>\n      <td>32.0</td>\n      <td>4.897840</td>\n      <td>1.00000</td>\n      <td>3.27</td>\n      <td>0.392042</td>\n      <td>8.8</td>\n      <td>5</td>\n    </tr>\n    <tr>\n      <th>1</th>\n      <td>6.2</td>\n      <td>0.246860</td>\n      <td>0.277632</td>\n      <td>5.0</td>\n      <td>43.00</td>\n      <td>50.0</td>\n      <td>5.241747</td>\n      <td>0.99318</td>\n      <td>3.23</td>\n      <td>0.494696</td>\n      <td>10.8</td>\n      <td>6</td>\n    </tr>\n    <tr>\n      <th>2</th>\n      <td>6.7</td>\n      <td>0.350657</td>\n      <td>0.329304</td>\n      <td>12.1</td>\n      <td>0.04</td>\n      <td>61.0</td>\n      <td>5.517453</td>\n      <td>0.99794</td>\n      <td>3.31</td>\n      <td>0.457425</td>\n      <td>9.7</td>\n      <td>5</td>\n    </tr>\n    <tr>\n      <th>3</th>\n      <td>6.8</td>\n      <td>0.254642</td>\n      <td>0.405465</td>\n      <td>13.3</td>\n      <td>53.00</td>\n      <td>48.0</td>\n      <td>5.273000</td>\n      <td>0.99740</td>\n      <td>3.09</td>\n      <td>0.371564</td>\n      <td>9.4</td>\n      <td>5</td>\n    </tr>\n    <tr>\n      <th>4</th>\n      <td>6.6</td>\n      <td>0.215111</td>\n      <td>0.239017</td>\n      <td>15.8</td>\n      <td>35.00</td>\n      <td>46.0</td>\n      <td>5.241747</td>\n      <td>0.99820</td>\n      <td>3.24</td>\n      <td>0.412110</td>\n      <td>9.2</td>\n      <td>5</td>\n    </tr>\n    <tr>\n      <th>...</th>\n      <td>...</td>\n      <td>...</td>\n      <td>...</td>\n      <td>...</td>\n      <td>...</td>\n      <td>...</td>\n      <td>...</td>\n      <td>...</td>\n      <td>...</td>\n      <td>...</td>\n      <td>...</td>\n      <td>...</td>\n    </tr>\n    <tr>\n      <th>3913</th>\n      <td>7.7</td>\n      <td>0.231112</td>\n      <td>0.215111</td>\n      <td>11.2</td>\n      <td>31.00</td>\n      <td>41.0</td>\n      <td>5.123964</td>\n      <td>0.99480</td>\n      <td>3.12</td>\n      <td>0.357674</td>\n      <td>11.3</td>\n      <td>7</td>\n    </tr>\n    <tr>\n      <th>3914</th>\n      <td>8.1</td>\n      <td>0.378436</td>\n      <td>0.270027</td>\n      <td>1.7</td>\n      <td>52.00</td>\n      <td>50.0</td>\n      <td>5.214936</td>\n      <td>0.99230</td>\n      <td>3.03</td>\n      <td>0.350657</td>\n      <td>11.2</td>\n      <td>5</td>\n    </tr>\n    <tr>\n      <th>3915</th>\n      <td>6.1</td>\n      <td>0.148420</td>\n      <td>0.254642</td>\n      <td>6.0</td>\n      <td>0.03</td>\n      <td>29.0</td>\n      <td>4.976734</td>\n      <td>0.99474</td>\n      <td>3.68</td>\n      <td>0.378436</td>\n      <td>10.7</td>\n      <td>6</td>\n    </tr>\n    <tr>\n      <th>3916</th>\n      <td>8.2</td>\n      <td>0.239017</td>\n      <td>0.329304</td>\n      <td>7.8</td>\n      <td>41.00</td>\n      <td>49.0</td>\n      <td>5.342334</td>\n      <td>0.99760</td>\n      <td>3.31</td>\n      <td>0.412110</td>\n      <td>9.5</td>\n      <td>6</td>\n    </tr>\n    <tr>\n      <th>3917</th>\n      <td>6.8</td>\n      <td>0.165514</td>\n      <td>0.246860</td>\n      <td>9.8</td>\n      <td>39.00</td>\n      <td>29.0</td>\n      <td>4.736198</td>\n      <td>0.99406</td>\n      <td>3.11</td>\n      <td>0.371564</td>\n      <td>10.9</td>\n      <td>7</td>\n    </tr>\n  </tbody>\n</table>\n<p>3918 rows × 12 columns</p>\n</div>"
     },
     "execution_count": 105,
     "metadata": {},
     "output_type": "execute_result"
    }
   ],
   "source": [
    "df_filled"
   ],
   "metadata": {
    "collapsed": false,
    "ExecuteTime": {
     "end_time": "2023-10-01T18:25:34.226343055Z",
     "start_time": "2023-10-01T18:25:33.764131020Z"
    }
   },
   "id": "759771e5ffc287cf"
  },
  {
   "cell_type": "code",
   "execution_count": 106,
   "outputs": [],
   "source": [
    "X = df_filled.drop(columns=['QUALITY'])\n",
    "y = df_filled['QUALITY']\n",
    "\n",
    "X_train, X_test, y_train, y_test = train_test_split(X, y, test_size=0.2, random_state=42)\n",
    "\n",
    "scaler = StandardScaler()\n",
    "X_train_std = scaler.fit_transform(X_train)\n",
    "X_test_std = scaler.transform(X_test)"
   ],
   "metadata": {
    "collapsed": false,
    "ExecuteTime": {
     "end_time": "2023-10-01T18:25:34.226946889Z",
     "start_time": "2023-10-01T18:25:33.768623099Z"
    }
   },
   "id": "5c0a02657c134fff"
  },
  {
   "cell_type": "code",
   "execution_count": 134,
   "outputs": [
    {
     "name": "stdout",
     "output_type": "stream",
     "text": [
      "MAE for Linear Regression: 0.6218\n"
     ]
    }
   ],
   "source": [
    "from sklearn.linear_model import LinearRegression\n",
    "from sklearn.metrics import mean_absolute_error\n",
    "\n",
    "lr = LinearRegression()\n",
    "lr.fit(X_train_std, y_train)\n",
    "predictions_lr = lr.predict(X_test_std)\n",
    "mae_lr = mean_absolute_error(y_test, predictions_lr)\n",
    "print(f\"MAE for Linear Regression: {mae_lr:.4f}\")"
   ],
   "metadata": {
    "collapsed": false,
    "ExecuteTime": {
     "end_time": "2023-10-01T19:34:16.086409695Z",
     "start_time": "2023-10-01T19:34:16.027774606Z"
    }
   },
   "id": "ac01be2b677f7bf2"
  },
  {
   "cell_type": "code",
   "execution_count": 108,
   "outputs": [
    {
     "name": "stdout",
     "output_type": "stream",
     "text": [
      "MAE for Ridge Regression: 0.6218\n"
     ]
    }
   ],
   "source": [
    "from sklearn.linear_model import Ridge\n",
    "\n",
    "ridge = Ridge(random_state=42)\n",
    "ridge.fit(X_train_std, y_train)\n",
    "predictions_ridge = ridge.predict(X_test_std)\n",
    "mae_ridge = mean_absolute_error(y_test, predictions_ridge)\n",
    "print(f\"MAE for Ridge Regression: {mae_ridge:.4f}\")"
   ],
   "metadata": {
    "collapsed": false,
    "ExecuteTime": {
     "end_time": "2023-10-01T18:25:34.227278040Z",
     "start_time": "2023-10-01T18:25:33.809212444Z"
    }
   },
   "id": "7f3077eb5619cff"
  },
  {
   "cell_type": "code",
   "execution_count": 109,
   "outputs": [
    {
     "name": "stdout",
     "output_type": "stream",
     "text": [
      "MAE for Lasso Regression: 0.6500\n"
     ]
    }
   ],
   "source": [
    "from sklearn.linear_model import Lasso\n",
    "\n",
    "lasso = Lasso(random_state=42)\n",
    "lasso.fit(X_train_std, y_train)\n",
    "predictions_lasso = lasso.predict(X_test_std)\n",
    "mae_lasso = mean_absolute_error(y_test, predictions_lasso)\n",
    "print(f\"MAE for Lasso Regression: {mae_lasso:.4f}\")"
   ],
   "metadata": {
    "collapsed": false,
    "ExecuteTime": {
     "end_time": "2023-10-01T18:25:34.227427696Z",
     "start_time": "2023-10-01T18:25:33.809273603Z"
    }
   },
   "id": "2e0bad927e0be3df"
  },
  {
   "cell_type": "code",
   "execution_count": 110,
   "outputs": [
    {
     "name": "stdout",
     "output_type": "stream",
     "text": [
      "MAE for Decision Tree: 0.6224\n"
     ]
    }
   ],
   "source": [
    "from sklearn.tree import DecisionTreeRegressor\n",
    "\n",
    "dt = DecisionTreeRegressor(random_state=42)\n",
    "dt.fit(X_train_std, y_train)\n",
    "predictions_dt = dt.predict(X_test_std)\n",
    "mae_dt = mean_absolute_error(y_test, predictions_dt)\n",
    "print(f\"MAE for Decision Tree: {mae_dt:.4f}\")"
   ],
   "metadata": {
    "collapsed": false,
    "ExecuteTime": {
     "end_time": "2023-10-01T18:25:34.227910703Z",
     "start_time": "2023-10-01T18:25:33.809330261Z"
    }
   },
   "id": "198df21391c0865e"
  },
  {
   "cell_type": "markdown",
   "source": [
    "## Random Forest"
   ],
   "metadata": {
    "collapsed": false
   },
   "id": "3362e5bb3adb028a"
  },
  {
   "cell_type": "code",
   "execution_count": 111,
   "outputs": [
    {
     "name": "stdout",
     "output_type": "stream",
     "text": [
      "MAE for Random Forest: 0.5089\n"
     ]
    }
   ],
   "source": [
    "from sklearn.ensemble import RandomForestRegressor\n",
    "\n",
    "rf = RandomForestRegressor(random_state=42)\n",
    "rf.fit(X_train_std, y_train)\n",
    "predictions_rf = rf.predict(X_test_std)\n",
    "mae_rf = mean_absolute_error(y_test, predictions_rf)\n",
    "print(f\"MAE for Random Forest: {mae_rf:.4f}\")"
   ],
   "metadata": {
    "collapsed": false,
    "ExecuteTime": {
     "end_time": "2023-10-01T18:25:35.147450306Z",
     "start_time": "2023-10-01T18:25:33.853078672Z"
    }
   },
   "id": "5b47aa29e25a4476"
  },
  {
   "cell_type": "code",
   "execution_count": 112,
   "outputs": [
    {
     "data": {
      "text/plain": "({'bootstrap': True,\n  'max_depth': None,\n  'min_samples_leaf': 1,\n  'min_samples_split': 2,\n  'n_estimators': 150},\n 0.5200567130868123)"
     },
     "execution_count": 112,
     "metadata": {},
     "output_type": "execute_result"
    }
   ],
   "source": [
    "from sklearn.model_selection import GridSearchCV\n",
    "from sklearn.ensemble import RandomForestRegressor\n",
    "\n",
    "# Definir los hiperparámetros y sus posibles valores\n",
    "param_grid_forest = {\n",
    "    'n_estimators': [50, 100, 150],\n",
    "    'max_depth': [None, 5, 6, 7, 8, 9, 10],\n",
    "    'min_samples_split': [2, 3, 4, 5],\n",
    "    'min_samples_leaf': [1, 2, 3, 4],\n",
    "    'bootstrap': [True, False]\n",
    "}\n",
    "\n",
    "# Instanciar el modelo y el GridSearchCV\n",
    "forest = RandomForestRegressor(random_state=42)\n",
    "grid_search_forest = GridSearchCV(forest, param_grid_forest, cv=5, scoring='neg_mean_absolute_error', n_jobs=-1)\n",
    "\n",
    "# Ajustar el GridSearchCV al conjunto de datos estandarizado\n",
    "grid_search_forest.fit(X_train_std, y_train)\n",
    "\n",
    "# Obtener los mejores hiperparámetros y el mejor MAE\n",
    "best_params_forest = grid_search_forest.best_params_\n",
    "best_mae_forest = -grid_search_forest.best_score_\n",
    "\n",
    "best_params_forest, best_mae_forest"
   ],
   "metadata": {
    "collapsed": false,
    "ExecuteTime": {
     "end_time": "2023-10-01T18:29:02.977233413Z",
     "start_time": "2023-10-01T18:25:35.145959636Z"
    }
   },
   "id": "10852667e9c79333"
  },
  {
   "cell_type": "code",
   "execution_count": 113,
   "outputs": [
    {
     "name": "stdout",
     "output_type": "stream",
     "text": [
      "MAE for Random Forest: 0.1862\n"
     ]
    }
   ],
   "source": [
    "from sklearn.ensemble import RandomForestRegressor\n",
    "\n",
    "rf = RandomForestRegressor(max_depth=None, min_samples_leaf=1, min_samples_split=2, n_estimators=150, random_state=42)\n",
    "rf.fit(X_train_std, y_train)\n",
    "predictions_rf = rf.predict(X_train_std)\n",
    "mae_rf = mean_absolute_error(y_train, predictions_rf)\n",
    "print(f\"MAE for Random Forest: {mae_rf:.4f}\")"
   ],
   "metadata": {
    "collapsed": false,
    "ExecuteTime": {
     "end_time": "2023-10-01T18:29:04.827589946Z",
     "start_time": "2023-10-01T18:29:02.969073480Z"
    }
   },
   "id": "ce9b04891795f9d"
  },
  {
   "cell_type": "code",
   "execution_count": 114,
   "outputs": [
    {
     "name": "stdout",
     "output_type": "stream",
     "text": [
      "MAE for Random Forest: 0.1871\n"
     ]
    }
   ],
   "source": [
    "from sklearn.ensemble import RandomForestRegressor\n",
    "\n",
    "rf = RandomForestRegressor(\n",
    "    max_depth=30,\n",
    "    min_samples_leaf=1,\n",
    "    min_samples_split=2,\n",
    "    n_estimators=100,\n",
    "    bootstrap=True,\n",
    "    random_state=42)\n",
    "rf.fit(X_train_std, y_train)\n",
    "predictions_rf = rf.predict(X_train_std)\n",
    "mae_rf = mean_absolute_error(y_train, predictions_rf)\n",
    "print(f\"MAE for Random Forest: {mae_rf:.4f}\")"
   ],
   "metadata": {
    "collapsed": false,
    "ExecuteTime": {
     "end_time": "2023-10-01T18:29:06.096995021Z",
     "start_time": "2023-10-01T18:29:04.844341628Z"
    }
   },
   "id": "e0576ae41aedeb1f"
  },
  {
   "cell_type": "markdown",
   "source": [
    "## SVR"
   ],
   "metadata": {
    "collapsed": false
   },
   "id": "8f6d3ce005c5fcbb"
  },
  {
   "cell_type": "code",
   "execution_count": 115,
   "outputs": [
    {
     "name": "stdout",
     "output_type": "stream",
     "text": [
      "MAE for SVR: 0.5674\n"
     ]
    }
   ],
   "source": [
    "from sklearn.svm import SVR\n",
    "\n",
    "svr = SVR()\n",
    "svr.fit(X_train_std, y_train)\n",
    "predictions_svr = svr.predict(X_test_std)\n",
    "mae_svr = mean_absolute_error(y_test, predictions_svr)\n",
    "print(f\"MAE for SVR: {mae_svr:.4f}\")"
   ],
   "metadata": {
    "collapsed": false,
    "ExecuteTime": {
     "end_time": "2023-10-01T18:29:06.447468819Z",
     "start_time": "2023-10-01T18:29:06.095828092Z"
    }
   },
   "id": "b780342c43940ef0"
  },
  {
   "cell_type": "markdown",
   "source": [
    "## AdaBoost"
   ],
   "metadata": {
    "collapsed": false
   },
   "id": "3fbae997543446da"
  },
  {
   "cell_type": "code",
   "execution_count": 116,
   "outputs": [
    {
     "name": "stdout",
     "output_type": "stream",
     "text": [
      "MAE for AdaBoost: 0.5971\n"
     ]
    }
   ],
   "source": [
    "from sklearn.ensemble import AdaBoostRegressor\n",
    "\n",
    "adaboost = AdaBoostRegressor(random_state=42)\n",
    "adaboost.fit(X_train_std, y_train)\n",
    "predictions_adaboost = adaboost.predict(X_test_std)\n",
    "mae_adaboost = mean_absolute_error(y_test, predictions_adaboost)\n",
    "print(f\"MAE for AdaBoost: {mae_adaboost:.4f}\")"
   ],
   "metadata": {
    "collapsed": false,
    "ExecuteTime": {
     "end_time": "2023-10-01T18:29:06.645021267Z",
     "start_time": "2023-10-01T18:29:06.446541434Z"
    }
   },
   "id": "9026a9dbe20f8383"
  },
  {
   "cell_type": "markdown",
   "source": [
    "## Gradient Boosting"
   ],
   "metadata": {
    "collapsed": false
   },
   "id": "8ded69f2d81d5430"
  },
  {
   "cell_type": "code",
   "execution_count": 117,
   "outputs": [
    {
     "name": "stdout",
     "output_type": "stream",
     "text": [
      "MAE for Gradient Boosting: 0.5603\n"
     ]
    }
   ],
   "source": [
    "from sklearn.ensemble import GradientBoostingRegressor\n",
    "\n",
    "gb = GradientBoostingRegressor(random_state=42)\n",
    "gb.fit(X_train_std, y_train)\n",
    "predictions_gb = gb.predict(X_test_std)\n",
    "mae_gb = mean_absolute_error(y_test, predictions_gb)\n",
    "print(f\"MAE for Gradient Boosting: {mae_gb:.4f}\")"
   ],
   "metadata": {
    "collapsed": false,
    "ExecuteTime": {
     "end_time": "2023-10-01T18:29:07.037297509Z",
     "start_time": "2023-10-01T18:29:06.640016221Z"
    }
   },
   "id": "d795cfe9711af358"
  },
  {
   "cell_type": "code",
   "execution_count": 118,
   "outputs": [
    {
     "name": "stdout",
     "output_type": "stream",
     "text": [
      "MAE of Gradient Boosting Regression: 0.2112\n"
     ]
    }
   ],
   "source": [
    "# Hiperparámetros optimizados\n",
    "gb_model_std = GradientBoostingRegressor(\n",
    "    learning_rate=0.1,\n",
    "    max_depth=7,\n",
    "    max_features='sqrt',\n",
    "    min_samples_leaf=3,\n",
    "    min_samples_split=2,\n",
    "    n_estimators=150,\n",
    "    subsample=1.0,\n",
    "    random_state=42)  # Puedes ajustar los hiperparámetros según sea necesario\n",
    "gb_model_std.fit(X_train_std, y_train)\n",
    "\n",
    "# Hacer predicciones en el conjunto de entrenamiento\n",
    "y_train_pred_gb = gb_model_std.predict(X_train_std)\n",
    "\n",
    "# Calcular el MAE para las predicciones\n",
    "mae_gb_std = mean_absolute_error(y_train, y_train_pred_gb)\n",
    "print(f'MAE of Gradient Boosting Regression: {mae_gb_std:.4}')"
   ],
   "metadata": {
    "collapsed": false,
    "ExecuteTime": {
     "end_time": "2023-10-01T18:29:07.470419261Z",
     "start_time": "2023-10-01T18:29:07.036537249Z"
    }
   },
   "id": "225ab5d351af39f4"
  },
  {
   "cell_type": "code",
   "execution_count": 119,
   "outputs": [
    {
     "name": "stdout",
     "output_type": "stream",
     "text": [
      "MAE of Gradient Boosting Regression: 0.2622\n"
     ]
    }
   ],
   "source": [
    "# Hiperparámetros optimizados\n",
    "gb_model_std = GradientBoostingRegressor(\n",
    "    learning_rate=0.1,\n",
    "    max_depth=7,\n",
    "    max_features='sqrt',\n",
    "    min_samples_leaf=3,\n",
    "    min_samples_split=2,\n",
    "    n_estimators=100,\n",
    "    subsample=0.9,\n",
    "    random_state=42)  # Puedes ajustar los hiperparámetros según sea necesario\n",
    "gb_model_std.fit(X_train_std, y_train)\n",
    "\n",
    "# Hacer predicciones en el conjunto de entrenamiento\n",
    "y_train_pred_gb = gb_model_std.predict(X_train_std)\n",
    "\n",
    "# Calcular el MAE para las predicciones\n",
    "mae_gb_std = mean_absolute_error(y_train, y_train_pred_gb)\n",
    "print(f'MAE of Gradient Boosting Regression: {mae_gb_std:.4}')"
   ],
   "metadata": {
    "collapsed": false,
    "ExecuteTime": {
     "end_time": "2023-10-01T18:29:07.750750331Z",
     "start_time": "2023-10-01T18:29:07.468938381Z"
    }
   },
   "id": "1769f74f3016ff9d"
  },
  {
   "cell_type": "markdown",
   "source": [
    "## XGBoost"
   ],
   "metadata": {
    "collapsed": false
   },
   "id": "d4e0b362d69dad6e"
  },
  {
   "cell_type": "code",
   "execution_count": 120,
   "outputs": [
    {
     "name": "stdout",
     "output_type": "stream",
     "text": [
      "MAE of XGBoost: 0.163\n"
     ]
    }
   ],
   "source": [
    "# Hiperparámetros optimizados\n",
    "# Aplicar los hiperparámetros óptimos al modelo XGBoost\n",
    "optimized_xgb = xgb.XGBRegressor(objective='reg:squarederror',\n",
    "                                 subsample=1.0,\n",
    "                                 min_child_weight=4,\n",
    "                                 max_depth=9,\n",
    "                                 learning_rate=0.1,\n",
    "                                 gamma=0,\n",
    "                                 colsample_bytree=0.6,\n",
    "                                 random_state=42)\n",
    "\n",
    "# Entrenar el modelo con los datos estandarizados\n",
    "optimized_xgb.fit(X_train_std, y_train)\n",
    "\n",
    "# Hacer predicciones en el conjunto de entrenamiento\n",
    "xgb_optimized_predictions = optimized_xgb.predict(X_train_std)\n",
    "\n",
    "# Calcular el MAE\n",
    "mae_optimized_xgb = mean_absolute_error(y_train, xgb_optimized_predictions)\n",
    "mae_optimized_xgb\n",
    "print(f'MAE of XGBoost: {mae_optimized_xgb:.4}')"
   ],
   "metadata": {
    "collapsed": false,
    "ExecuteTime": {
     "end_time": "2023-10-01T18:29:07.999616070Z",
     "start_time": "2023-10-01T18:29:07.749036056Z"
    }
   },
   "id": "a3df56d4b83091d"
  },
  {
   "cell_type": "code",
   "execution_count": 121,
   "outputs": [
    {
     "name": "stdout",
     "output_type": "stream",
     "text": [
      "MAE of XGBoost: 0.06777\n"
     ]
    }
   ],
   "source": [
    "# Hiperparámetros optimizados\n",
    "# Aplicar los hiperparámetros óptimos al modelo XGBoost\n",
    "optimized_xgb = xgb.XGBRegressor(objective='reg:squarederror',\n",
    "                                 subsample=1.0,\n",
    "                                 min_child_weight=4,\n",
    "                                 max_depth=9,\n",
    "                                 learning_rate=0.1,\n",
    "                                 gamma=0,\n",
    "                                 colsample_bytree=0.6,\n",
    "                                 random_state=42)\n",
    "\n",
    "# Entrenar el modelo con los datos estandarizados\n",
    "optimized_xgb.fit(X_test_std, y_test)\n",
    "\n",
    "# Hacer predicciones en el conjunto de entrenamiento\n",
    "xgb_optimized_predictions = optimized_xgb.predict(X_test_std)\n",
    "\n",
    "# Calcular el MAE\n",
    "mae_optimized_xgb = mean_absolute_error(y_test, xgb_optimized_predictions)\n",
    "mae_optimized_xgb\n",
    "print(f'MAE of XGBoost: {mae_optimized_xgb:.4}')"
   ],
   "metadata": {
    "collapsed": false,
    "ExecuteTime": {
     "end_time": "2023-10-01T18:29:08.228984379Z",
     "start_time": "2023-10-01T18:29:07.997327421Z"
    }
   },
   "id": "fc7c5ae3cc7eb261"
  },
  {
   "cell_type": "code",
   "execution_count": 122,
   "outputs": [
    {
     "name": "stdout",
     "output_type": "stream",
     "text": [
      "MAE of XGBoost: 0.1516\n"
     ]
    }
   ],
   "source": [
    "# Hiperparámetros optimizados\n",
    "# Aplicar los hiperparámetros óptimos al modelo XGBoost\n",
    "optimized_xgb = xgb.XGBRegressor(objective='reg:squarederror',\n",
    "                                 subsample=0.8,\n",
    "                                 min_child_weight=4,\n",
    "                                 max_depth=9,\n",
    "                                 learning_rate=0.1,\n",
    "                                 gamma=0,\n",
    "                                 colsample_bytree=0.8,\n",
    "                                 random_state=42)\n",
    "\n",
    "# Entrenar el modelo con los datos estandarizados\n",
    "optimized_xgb.fit(X_train_std, y_train)\n",
    "\n",
    "# Hacer predicciones en el conjunto de entrenamiento\n",
    "xgb_optimized_predictions = optimized_xgb.predict(X_train_std)\n",
    "\n",
    "# Calcular el MAE\n",
    "mae_optimized_xgb = mean_absolute_error(y_train, xgb_optimized_predictions)\n",
    "mae_optimized_xgb\n",
    "print(f'MAE of XGBoost: {mae_optimized_xgb:.4}')"
   ],
   "metadata": {
    "collapsed": false,
    "ExecuteTime": {
     "end_time": "2023-10-01T18:29:08.419436097Z",
     "start_time": "2023-10-01T18:29:08.227911748Z"
    }
   },
   "id": "e887c12a187146c7"
  },
  {
   "cell_type": "markdown",
   "source": [
    "## Stacking"
   ],
   "metadata": {
    "collapsed": false
   },
   "id": "5a9bf4784f2fb04e"
  },
  {
   "cell_type": "code",
   "execution_count": 123,
   "outputs": [
    {
     "name": "stdout",
     "output_type": "stream",
     "text": [
      "MAE for Stacking Regressor: 0.5105\n"
     ]
    }
   ],
   "source": [
    "from sklearn.ensemble import StackingRegressor\n",
    "\n",
    "base_learners = [\n",
    "    ('rf', RandomForestRegressor(random_state=42)),\n",
    "    ('gb', GradientBoostingRegressor(random_state=42)),\n",
    "    ('ridge', Ridge(random_state=42))\n",
    "]\n",
    "\n",
    "stacking_regressor = StackingRegressor(estimators=base_learners, final_estimator=LinearRegression())\n",
    "stacking_regressor.fit(X_train_std, y_train)\n",
    "predictions_stack = stacking_regressor.predict(X_test_std)\n",
    "mae_stack = mean_absolute_error(y_test, predictions_stack)\n",
    "print(f\"MAE for Stacking Regressor: {mae_stack:.4f}\")"
   ],
   "metadata": {
    "collapsed": false,
    "ExecuteTime": {
     "end_time": "2023-10-01T18:29:16.890943244Z",
     "start_time": "2023-10-01T18:29:08.417108570Z"
    }
   },
   "id": "fe6cf9cd9327cea6"
  },
  {
   "cell_type": "code",
   "execution_count": 124,
   "outputs": [
    {
     "name": "stdout",
     "output_type": "stream",
     "text": [
      "MAE of Stacking Regressor: 0.173959\n"
     ]
    }
   ],
   "source": [
    "from sklearn.ensemble import StackingRegressor\n",
    "from sklearn.linear_model import LinearRegression\n",
    "import xgboost as xgb\n",
    "from sklearn.ensemble import RandomForestRegressor, GradientBoostingRegressor\n",
    "\n",
    "# Define the base models\n",
    "base_models = [\n",
    "    (\"xgb\", xgb.XGBRegressor(objective='reg:squarederror', random_state=42)),\n",
    "    (\"rf\",\n",
    "     RandomForestRegressor(max_depth=None, min_samples_leaf=1, min_samples_split=2, n_estimators=150, random_state=42)),\n",
    "    (\"gb\", GradientBoostingRegressor(learning_rate=0.1, max_depth=7, max_features='sqrt', min_samples_leaf=3,\n",
    "                                     min_samples_split=2, n_estimators=150, subsample=1.0, random_state=42))\n",
    "]\n",
    "\n",
    "# Initialize the Stacking Regressor with the base models and a linear meta-model\n",
    "stacked_model = StackingRegressor(estimators=base_models, final_estimator=LinearRegression())\n",
    "\n",
    "# Train the model\n",
    "stacked_model.fit(X_train_std, y_train)\n",
    "\n",
    "# Predict on the training set\n",
    "stacked_train_predictions = stacked_model.predict(X_train_std)\n",
    "\n",
    "# Calculate the MAE for the Stacking Regressor\n",
    "mae_stacked = mean_absolute_error(y_train, stacked_train_predictions)\n",
    "print(f'MAE of Stacking Regressor: {mae_stacked:.6f}')"
   ],
   "metadata": {
    "collapsed": false,
    "ExecuteTime": {
     "end_time": "2023-10-01T18:29:29.377123674Z",
     "start_time": "2023-10-01T18:29:16.858951328Z"
    }
   },
   "id": "e554b8e0dea132e8"
  },
  {
   "cell_type": "code",
   "execution_count": 125,
   "outputs": [
    {
     "name": "stdout",
     "output_type": "stream",
     "text": [
      "MAE of Stacking Regressor: 0.173959\n"
     ]
    }
   ],
   "source": [
    "from sklearn.ensemble import StackingRegressor\n",
    "from sklearn.linear_model import LinearRegression\n",
    "import xgboost as xgb\n",
    "from sklearn.ensemble import RandomForestRegressor, GradientBoostingRegressor\n",
    "\n",
    "# Define the base models\n",
    "base_models = [\n",
    "    (\"xgb\", xgb.XGBRegressor(objective='reg:squarederror', random_state=42)),\n",
    "    (\"rf\",\n",
    "     RandomForestRegressor(max_depth=None, min_samples_leaf=1, min_samples_split=2, n_estimators=150, random_state=42)),\n",
    "    (\"gb\", GradientBoostingRegressor(learning_rate=0.1, max_depth=7, max_features='sqrt', min_samples_leaf=3,\n",
    "                                     min_samples_split=2, n_estimators=150, subsample=1.0, random_state=42))\n",
    "]\n",
    "\n",
    "# Initialize the Stacking Regressor with the base models and a linear meta-model\n",
    "stacked_model = StackingRegressor(estimators=base_models, final_estimator=LinearRegression())\n",
    "\n",
    "# Train the model\n",
    "stacked_model.fit(X_train_std, y_train)\n",
    "\n",
    "# Predict on the training set\n",
    "stacked_train_predictions = stacked_model.predict(X_train_std)\n",
    "\n",
    "# Calculate the MAE for the Stacking Regressor\n",
    "mae_stacked = mean_absolute_error(y_train, stacked_train_predictions)\n",
    "print(f'MAE of Stacking Regressor: {mae_stacked:.6f}')"
   ],
   "metadata": {
    "collapsed": false,
    "ExecuteTime": {
     "end_time": "2023-10-01T18:29:41.520520014Z",
     "start_time": "2023-10-01T18:29:29.337085872Z"
    }
   },
   "id": "8a7f825a912af1a"
  },
  {
   "cell_type": "code",
   "execution_count": 126,
   "outputs": [
    {
     "name": "stdout",
     "output_type": "stream",
     "text": [
      "MAE of Stacking Regressor: 0.175173\n"
     ]
    }
   ],
   "source": [
    "from xgboost import XGBRegressor\n",
    "\n",
    "# Define los modelos base\n",
    "base_learners = [\n",
    "    ('rf', RandomForestRegressor(max_depth=30,\n",
    "                                 min_samples_leaf=1,\n",
    "                                 min_samples_split=2,\n",
    "                                 n_estimators=100,\n",
    "                                 bootstrap=True,\n",
    "                                 random_state=42)),\n",
    "    ('gboost', GradientBoostingRegressor(learning_rate=0.1,\n",
    "                                         max_depth=7,\n",
    "                                         max_features='sqrt',\n",
    "                                         min_samples_leaf=3,\n",
    "                                         min_samples_split=2,\n",
    "                                         n_estimators=100,\n",
    "                                         subsample=0.9,\n",
    "                                         random_state=42)),\n",
    "    ('xgb', XGBRegressor(objective='reg:squarederror',\n",
    "                         subsample=0.8,\n",
    "                         min_child_weight=4,\n",
    "                         max_depth=9,\n",
    "                         learning_rate=0.1,\n",
    "                         gamma=0,\n",
    "                         colsample_bytree=0.8,\n",
    "                         random_state=42))\n",
    "]\n",
    "\n",
    "# Inicializa el modelo de Stacking\n",
    "stack_reg = StackingRegressor(\n",
    "    estimators=base_learners,\n",
    "    final_estimator=LinearRegression(),\n",
    "    cv=5  # Utiliza validación cruzada con 5 folds para entrenar los modelos base\n",
    ")\n",
    "\n",
    "\n",
    "# Train the model\n",
    "stack_reg.fit(X_train_std, y_train)\n",
    "\n",
    "# Predict on the training set\n",
    "stacked_train_predictions = stack_reg.predict(X_train_std)\n",
    "\n",
    "# Calculate the MAE for the Stacking Regressor\n",
    "mae_stacked = mean_absolute_error(y_train, stacked_train_predictions)\n",
    "print(f'MAE of Stacking Regressor: {mae_stacked:.6f}')"
   ],
   "metadata": {
    "collapsed": false,
    "ExecuteTime": {
     "end_time": "2023-10-01T18:29:50.066243604Z",
     "start_time": "2023-10-01T18:29:41.520714059Z"
    }
   },
   "id": "255a37d8edc6d777"
  },
  {
   "cell_type": "code",
   "execution_count": 130,
   "outputs": [
    {
     "name": "stdout",
     "output_type": "stream",
     "text": [
      "MAE of Stacking Regressor: 0.186861\n"
     ]
    }
   ],
   "source": [
    "from xgboost import XGBRegressor\n",
    "\n",
    "# Define los modelos base\n",
    "base_learners = [\n",
    "    ('rf', RandomForestRegressor(max_depth=30,\n",
    "                                 min_samples_leaf=1,\n",
    "                                 min_samples_split=2,\n",
    "                                 n_estimators=100,\n",
    "                                 bootstrap=True,\n",
    "                                 random_state=42)),\n",
    "    ('gboost', GradientBoostingRegressor(learning_rate=0.1,\n",
    "                                         max_depth=7,\n",
    "                                         max_features='sqrt',\n",
    "                                         min_samples_leaf=3,\n",
    "                                         min_samples_split=2,\n",
    "                                         n_estimators=100,\n",
    "                                         subsample=0.9,\n",
    "                                         random_state=42)),\n",
    "    ('xgb', XGBRegressor(objective='reg:squarederror',\n",
    "                         subsample=0.8,\n",
    "                         min_child_weight=4,\n",
    "                         max_depth=9,\n",
    "                         learning_rate=0.1,\n",
    "                         gamma=0,\n",
    "                         colsample_bytree=0.8,\n",
    "                         random_state=42))\n",
    "]\n",
    "\n",
    "# Inicializa el modelo de Stacking\n",
    "stack_reg = StackingRegressor(\n",
    "    estimators=base_learners,\n",
    "    final_estimator=LinearRegression(),\n",
    "    cv=5  # Utiliza validación cruzada con 5 folds para entrenar los modelos base\n",
    ")\n",
    "\n",
    "\n",
    "# Train the model\n",
    "stack_reg.fit(X_test_std, y_test)\n",
    "\n",
    "# Predict on the training set\n",
    "stacked_train_predictions = stack_reg.predict(X_test_std)\n",
    "\n",
    "# Calculate the MAE for the Stacking Regressor\n",
    "mae_stacked = mean_absolute_error(y_test, stacked_train_predictions)\n",
    "print(f'MAE of Stacking Regressor: {mae_stacked:.6f}')"
   ],
   "metadata": {
    "collapsed": false,
    "ExecuteTime": {
     "end_time": "2023-10-01T18:54:55.998675151Z",
     "start_time": "2023-10-01T18:54:52.679172899Z"
    }
   },
   "id": "52c3b9e2f70d6667"
  },
  {
   "cell_type": "markdown",
   "source": [
    "## Conclusion"
   ],
   "metadata": {
    "collapsed": false
   },
   "id": "86db5210612b2920"
  },
  {
   "cell_type": "code",
   "execution_count": 128,
   "outputs": [
    {
     "name": "stdout",
     "output_type": "stream",
     "text": [
      "               Model       MAE\n",
      "7            XGBoost  0.151644\n",
      "9           Stacking  0.175173\n",
      "4      Random Forest  0.187084\n",
      "8     Gradient Boost  0.262176\n",
      "5                SVR  0.567411\n",
      "6           AdaBoost  0.597148\n",
      "1   Ridge Regression  0.621813\n",
      "0  Linear Regression  0.621816\n",
      "3      Decision Tree  0.622449\n",
      "2   Lasso Regression  0.650031\n"
     ]
    }
   ],
   "source": [
    "# Inicializar un DataFrame para registrar los resultados\n",
    "results_df = pd.DataFrame(columns=['Model', 'MAE'])\n",
    "\n",
    "\n",
    "# Función para añadir resultados al DataFrame\n",
    "def add_result(model_name, mae_value):\n",
    "    global results_df\n",
    "    new_row = pd.DataFrame({'Model': [model_name], 'MAE': [mae_value]})\n",
    "    results_df = pd.concat([results_df, new_row], ignore_index=True)\n",
    "\n",
    "\n",
    "# Añadir los resultados (solo como ejemplo, reemplaza las cifras ficticias con tus valores reales)\n",
    "add_result(\"Linear Regression\", mae_lr)  # Sustituye 0.1234 con tu valor real\n",
    "add_result(\"Ridge Regression\", mae_ridge)  # Sustituye 0.1234 con tu valor real\n",
    "add_result(\"Lasso Regression\", mae_lasso)  # Sustituye 0.2345 con tu valor real\n",
    "add_result(\"Decision Tree\", mae_dt)  # Sustituye 0.2345 con tu valor real\n",
    "add_result(\"Random Forest\", mae_rf)  # Sustituye 0.2345 con tu valor real\n",
    "add_result(\"SVR\", mae_svr)  # Sustituye 0.2345 con tu valor real\n",
    "add_result(\"AdaBoost\", mae_adaboost)  # Sustituye 0.2345 con tu valor real\n",
    "add_result(\"XGBoost\", mae_optimized_xgb)  # Sustituye 0.2345 con tu valor real\n",
    "add_result(\"Gradient Boost\", mae_gb_std)  # Sustituye 0.2345 con tu valor real\n",
    "add_result(\"Stacking\", mae_stacked)  # Sustituye 0.2345 con tu valor real\n",
    "\n",
    "# Muestra el DataFrame\n",
    "sorted_results_df = results_df.sort_values(by=\"MAE\", ascending=True)\n",
    "print(sorted_results_df)"
   ],
   "metadata": {
    "collapsed": false,
    "ExecuteTime": {
     "end_time": "2023-10-01T18:32:07.841305385Z",
     "start_time": "2023-10-01T18:32:07.800535972Z"
    }
   },
   "id": "a9c149908b18a4cd"
  }
 ],
 "metadata": {
  "kernelspec": {
   "display_name": "Python 3",
   "language": "python",
   "name": "python3"
  },
  "language_info": {
   "codemirror_mode": {
    "name": "ipython",
    "version": 2
   },
   "file_extension": ".py",
   "mimetype": "text/x-python",
   "name": "python",
   "nbconvert_exporter": "python",
   "pygments_lexer": "ipython2",
   "version": "2.7.6"
  }
 },
 "nbformat": 4,
 "nbformat_minor": 5
}
