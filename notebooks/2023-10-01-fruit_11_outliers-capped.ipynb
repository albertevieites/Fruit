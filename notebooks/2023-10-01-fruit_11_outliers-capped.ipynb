{
 "cells": [
  {
   "cell_type": "code",
   "execution_count": 2,
   "id": "initial_id",
   "metadata": {
    "collapsed": true,
    "ExecuteTime": {
     "end_time": "2023-10-01T16:31:27.737079315Z",
     "start_time": "2023-10-01T16:31:27.618557347Z"
    }
   },
   "outputs": [],
   "source": [
    "import numpy as np\n",
    "import pandas as pd\n",
    "\n",
    "import matplotlib.pyplot as plt\n",
    "import seaborn as sns\n",
    "\n",
    "from sklearn.preprocessing import StandardScaler\n",
    "from sklearn.preprocessing import MinMaxScaler\n",
    "from sklearn.model_selection import train_test_split\n",
    "from sklearn.decomposition import PCA\n",
    "\n",
    "import warnings\n",
    "\n",
    "warnings.filterwarnings(\"ignore\", category=FutureWarning)"
   ]
  },
  {
   "cell_type": "code",
   "execution_count": 3,
   "outputs": [],
   "source": [
    "df= pd.read_excel(\"../data/raw/entrenamiento.xlsx\")\n",
    "df= df.rename(columns={\"C7.1\": \"C8\", \"des\": \"QUALITY\"})\n",
    "features = df.drop(columns=[\"QUALITY\"])\n",
    "target = df[\"QUALITY\"]"
   ],
   "metadata": {
    "collapsed": false,
    "ExecuteTime": {
     "end_time": "2023-10-01T16:31:28.172549408Z",
     "start_time": "2023-10-01T16:31:27.725062988Z"
    }
   },
   "id": "89f565dc104d541a"
  },
  {
   "cell_type": "markdown",
   "source": [],
   "metadata": {
    "collapsed": false
   },
   "id": "5ac862cd29ebdefe"
  },
  {
   "cell_type": "code",
   "execution_count": 4,
   "outputs": [
    {
     "data": {
      "text/plain": "          count       mean         std       min        25%        50%  \\\nC1       3684.0   6.857166    0.846430  3.800000   6.300000   6.800000   \nC2       3664.0   0.421440    0.988207  0.076961   0.190620   0.231112   \nC3       3648.0   0.284054    0.086887  0.000000   0.239017   0.277632   \nC4       3636.0   6.424642    5.084063  0.600000   1.700000   5.300000   \nC5       3659.0  40.685294   25.106022  0.020000  33.000000  41.000000   \nC6       3655.0  35.216142   17.167346  2.000000  23.000000  34.000000   \nC7       3645.0   4.885591    0.341723  2.302585   4.691348   4.912655   \nC8       3646.0  65.824651  245.359289  0.987110   0.991800   0.994100   \nC9       3658.0   3.188291    0.152155  2.720000   3.090000   3.180000   \nC10      3639.0   0.395421    0.074535  0.198851   0.343590   0.385262   \nC11      3658.0  10.491607    1.218126  8.000000   9.400000  10.300000   \nQUALITY  3918.0   5.870342    0.887340  3.000000   5.000000   6.000000   \n\n               75%          max  \nC1        7.300000    14.200000  \nC2        0.285179     6.913737  \nC3        0.329304     0.802002  \nC4        9.900000    65.800000  \nC5       49.000000   346.000000  \nC6       46.000000   289.000000  \nC7        5.129899     6.089045  \nC8        0.996825  1001.000000  \nC9        3.280000     3.820000  \nC10       0.438255     0.732368  \nC11      11.300000    14.000000  \nQUALITY   6.000000     9.000000  ",
      "text/html": "<div>\n<style scoped>\n    .dataframe tbody tr th:only-of-type {\n        vertical-align: middle;\n    }\n\n    .dataframe tbody tr th {\n        vertical-align: top;\n    }\n\n    .dataframe thead th {\n        text-align: right;\n    }\n</style>\n<table border=\"1\" class=\"dataframe\">\n  <thead>\n    <tr style=\"text-align: right;\">\n      <th></th>\n      <th>count</th>\n      <th>mean</th>\n      <th>std</th>\n      <th>min</th>\n      <th>25%</th>\n      <th>50%</th>\n      <th>75%</th>\n      <th>max</th>\n    </tr>\n  </thead>\n  <tbody>\n    <tr>\n      <th>C1</th>\n      <td>3684.0</td>\n      <td>6.857166</td>\n      <td>0.846430</td>\n      <td>3.800000</td>\n      <td>6.300000</td>\n      <td>6.800000</td>\n      <td>7.300000</td>\n      <td>14.200000</td>\n    </tr>\n    <tr>\n      <th>C2</th>\n      <td>3664.0</td>\n      <td>0.421440</td>\n      <td>0.988207</td>\n      <td>0.076961</td>\n      <td>0.190620</td>\n      <td>0.231112</td>\n      <td>0.285179</td>\n      <td>6.913737</td>\n    </tr>\n    <tr>\n      <th>C3</th>\n      <td>3648.0</td>\n      <td>0.284054</td>\n      <td>0.086887</td>\n      <td>0.000000</td>\n      <td>0.239017</td>\n      <td>0.277632</td>\n      <td>0.329304</td>\n      <td>0.802002</td>\n    </tr>\n    <tr>\n      <th>C4</th>\n      <td>3636.0</td>\n      <td>6.424642</td>\n      <td>5.084063</td>\n      <td>0.600000</td>\n      <td>1.700000</td>\n      <td>5.300000</td>\n      <td>9.900000</td>\n      <td>65.800000</td>\n    </tr>\n    <tr>\n      <th>C5</th>\n      <td>3659.0</td>\n      <td>40.685294</td>\n      <td>25.106022</td>\n      <td>0.020000</td>\n      <td>33.000000</td>\n      <td>41.000000</td>\n      <td>49.000000</td>\n      <td>346.000000</td>\n    </tr>\n    <tr>\n      <th>C6</th>\n      <td>3655.0</td>\n      <td>35.216142</td>\n      <td>17.167346</td>\n      <td>2.000000</td>\n      <td>23.000000</td>\n      <td>34.000000</td>\n      <td>46.000000</td>\n      <td>289.000000</td>\n    </tr>\n    <tr>\n      <th>C7</th>\n      <td>3645.0</td>\n      <td>4.885591</td>\n      <td>0.341723</td>\n      <td>2.302585</td>\n      <td>4.691348</td>\n      <td>4.912655</td>\n      <td>5.129899</td>\n      <td>6.089045</td>\n    </tr>\n    <tr>\n      <th>C8</th>\n      <td>3646.0</td>\n      <td>65.824651</td>\n      <td>245.359289</td>\n      <td>0.987110</td>\n      <td>0.991800</td>\n      <td>0.994100</td>\n      <td>0.996825</td>\n      <td>1001.000000</td>\n    </tr>\n    <tr>\n      <th>C9</th>\n      <td>3658.0</td>\n      <td>3.188291</td>\n      <td>0.152155</td>\n      <td>2.720000</td>\n      <td>3.090000</td>\n      <td>3.180000</td>\n      <td>3.280000</td>\n      <td>3.820000</td>\n    </tr>\n    <tr>\n      <th>C10</th>\n      <td>3639.0</td>\n      <td>0.395421</td>\n      <td>0.074535</td>\n      <td>0.198851</td>\n      <td>0.343590</td>\n      <td>0.385262</td>\n      <td>0.438255</td>\n      <td>0.732368</td>\n    </tr>\n    <tr>\n      <th>C11</th>\n      <td>3658.0</td>\n      <td>10.491607</td>\n      <td>1.218126</td>\n      <td>8.000000</td>\n      <td>9.400000</td>\n      <td>10.300000</td>\n      <td>11.300000</td>\n      <td>14.000000</td>\n    </tr>\n    <tr>\n      <th>QUALITY</th>\n      <td>3918.0</td>\n      <td>5.870342</td>\n      <td>0.887340</td>\n      <td>3.000000</td>\n      <td>5.000000</td>\n      <td>6.000000</td>\n      <td>6.000000</td>\n      <td>9.000000</td>\n    </tr>\n  </tbody>\n</table>\n</div>"
     },
     "execution_count": 4,
     "metadata": {},
     "output_type": "execute_result"
    }
   ],
   "source": [
    "df.describe().T"
   ],
   "metadata": {
    "collapsed": false,
    "ExecuteTime": {
     "end_time": "2023-10-01T16:31:28.183543163Z",
     "start_time": "2023-10-01T16:31:28.163454753Z"
    }
   },
   "id": "5f91ac2d9b897cae"
  },
  {
   "cell_type": "code",
   "execution_count": 5,
   "outputs": [
    {
     "data": {
      "text/plain": "(1209, 12)"
     },
     "execution_count": 5,
     "metadata": {},
     "output_type": "execute_result"
    }
   ],
   "source": [
    "# Función para calcular límites inferior y superior para cada columna usando IQR\n",
    "def compute_iqr_limits(data, column):\n",
    "    Q1 = data[column].quantile(0.25)\n",
    "    Q3 = data[column].quantile(0.75)\n",
    "    IQR = Q3 - Q1\n",
    "    lower_limit = Q1 - 1.5 * IQR\n",
    "    upper_limit = Q3 + 1.5 * IQR\n",
    "    return lower_limit, upper_limit\n",
    "\n",
    "# Eliminar las observaciones atípicas\n",
    "df_dropped_outliers = df.copy()\n",
    "\n",
    "for column in df.columns:\n",
    "    if column != 'QUALITY':  # No consideramos la variable objetivo\n",
    "        lower_limit, upper_limit = compute_iqr_limits(df, column)\n",
    "        df_dropped_outliers = df_dropped_outliers[(df_dropped_outliers[column] >= lower_limit) & \n",
    "                                                  (df_dropped_outliers[column] <= upper_limit)]\n",
    "\n",
    "df_dropped_outliers.shape"
   ],
   "metadata": {
    "collapsed": false,
    "ExecuteTime": {
     "end_time": "2023-10-01T16:31:28.215513785Z",
     "start_time": "2023-10-01T16:31:28.186338538Z"
    }
   },
   "id": "211f7b2d140dedc4"
  },
  {
   "cell_type": "code",
   "execution_count": 6,
   "outputs": [
    {
     "data": {
      "text/plain": "(3918, 12)"
     },
     "execution_count": 6,
     "metadata": {},
     "output_type": "execute_result"
    }
   ],
   "source": [
    "# Imputar valores atípicos con la mediana\n",
    "df_imputed_outliers = df.copy()\n",
    "\n",
    "for column in df.columns:\n",
    "    if column != 'QUALITY':  # No consideramos la variable objetivo\n",
    "        lower_limit, upper_limit = compute_iqr_limits(df, column)\n",
    "        median_value = df[column].median()\n",
    "        \n",
    "        df_imputed_outliers.loc[df_imputed_outliers[column] < lower_limit, column] = median_value\n",
    "        df_imputed_outliers.loc[df_imputed_outliers[column] > upper_limit, column] = median_value\n",
    "\n",
    "df_imputed_outliers.shape  # El tamaño del dataset debería seguir siendo el mismo."
   ],
   "metadata": {
    "collapsed": false,
    "ExecuteTime": {
     "end_time": "2023-10-01T16:31:28.251700844Z",
     "start_time": "2023-10-01T16:31:28.200498968Z"
    }
   },
   "id": "77bfb4f63c79c29e"
  },
  {
   "cell_type": "code",
   "execution_count": 7,
   "outputs": [
    {
     "data": {
      "text/plain": "(3918, 12)"
     },
     "execution_count": 7,
     "metadata": {},
     "output_type": "execute_result"
    }
   ],
   "source": [
    "# Cap and Floor (establecer límites para valores atípicos)\n",
    "df_capped_outliers = df.copy()\n",
    "\n",
    "for column in df.columns:\n",
    "    if column != 'QUALITY':  # No consideramos la variable objetivo\n",
    "        lower_limit, upper_limit = compute_iqr_limits(df, column)\n",
    "        \n",
    "        df_capped_outliers.loc[df_capped_outliers[column] < lower_limit, column] = lower_limit\n",
    "        df_capped_outliers.loc[df_capped_outliers[column] > upper_limit, column] = upper_limit\n",
    "\n",
    "df_capped_outliers.shape  # El tamaño del dataset debería seguir siendo el mismo."
   ],
   "metadata": {
    "collapsed": false,
    "ExecuteTime": {
     "end_time": "2023-10-01T16:31:28.294558674Z",
     "start_time": "2023-10-01T16:31:28.217017415Z"
    }
   },
   "id": "1b7c94ab46571f96"
  },
  {
   "cell_type": "code",
   "execution_count": 8,
   "outputs": [
    {
     "name": "stderr",
     "output_type": "stream",
     "text": [
      "/tmp/ipykernel_71384/3112336360.py:14: UserWarning: Boolean Series key will be reindexed to match DataFrame index.\n",
      "  df_outliers_removed = df_outliers_removed[filter]\n",
      "/tmp/ipykernel_71384/3112336360.py:14: UserWarning: Boolean Series key will be reindexed to match DataFrame index.\n",
      "  df_outliers_removed = df_outliers_removed[filter]\n",
      "/tmp/ipykernel_71384/3112336360.py:14: UserWarning: Boolean Series key will be reindexed to match DataFrame index.\n",
      "  df_outliers_removed = df_outliers_removed[filter]\n",
      "/tmp/ipykernel_71384/3112336360.py:14: UserWarning: Boolean Series key will be reindexed to match DataFrame index.\n",
      "  df_outliers_removed = df_outliers_removed[filter]\n",
      "/tmp/ipykernel_71384/3112336360.py:14: UserWarning: Boolean Series key will be reindexed to match DataFrame index.\n",
      "  df_outliers_removed = df_outliers_removed[filter]\n",
      "/tmp/ipykernel_71384/3112336360.py:14: UserWarning: Boolean Series key will be reindexed to match DataFrame index.\n",
      "  df_outliers_removed = df_outliers_removed[filter]\n",
      "/tmp/ipykernel_71384/3112336360.py:14: UserWarning: Boolean Series key will be reindexed to match DataFrame index.\n",
      "  df_outliers_removed = df_outliers_removed[filter]\n",
      "/tmp/ipykernel_71384/3112336360.py:14: UserWarning: Boolean Series key will be reindexed to match DataFrame index.\n",
      "  df_outliers_removed = df_outliers_removed[filter]\n",
      "/tmp/ipykernel_71384/3112336360.py:14: UserWarning: Boolean Series key will be reindexed to match DataFrame index.\n",
      "  df_outliers_removed = df_outliers_removed[filter]\n",
      "/tmp/ipykernel_71384/3112336360.py:14: UserWarning: Boolean Series key will be reindexed to match DataFrame index.\n",
      "  df_outliers_removed = df_outliers_removed[filter]\n"
     ]
    },
    {
     "data": {
      "text/plain": "(0, 0, 0)"
     },
     "execution_count": 8,
     "metadata": {},
     "output_type": "execute_result"
    }
   ],
   "source": [
    "from sklearn.impute import SimpleImputer\n",
    "\n",
    "# Imputer para rellenar valores faltantes con la mediana\n",
    "imputer = SimpleImputer(strategy='median')\n",
    "\n",
    "# 1. Eliminar observaciones atípicas\n",
    "df_outliers_removed = df.copy()\n",
    "for col in df.columns:\n",
    "    if col != 'QUALITY':  # Excluimos la variable objetivo\n",
    "        Q1 = df[col].quantile(0.25)\n",
    "        Q3 = df[col].quantile(0.75)\n",
    "        IQR = Q3 - Q1\n",
    "        filter = (df[col] >= Q1 - 1.5 * IQR) & (df[col] <= Q3 + 1.5 * IQR)\n",
    "        df_outliers_removed = df_outliers_removed[filter]\n",
    "\n",
    "# 2. Reemplazar observaciones atípicas con la mediana\n",
    "df_outliers_median = df.copy()\n",
    "for col in df.columns:\n",
    "    if col != 'QUALITY':  # Excluimos la variable objetivo\n",
    "        Q1 = df[col].quantile(0.25)\n",
    "        Q3 = df[col].quantile(0.75)\n",
    "        IQR = Q3 - Q1\n",
    "        median_value = df[col].median()\n",
    "        filter_lower = df[col] < Q1 - 1.5 * IQR\n",
    "        filter_upper = df[col] > Q3 + 1.5 * IQR\n",
    "        df_outliers_median.loc[filter_lower, col] = median_value\n",
    "        df_outliers_median.loc[filter_upper, col] = median_value\n",
    "\n",
    "# 3. Cap and Floor (Ajustar valores extremos al rango IQR)\n",
    "df_outliers_capped = df.copy()\n",
    "for col in df.columns:\n",
    "    if col != 'QUALITY':  # Excluimos la variable objetivo\n",
    "        Q1 = df[col].quantile(0.25)\n",
    "        Q3 = df[col].quantile(0.75)\n",
    "        IQR = Q3 - Q1\n",
    "        filter_lower = df[col] < Q1 - 1.5 * IQR\n",
    "        filter_upper = df[col] > Q3 + 1.5 * IQR\n",
    "        df_outliers_capped.loc[filter_lower, col] = Q1 - 1.5 * IQR\n",
    "        df_outliers_capped.loc[filter_upper, col] = Q3 + 1.5 * IQR\n",
    "\n",
    "# Imputar valores faltantes\n",
    "df_outliers_removed_imputed = pd.DataFrame(imputer.fit_transform(df_outliers_removed), columns=df_outliers_removed.columns)\n",
    "df_outliers_median_imputed = pd.DataFrame(imputer.fit_transform(df_outliers_median), columns=df_outliers_median.columns)\n",
    "df_outliers_capped_imputed = pd.DataFrame(imputer.fit_transform(df_outliers_capped), columns=df_outliers_capped.columns)\n",
    "\n",
    "# Verificar si aún existen valores faltantes\n",
    "missing_removed = df_outliers_removed_imputed.isnull().sum().sum()\n",
    "missing_median = df_outliers_median_imputed.isnull().sum().sum()\n",
    "missing_capped = df_outliers_capped_imputed.isnull().sum().sum()\n",
    "\n",
    "missing_removed, missing_median, missing_capped"
   ],
   "metadata": {
    "collapsed": false,
    "ExecuteTime": {
     "end_time": "2023-10-01T16:31:28.335860935Z",
     "start_time": "2023-10-01T16:31:28.235458490Z"
    }
   },
   "id": "40445694f1c8099e"
  },
  {
   "cell_type": "markdown",
   "source": [
    "## Capped"
   ],
   "metadata": {
    "collapsed": false
   },
   "id": "fac8a11ac4b8a9a9"
  },
  {
   "cell_type": "code",
   "execution_count": 9,
   "outputs": [],
   "source": [
    "X = df_outliers_capped_imputed.drop(columns=['QUALITY'])\n",
    "y = df_outliers_capped_imputed['QUALITY']\n",
    "\n",
    "X_train, X_test, y_train, y_test = train_test_split(X, y, test_size=0.2, random_state=42)\n",
    "\n",
    "scaler = StandardScaler()\n",
    "X_train_std = scaler.fit_transform(X_train)\n",
    "X_test_std = scaler.transform(X_test)"
   ],
   "metadata": {
    "collapsed": false,
    "ExecuteTime": {
     "end_time": "2023-10-01T16:31:28.335987282Z",
     "start_time": "2023-10-01T16:31:28.325126693Z"
    }
   },
   "id": "47de960f4e9ebdf5"
  },
  {
   "cell_type": "code",
   "execution_count": 10,
   "outputs": [
    {
     "name": "stdout",
     "output_type": "stream",
     "text": [
      "MAE for Linear Regression: 0.6083\n"
     ]
    }
   ],
   "source": [
    "from sklearn.linear_model import LinearRegression\n",
    "from sklearn.metrics import mean_absolute_error\n",
    "\n",
    "lr = LinearRegression()\n",
    "lr.fit(X_train_std, y_train)\n",
    "predictions_lr = lr.predict(X_test_std)\n",
    "mae_lr = mean_absolute_error(y_test, predictions_lr)\n",
    "print(f\"MAE for Linear Regression: {mae_lr:.4f}\")"
   ],
   "metadata": {
    "collapsed": false,
    "ExecuteTime": {
     "end_time": "2023-10-01T16:31:28.336093799Z",
     "start_time": "2023-10-01T16:31:28.325212061Z"
    }
   },
   "id": "9cd537b827cc454f"
  },
  {
   "cell_type": "code",
   "execution_count": 11,
   "outputs": [
    {
     "name": "stdout",
     "output_type": "stream",
     "text": [
      "MAE for Ridge Regression: 0.6083\n"
     ]
    }
   ],
   "source": [
    "from sklearn.linear_model import Ridge\n",
    "\n",
    "ridge = Ridge(random_state=42)\n",
    "ridge.fit(X_train_std, y_train)\n",
    "predictions_ridge = ridge.predict(X_test_std)\n",
    "mae_ridge = mean_absolute_error(y_test, predictions_ridge)\n",
    "print(f\"MAE for Ridge Regression: {mae_ridge:.4f}\")"
   ],
   "metadata": {
    "collapsed": false,
    "ExecuteTime": {
     "end_time": "2023-10-01T16:31:28.336198676Z",
     "start_time": "2023-10-01T16:31:28.325257340Z"
    }
   },
   "id": "10c6409832e805f7"
  },
  {
   "cell_type": "code",
   "execution_count": 12,
   "outputs": [
    {
     "name": "stdout",
     "output_type": "stream",
     "text": [
      "MAE for Lasso Regression: 0.6500\n"
     ]
    }
   ],
   "source": [
    "from sklearn.linear_model import Lasso\n",
    "\n",
    "lasso = Lasso(random_state=42)\n",
    "lasso.fit(X_train_std, y_train)\n",
    "predictions_lasso = lasso.predict(X_test_std)\n",
    "mae_lasso = mean_absolute_error(y_test, predictions_lasso)\n",
    "print(f\"MAE for Lasso Regression: {mae_lasso:.4f}\")"
   ],
   "metadata": {
    "collapsed": false,
    "ExecuteTime": {
     "end_time": "2023-10-01T16:31:28.412967286Z",
     "start_time": "2023-10-01T16:31:28.325300949Z"
    }
   },
   "id": "79c679dfa6ef3658"
  },
  {
   "cell_type": "code",
   "execution_count": 13,
   "outputs": [
    {
     "name": "stdout",
     "output_type": "stream",
     "text": [
      "MAE for Decision Tree: 0.6148\n"
     ]
    }
   ],
   "source": [
    "from sklearn.tree import DecisionTreeRegressor\n",
    "\n",
    "dt = DecisionTreeRegressor(random_state=42)\n",
    "dt.fit(X_train_std, y_train)\n",
    "predictions_dt = dt.predict(X_test_std)\n",
    "mae_dt = mean_absolute_error(y_test, predictions_dt)\n",
    "print(f\"MAE for Decision Tree: {mae_dt:.4f}\")"
   ],
   "metadata": {
    "collapsed": false,
    "ExecuteTime": {
     "end_time": "2023-10-01T16:31:28.413140811Z",
     "start_time": "2023-10-01T16:31:28.369080684Z"
    }
   },
   "id": "d8760ff76418a5af"
  },
  {
   "cell_type": "code",
   "execution_count": 14,
   "outputs": [
    {
     "name": "stdout",
     "output_type": "stream",
     "text": [
      "MAE for Random Forest: 0.5100\n"
     ]
    }
   ],
   "source": [
    "from sklearn.ensemble import RandomForestRegressor\n",
    "\n",
    "rf = RandomForestRegressor(random_state=42)\n",
    "rf.fit(X_train_std, y_train)\n",
    "predictions_rf = rf.predict(X_test_std)\n",
    "mae_rf = mean_absolute_error(y_test, predictions_rf)\n",
    "print(f\"MAE for Random Forest: {mae_rf:.4f}\")"
   ],
   "metadata": {
    "collapsed": false,
    "ExecuteTime": {
     "end_time": "2023-10-01T16:31:29.698237140Z",
     "start_time": "2023-10-01T16:31:28.369178751Z"
    }
   },
   "id": "d080b2d2b2b7a2d4"
  },
  {
   "cell_type": "code",
   "execution_count": 15,
   "outputs": [
    {
     "name": "stdout",
     "output_type": "stream",
     "text": [
      "MAE for SVR: 0.5522\n"
     ]
    }
   ],
   "source": [
    "from sklearn.svm import SVR\n",
    "\n",
    "svr = SVR()\n",
    "svr.fit(X_train_std, y_train)\n",
    "predictions_svr = svr.predict(X_test_std)\n",
    "mae_svr = mean_absolute_error(y_test, predictions_svr)\n",
    "print(f\"MAE for SVR: {mae_svr:.4f}\")"
   ],
   "metadata": {
    "collapsed": false,
    "ExecuteTime": {
     "end_time": "2023-10-01T16:31:30.046484653Z",
     "start_time": "2023-10-01T16:31:29.697602307Z"
    }
   },
   "id": "4c80d4aad6fad9fe"
  },
  {
   "cell_type": "code",
   "execution_count": 16,
   "outputs": [
    {
     "name": "stdout",
     "output_type": "stream",
     "text": [
      "MAE for AdaBoost: 0.5961\n"
     ]
    }
   ],
   "source": [
    "from sklearn.ensemble import AdaBoostRegressor\n",
    "\n",
    "adaboost = AdaBoostRegressor(random_state=42)\n",
    "adaboost.fit(X_train_std, y_train)\n",
    "predictions_adaboost = adaboost.predict(X_test_std)\n",
    "mae_adaboost = mean_absolute_error(y_test, predictions_adaboost)\n",
    "print(f\"MAE for AdaBoost: {mae_adaboost:.4f}\")"
   ],
   "metadata": {
    "collapsed": false,
    "ExecuteTime": {
     "end_time": "2023-10-01T16:31:30.237473837Z",
     "start_time": "2023-10-01T16:31:30.047631822Z"
    }
   },
   "id": "c89dc8468cb97a18"
  },
  {
   "cell_type": "code",
   "execution_count": 17,
   "outputs": [
    {
     "name": "stdout",
     "output_type": "stream",
     "text": [
      "MAE for Gradient Boosting: 0.5627\n"
     ]
    }
   ],
   "source": [
    "from sklearn.ensemble import GradientBoostingRegressor\n",
    "\n",
    "gb = GradientBoostingRegressor(random_state=42)\n",
    "gb.fit(X_train_std, y_train)\n",
    "predictions_gb = gb.predict(X_test_std)\n",
    "mae_gb = mean_absolute_error(y_test, predictions_gb)\n",
    "print(f\"MAE for Gradient Boosting: {mae_gb:.4f}\")"
   ],
   "metadata": {
    "collapsed": false,
    "ExecuteTime": {
     "end_time": "2023-10-01T16:31:30.631860111Z",
     "start_time": "2023-10-01T16:31:30.239141152Z"
    }
   },
   "id": "adf1144b9b879aca"
  },
  {
   "cell_type": "code",
   "execution_count": 18,
   "outputs": [
    {
     "name": "stdout",
     "output_type": "stream",
     "text": [
      "MAE for Stacking Regressor: 0.5127\n"
     ]
    }
   ],
   "source": [
    "from sklearn.ensemble import StackingRegressor\n",
    "\n",
    "base_learners = [\n",
    "                 ('rf', RandomForestRegressor(random_state=42)),\n",
    "                 ('gb', GradientBoostingRegressor(random_state=42)),\n",
    "                 ('ridge', Ridge(random_state=42))\n",
    "                ]\n",
    "\n",
    "stacking_regressor = StackingRegressor(estimators=base_learners, final_estimator=LinearRegression())\n",
    "stacking_regressor.fit(X_train_std, y_train)\n",
    "predictions_stack = stacking_regressor.predict(X_test_std)\n",
    "mae_stack = mean_absolute_error(y_test, predictions_stack)\n",
    "print(f\"MAE for Stacking Regressor: {mae_stack:.4f}\")"
   ],
   "metadata": {
    "collapsed": false,
    "ExecuteTime": {
     "end_time": "2023-10-01T16:31:38.877298692Z",
     "start_time": "2023-10-01T16:31:30.633325772Z"
    }
   },
   "id": "23294e2c72f8a681"
  },
  {
   "cell_type": "code",
   "execution_count": 19,
   "outputs": [
    {
     "name": "stdout",
     "output_type": "stream",
     "text": [
      "               Model       MAE\n",
      "4      Random Forest  0.509974\n",
      "8           Stacking  0.512700\n",
      "5                SVR  0.552172\n",
      "7     Gradient Boost  0.562723\n",
      "6           AdaBoost  0.596111\n",
      "1   Ridge Regression  0.608274\n",
      "0  Linear Regression  0.608274\n",
      "3      Decision Tree  0.614796\n",
      "2   Lasso Regression  0.650031\n"
     ]
    }
   ],
   "source": [
    "# Inicializar un DataFrame para registrar los resultados\n",
    "results_df = pd.DataFrame(columns=['Model', 'MAE'])\n",
    "\n",
    "# Función para añadir resultados al DataFrame\n",
    "def add_result(model_name, mae_value):\n",
    "    global results_df\n",
    "    new_row = pd.DataFrame({'Model': [model_name], 'MAE': [mae_value]})\n",
    "    results_df = pd.concat([results_df, new_row], ignore_index=True)\n",
    "\n",
    "# Añadir los resultados (solo como ejemplo, reemplaza las cifras ficticias con tus valores reales)\n",
    "add_result(\"Linear Regression\", mae_lr)  # Sustituye 0.1234 con tu valor real\n",
    "add_result(\"Ridge Regression\", mae_ridge)  # Sustituye 0.1234 con tu valor real\n",
    "add_result(\"Lasso Regression\", mae_lasso)  # Sustituye 0.2345 con tu valor real\n",
    "add_result(\"Decision Tree\", mae_dt)  # Sustituye 0.2345 con tu valor real\n",
    "add_result(\"Random Forest\", mae_rf)  # Sustituye 0.2345 con tu valor real\n",
    "add_result(\"SVR\", mae_svr)  # Sustituye 0.2345 con tu valor real\n",
    "add_result(\"AdaBoost\", mae_adaboost)  # Sustituye 0.2345 con tu valor real\n",
    "add_result(\"Gradient Boost\", mae_gb)  # Sustituye 0.2345 con tu valor real\n",
    "add_result(\"Stacking\", mae_stack)  # Sustituye 0.2345 con tu valor real\n",
    "\n",
    "\n",
    "# Muestra el DataFrame\n",
    "sorted_results_df = results_df.sort_values(by=\"MAE\", ascending=True)\n",
    "print(sorted_results_df)"
   ],
   "metadata": {
    "collapsed": false,
    "ExecuteTime": {
     "end_time": "2023-10-01T16:31:38.891009604Z",
     "start_time": "2023-10-01T16:31:38.883767029Z"
    }
   },
   "id": "a84460f7aecccbab"
  }
 ],
 "metadata": {
  "kernelspec": {
   "display_name": "Python 3",
   "language": "python",
   "name": "python3"
  },
  "language_info": {
   "codemirror_mode": {
    "name": "ipython",
    "version": 2
   },
   "file_extension": ".py",
   "mimetype": "text/x-python",
   "name": "python",
   "nbconvert_exporter": "python",
   "pygments_lexer": "ipython2",
   "version": "2.7.6"
  }
 },
 "nbformat": 4,
 "nbformat_minor": 5
}
