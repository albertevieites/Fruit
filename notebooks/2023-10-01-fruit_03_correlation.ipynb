{
 "cells": [
  {
   "cell_type": "code",
   "execution_count": 22,
   "id": "initial_id",
   "metadata": {
    "collapsed": true,
    "ExecuteTime": {
     "end_time": "2023-10-01T15:20:50.468002965Z",
     "start_time": "2023-10-01T15:20:50.458128953Z"
    }
   },
   "outputs": [],
   "source": [
    "import numpy as np\n",
    "import pandas as pd\n",
    "\n",
    "import matplotlib.pyplot as plt\n",
    "import seaborn as sns\n",
    "\n",
    "from sklearn.preprocessing import StandardScaler\n",
    "from sklearn.preprocessing import MinMaxScaler\n",
    "from sklearn.model_selection import train_test_split\n",
    "\n",
    "import warnings\n",
    "\n",
    "warnings.filterwarnings(\"ignore\", category=FutureWarning)"
   ]
  },
  {
   "cell_type": "code",
   "execution_count": 15,
   "outputs": [],
   "source": [
    "df = pd.read_excel(\"../data/raw/entrenamiento.xlsx\")\n",
    "df = df.rename(columns={\"C7.1\": \"C8\", \"des\": \"QUALITY\"})"
   ],
   "metadata": {
    "collapsed": false,
    "ExecuteTime": {
     "end_time": "2023-10-01T15:14:04.304508399Z",
     "start_time": "2023-10-01T15:14:03.988178659Z"
    }
   },
   "id": "29692f62fef49841"
  },
  {
   "cell_type": "code",
   "execution_count": 16,
   "outputs": [
    {
     "data": {
      "text/plain": "          count       mean         std       min        25%        50%  \\\nC1       3684.0   6.857166    0.846430  3.800000   6.300000   6.800000   \nC2       3664.0   0.421440    0.988207  0.076961   0.190620   0.231112   \nC3       3648.0   0.284054    0.086887  0.000000   0.239017   0.277632   \nC4       3636.0   6.424642    5.084063  0.600000   1.700000   5.300000   \nC5       3659.0  40.685294   25.106022  0.020000  33.000000  41.000000   \nC6       3655.0  35.216142   17.167346  2.000000  23.000000  34.000000   \nC7       3645.0   4.885591    0.341723  2.302585   4.691348   4.912655   \nC8       3646.0  65.824651  245.359289  0.987110   0.991800   0.994100   \nC9       3658.0   3.188291    0.152155  2.720000   3.090000   3.180000   \nC10      3639.0   0.395421    0.074535  0.198851   0.343590   0.385262   \nC11      3658.0  10.491607    1.218126  8.000000   9.400000  10.300000   \nQUALITY  3918.0   5.870342    0.887340  3.000000   5.000000   6.000000   \n\n               75%          max  \nC1        7.300000    14.200000  \nC2        0.285179     6.913737  \nC3        0.329304     0.802002  \nC4        9.900000    65.800000  \nC5       49.000000   346.000000  \nC6       46.000000   289.000000  \nC7        5.129899     6.089045  \nC8        0.996825  1001.000000  \nC9        3.280000     3.820000  \nC10       0.438255     0.732368  \nC11      11.300000    14.000000  \nQUALITY   6.000000     9.000000  ",
      "text/html": "<div>\n<style scoped>\n    .dataframe tbody tr th:only-of-type {\n        vertical-align: middle;\n    }\n\n    .dataframe tbody tr th {\n        vertical-align: top;\n    }\n\n    .dataframe thead th {\n        text-align: right;\n    }\n</style>\n<table border=\"1\" class=\"dataframe\">\n  <thead>\n    <tr style=\"text-align: right;\">\n      <th></th>\n      <th>count</th>\n      <th>mean</th>\n      <th>std</th>\n      <th>min</th>\n      <th>25%</th>\n      <th>50%</th>\n      <th>75%</th>\n      <th>max</th>\n    </tr>\n  </thead>\n  <tbody>\n    <tr>\n      <th>C1</th>\n      <td>3684.0</td>\n      <td>6.857166</td>\n      <td>0.846430</td>\n      <td>3.800000</td>\n      <td>6.300000</td>\n      <td>6.800000</td>\n      <td>7.300000</td>\n      <td>14.200000</td>\n    </tr>\n    <tr>\n      <th>C2</th>\n      <td>3664.0</td>\n      <td>0.421440</td>\n      <td>0.988207</td>\n      <td>0.076961</td>\n      <td>0.190620</td>\n      <td>0.231112</td>\n      <td>0.285179</td>\n      <td>6.913737</td>\n    </tr>\n    <tr>\n      <th>C3</th>\n      <td>3648.0</td>\n      <td>0.284054</td>\n      <td>0.086887</td>\n      <td>0.000000</td>\n      <td>0.239017</td>\n      <td>0.277632</td>\n      <td>0.329304</td>\n      <td>0.802002</td>\n    </tr>\n    <tr>\n      <th>C4</th>\n      <td>3636.0</td>\n      <td>6.424642</td>\n      <td>5.084063</td>\n      <td>0.600000</td>\n      <td>1.700000</td>\n      <td>5.300000</td>\n      <td>9.900000</td>\n      <td>65.800000</td>\n    </tr>\n    <tr>\n      <th>C5</th>\n      <td>3659.0</td>\n      <td>40.685294</td>\n      <td>25.106022</td>\n      <td>0.020000</td>\n      <td>33.000000</td>\n      <td>41.000000</td>\n      <td>49.000000</td>\n      <td>346.000000</td>\n    </tr>\n    <tr>\n      <th>C6</th>\n      <td>3655.0</td>\n      <td>35.216142</td>\n      <td>17.167346</td>\n      <td>2.000000</td>\n      <td>23.000000</td>\n      <td>34.000000</td>\n      <td>46.000000</td>\n      <td>289.000000</td>\n    </tr>\n    <tr>\n      <th>C7</th>\n      <td>3645.0</td>\n      <td>4.885591</td>\n      <td>0.341723</td>\n      <td>2.302585</td>\n      <td>4.691348</td>\n      <td>4.912655</td>\n      <td>5.129899</td>\n      <td>6.089045</td>\n    </tr>\n    <tr>\n      <th>C8</th>\n      <td>3646.0</td>\n      <td>65.824651</td>\n      <td>245.359289</td>\n      <td>0.987110</td>\n      <td>0.991800</td>\n      <td>0.994100</td>\n      <td>0.996825</td>\n      <td>1001.000000</td>\n    </tr>\n    <tr>\n      <th>C9</th>\n      <td>3658.0</td>\n      <td>3.188291</td>\n      <td>0.152155</td>\n      <td>2.720000</td>\n      <td>3.090000</td>\n      <td>3.180000</td>\n      <td>3.280000</td>\n      <td>3.820000</td>\n    </tr>\n    <tr>\n      <th>C10</th>\n      <td>3639.0</td>\n      <td>0.395421</td>\n      <td>0.074535</td>\n      <td>0.198851</td>\n      <td>0.343590</td>\n      <td>0.385262</td>\n      <td>0.438255</td>\n      <td>0.732368</td>\n    </tr>\n    <tr>\n      <th>C11</th>\n      <td>3658.0</td>\n      <td>10.491607</td>\n      <td>1.218126</td>\n      <td>8.000000</td>\n      <td>9.400000</td>\n      <td>10.300000</td>\n      <td>11.300000</td>\n      <td>14.000000</td>\n    </tr>\n    <tr>\n      <th>QUALITY</th>\n      <td>3918.0</td>\n      <td>5.870342</td>\n      <td>0.887340</td>\n      <td>3.000000</td>\n      <td>5.000000</td>\n      <td>6.000000</td>\n      <td>6.000000</td>\n      <td>9.000000</td>\n    </tr>\n  </tbody>\n</table>\n</div>"
     },
     "execution_count": 16,
     "metadata": {},
     "output_type": "execute_result"
    }
   ],
   "source": [
    "df.describe().T"
   ],
   "metadata": {
    "collapsed": false,
    "ExecuteTime": {
     "end_time": "2023-10-01T15:14:05.772172450Z",
     "start_time": "2023-10-01T15:14:05.742830715Z"
    }
   },
   "id": "5f91ac2d9b897cae"
  },
  {
   "cell_type": "code",
   "execution_count": 17,
   "outputs": [],
   "source": [
    "df_no_missing = df.dropna()"
   ],
   "metadata": {
    "collapsed": false,
    "ExecuteTime": {
     "end_time": "2023-10-01T15:14:08.441382486Z",
     "start_time": "2023-10-01T15:14:08.436264984Z"
    }
   },
   "id": "5de9552f1662e89e"
  },
  {
   "cell_type": "code",
   "execution_count": 21,
   "outputs": [
    {
     "name": "stdout",
     "output_type": "stream",
     "text": [
      "               C1        C2        C3        C4        C5        C6        C7  \\\n",
      "C1       1.000000 -0.083968  0.292409  0.078783 -0.021234 -0.060116  0.033895   \n",
      "C2      -0.083968  1.000000 -0.120798 -0.045050 -0.009653 -0.025553 -0.043222   \n",
      "C3       0.292409 -0.120798  1.000000  0.122720  0.052939  0.086704  0.105160   \n",
      "C4       0.078783 -0.045050  0.122720  1.000000  0.045759  0.304516  0.377258   \n",
      "C5      -0.021234 -0.009653  0.052939  0.045759  1.000000  0.087584  0.147555   \n",
      "C6      -0.060116 -0.025553  0.086704  0.304516  0.087584  1.000000  0.602107   \n",
      "C7       0.033895 -0.043222  0.105160  0.377258  0.147555  0.602107  1.000000   \n",
      "C8       0.070916  0.003852 -0.008193 -0.047371 -0.010048 -0.008616  0.004071   \n",
      "C9      -0.425796  0.076003 -0.165054 -0.190470 -0.053567  0.013445  0.053114   \n",
      "C10     -0.024405 -0.017230  0.062976  0.006742  0.037874  0.065639  0.167734   \n",
      "C11     -0.129217 -0.019753 -0.061719 -0.436403 -0.285683 -0.265102 -0.419444   \n",
      "QUALITY -0.094703 -0.054480  0.037405 -0.064355 -0.166173 -0.006027 -0.081009   \n",
      "\n",
      "               C8        C9       C10       C11   QUALITY  \n",
      "C1       0.070916 -0.425796 -0.024405 -0.129217 -0.094703  \n",
      "C2       0.003852  0.076003 -0.017230 -0.019753 -0.054480  \n",
      "C3      -0.008193 -0.165054  0.062976 -0.061719  0.037405  \n",
      "C4      -0.047371 -0.190470  0.006742 -0.436403 -0.064355  \n",
      "C5      -0.010048 -0.053567  0.037874 -0.285683 -0.166173  \n",
      "C6      -0.008616  0.013445  0.065639 -0.265102 -0.006027  \n",
      "C7       0.004071  0.053114  0.167734 -0.419444 -0.081009  \n",
      "C8       1.000000  0.023922  0.016172 -0.029507  0.025250  \n",
      "C9       0.023922  1.000000  0.166119  0.123356  0.085198  \n",
      "C10      0.016172  0.166119  1.000000 -0.075383  0.035427  \n",
      "C11     -0.029507  0.123356 -0.075383  1.000000  0.409487  \n",
      "QUALITY  0.025250  0.085198  0.035427  0.409487  1.000000  \n"
     ]
    }
   ],
   "source": [
    "corr = df_no_missing.corr()\n",
    "\n",
    "print(corr)"
   ],
   "metadata": {
    "collapsed": false,
    "ExecuteTime": {
     "end_time": "2023-10-01T15:17:51.182634992Z",
     "start_time": "2023-10-01T15:17:51.170606131Z"
    }
   },
   "id": "7d2cf5319fa53a64"
  }
 ],
 "metadata": {
  "kernelspec": {
   "display_name": "Python 3",
   "language": "python",
   "name": "python3"
  },
  "language_info": {
   "codemirror_mode": {
    "name": "ipython",
    "version": 2
   },
   "file_extension": ".py",
   "mimetype": "text/x-python",
   "name": "python",
   "nbconvert_exporter": "python",
   "pygments_lexer": "ipython2",
   "version": "2.7.6"
  }
 },
 "nbformat": 4,
 "nbformat_minor": 5
}
