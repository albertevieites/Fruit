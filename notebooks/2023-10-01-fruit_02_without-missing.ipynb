{
 "cells": [
  {
   "cell_type": "code",
   "execution_count": 2,
   "id": "initial_id",
   "metadata": {
    "collapsed": true,
    "ExecuteTime": {
     "end_time": "2023-10-01T14:43:08.329933745Z",
     "start_time": "2023-10-01T14:43:08.292199069Z"
    }
   },
   "outputs": [],
   "source": [
    "import numpy as np\n",
    "import pandas as pd\n",
    "\n",
    "from sklearn.preprocessing import StandardScaler\n",
    "from sklearn.preprocessing import MinMaxScaler\n",
    "from sklearn.model_selection import train_test_split\n",
    "\n",
    "import warnings\n",
    "\n",
    "warnings.filterwarnings(\"ignore\", category=FutureWarning)"
   ]
  },
  {
   "cell_type": "code",
   "execution_count": 3,
   "outputs": [],
   "source": [
    "df = pd.read_excel(\"../data/raw/entrenamiento.xlsx\")\n",
    "df = df.rename(columns={\"C7.1\": \"C8\", \"des\": \"QUALITY\"})"
   ],
   "metadata": {
    "collapsed": false,
    "ExecuteTime": {
     "end_time": "2023-10-01T14:43:09.800328164Z",
     "start_time": "2023-10-01T14:43:09.374747508Z"
    }
   },
   "id": "29692f62fef49841"
  },
  {
   "cell_type": "code",
   "execution_count": 4,
   "outputs": [
    {
     "data": {
      "text/plain": "          count       mean         std       min        25%        50%  \\\nC1       3684.0   6.857166    0.846430  3.800000   6.300000   6.800000   \nC2       3664.0   0.421440    0.988207  0.076961   0.190620   0.231112   \nC3       3648.0   0.284054    0.086887  0.000000   0.239017   0.277632   \nC4       3636.0   6.424642    5.084063  0.600000   1.700000   5.300000   \nC5       3659.0  40.685294   25.106022  0.020000  33.000000  41.000000   \nC6       3655.0  35.216142   17.167346  2.000000  23.000000  34.000000   \nC7       3645.0   4.885591    0.341723  2.302585   4.691348   4.912655   \nC8       3646.0  65.824651  245.359289  0.987110   0.991800   0.994100   \nC9       3658.0   3.188291    0.152155  2.720000   3.090000   3.180000   \nC10      3639.0   0.395421    0.074535  0.198851   0.343590   0.385262   \nC11      3658.0  10.491607    1.218126  8.000000   9.400000  10.300000   \nQUALITY  3918.0   5.870342    0.887340  3.000000   5.000000   6.000000   \n\n               75%          max  \nC1        7.300000    14.200000  \nC2        0.285179     6.913737  \nC3        0.329304     0.802002  \nC4        9.900000    65.800000  \nC5       49.000000   346.000000  \nC6       46.000000   289.000000  \nC7        5.129899     6.089045  \nC8        0.996825  1001.000000  \nC9        3.280000     3.820000  \nC10       0.438255     0.732368  \nC11      11.300000    14.000000  \nQUALITY   6.000000     9.000000  ",
      "text/html": "<div>\n<style scoped>\n    .dataframe tbody tr th:only-of-type {\n        vertical-align: middle;\n    }\n\n    .dataframe tbody tr th {\n        vertical-align: top;\n    }\n\n    .dataframe thead th {\n        text-align: right;\n    }\n</style>\n<table border=\"1\" class=\"dataframe\">\n  <thead>\n    <tr style=\"text-align: right;\">\n      <th></th>\n      <th>count</th>\n      <th>mean</th>\n      <th>std</th>\n      <th>min</th>\n      <th>25%</th>\n      <th>50%</th>\n      <th>75%</th>\n      <th>max</th>\n    </tr>\n  </thead>\n  <tbody>\n    <tr>\n      <th>C1</th>\n      <td>3684.0</td>\n      <td>6.857166</td>\n      <td>0.846430</td>\n      <td>3.800000</td>\n      <td>6.300000</td>\n      <td>6.800000</td>\n      <td>7.300000</td>\n      <td>14.200000</td>\n    </tr>\n    <tr>\n      <th>C2</th>\n      <td>3664.0</td>\n      <td>0.421440</td>\n      <td>0.988207</td>\n      <td>0.076961</td>\n      <td>0.190620</td>\n      <td>0.231112</td>\n      <td>0.285179</td>\n      <td>6.913737</td>\n    </tr>\n    <tr>\n      <th>C3</th>\n      <td>3648.0</td>\n      <td>0.284054</td>\n      <td>0.086887</td>\n      <td>0.000000</td>\n      <td>0.239017</td>\n      <td>0.277632</td>\n      <td>0.329304</td>\n      <td>0.802002</td>\n    </tr>\n    <tr>\n      <th>C4</th>\n      <td>3636.0</td>\n      <td>6.424642</td>\n      <td>5.084063</td>\n      <td>0.600000</td>\n      <td>1.700000</td>\n      <td>5.300000</td>\n      <td>9.900000</td>\n      <td>65.800000</td>\n    </tr>\n    <tr>\n      <th>C5</th>\n      <td>3659.0</td>\n      <td>40.685294</td>\n      <td>25.106022</td>\n      <td>0.020000</td>\n      <td>33.000000</td>\n      <td>41.000000</td>\n      <td>49.000000</td>\n      <td>346.000000</td>\n    </tr>\n    <tr>\n      <th>C6</th>\n      <td>3655.0</td>\n      <td>35.216142</td>\n      <td>17.167346</td>\n      <td>2.000000</td>\n      <td>23.000000</td>\n      <td>34.000000</td>\n      <td>46.000000</td>\n      <td>289.000000</td>\n    </tr>\n    <tr>\n      <th>C7</th>\n      <td>3645.0</td>\n      <td>4.885591</td>\n      <td>0.341723</td>\n      <td>2.302585</td>\n      <td>4.691348</td>\n      <td>4.912655</td>\n      <td>5.129899</td>\n      <td>6.089045</td>\n    </tr>\n    <tr>\n      <th>C8</th>\n      <td>3646.0</td>\n      <td>65.824651</td>\n      <td>245.359289</td>\n      <td>0.987110</td>\n      <td>0.991800</td>\n      <td>0.994100</td>\n      <td>0.996825</td>\n      <td>1001.000000</td>\n    </tr>\n    <tr>\n      <th>C9</th>\n      <td>3658.0</td>\n      <td>3.188291</td>\n      <td>0.152155</td>\n      <td>2.720000</td>\n      <td>3.090000</td>\n      <td>3.180000</td>\n      <td>3.280000</td>\n      <td>3.820000</td>\n    </tr>\n    <tr>\n      <th>C10</th>\n      <td>3639.0</td>\n      <td>0.395421</td>\n      <td>0.074535</td>\n      <td>0.198851</td>\n      <td>0.343590</td>\n      <td>0.385262</td>\n      <td>0.438255</td>\n      <td>0.732368</td>\n    </tr>\n    <tr>\n      <th>C11</th>\n      <td>3658.0</td>\n      <td>10.491607</td>\n      <td>1.218126</td>\n      <td>8.000000</td>\n      <td>9.400000</td>\n      <td>10.300000</td>\n      <td>11.300000</td>\n      <td>14.000000</td>\n    </tr>\n    <tr>\n      <th>QUALITY</th>\n      <td>3918.0</td>\n      <td>5.870342</td>\n      <td>0.887340</td>\n      <td>3.000000</td>\n      <td>5.000000</td>\n      <td>6.000000</td>\n      <td>6.000000</td>\n      <td>9.000000</td>\n    </tr>\n  </tbody>\n</table>\n</div>"
     },
     "execution_count": 4,
     "metadata": {},
     "output_type": "execute_result"
    }
   ],
   "source": [
    "df.describe().T"
   ],
   "metadata": {
    "collapsed": false,
    "ExecuteTime": {
     "end_time": "2023-10-01T14:43:10.487573563Z",
     "start_time": "2023-10-01T14:43:10.464780126Z"
    }
   },
   "id": "5f91ac2d9b897cae"
  },
  {
   "cell_type": "code",
   "execution_count": 5,
   "outputs": [],
   "source": [
    "df_clean = df.dropna()"
   ],
   "metadata": {
    "collapsed": false,
    "ExecuteTime": {
     "end_time": "2023-10-01T14:43:12.227369195Z",
     "start_time": "2023-10-01T14:43:12.222571074Z"
    }
   },
   "id": "5de9552f1662e89e"
  },
  {
   "cell_type": "code",
   "execution_count": 6,
   "outputs": [],
   "source": [
    "from sklearn.model_selection import train_test_split\n",
    "\n",
    "X = df_clean.drop(columns=['QUALITY'])\n",
    "y = df_clean['QUALITY']\n",
    "\n",
    "X_train, X_test, y_train, y_test = train_test_split(X, y, test_size=0.2, random_state=42)"
   ],
   "metadata": {
    "collapsed": false,
    "ExecuteTime": {
     "end_time": "2023-10-01T14:44:02.949516540Z",
     "start_time": "2023-10-01T14:44:02.906316023Z"
    }
   },
   "id": "b65946a9b1e5153b"
  },
  {
   "cell_type": "code",
   "execution_count": 7,
   "outputs": [],
   "source": [
    "from sklearn.preprocessing import StandardScaler\n",
    "\n",
    "scaler = StandardScaler()\n",
    "X_train_std = scaler.fit_transform(X_train)\n",
    "X_test_std = scaler.transform(X_test)"
   ],
   "metadata": {
    "collapsed": false,
    "ExecuteTime": {
     "end_time": "2023-10-01T14:44:10.173250358Z",
     "start_time": "2023-10-01T14:44:10.127686915Z"
    }
   },
   "id": "239a1319702b7d46"
  },
  {
   "cell_type": "markdown",
   "source": [
    "### Linear Regression"
   ],
   "metadata": {
    "collapsed": false
   },
   "id": "d5ee49d5a433e334"
  },
  {
   "cell_type": "code",
   "execution_count": 8,
   "outputs": [
    {
     "name": "stdout",
     "output_type": "stream",
     "text": [
      "MAE for Linear Regression: 0.6113\n"
     ]
    }
   ],
   "source": [
    "from sklearn.linear_model import LinearRegression\n",
    "from sklearn.metrics import mean_absolute_error\n",
    "\n",
    "lr = LinearRegression()\n",
    "lr.fit(X_train_std, y_train)\n",
    "predictions_lr = lr.predict(X_test_std)\n",
    "mae_lr = mean_absolute_error(y_test, predictions_lr)\n",
    "print(f\"MAE for Linear Regression: {mae_lr:.4f}\")"
   ],
   "metadata": {
    "collapsed": false,
    "ExecuteTime": {
     "end_time": "2023-10-01T14:44:33.622832992Z",
     "start_time": "2023-10-01T14:44:33.597420587Z"
    }
   },
   "id": "704c546fa777211a"
  },
  {
   "cell_type": "markdown",
   "source": [
    "### Ridge"
   ],
   "metadata": {
    "collapsed": false
   },
   "id": "88be48e845c06b18"
  },
  {
   "cell_type": "code",
   "execution_count": 11,
   "outputs": [
    {
     "name": "stdout",
     "output_type": "stream",
     "text": [
      "MAE for Ridge Regression: 0.6113\n"
     ]
    }
   ],
   "source": [
    "from sklearn.linear_model import Ridge\n",
    "\n",
    "ridge = Ridge(random_state=42)\n",
    "ridge.fit(X_train_std, y_train)\n",
    "predictions_ridge = ridge.predict(X_test_std)\n",
    "mae_ridge = mean_absolute_error(y_test, predictions_ridge)\n",
    "print(f\"MAE for Ridge Regression: {mae_ridge:.4f}\")"
   ],
   "metadata": {
    "collapsed": false,
    "ExecuteTime": {
     "end_time": "2023-10-01T14:46:55.777419540Z",
     "start_time": "2023-10-01T14:46:55.735600171Z"
    }
   },
   "id": "8c5af45050a30e3e"
  },
  {
   "cell_type": "markdown",
   "source": [
    "### Lasso"
   ],
   "metadata": {
    "collapsed": false
   },
   "id": "225e4ea8ef9ec330"
  },
  {
   "cell_type": "code",
   "execution_count": 12,
   "outputs": [
    {
     "name": "stdout",
     "output_type": "stream",
     "text": [
      "MAE for Lasso Regression: 0.6722\n"
     ]
    }
   ],
   "source": [
    "from sklearn.linear_model import Lasso\n",
    "\n",
    "lasso = Lasso(random_state=42)\n",
    "lasso.fit(X_train_std, y_train)\n",
    "predictions_lasso = lasso.predict(X_test_std)\n",
    "mae_lasso = mean_absolute_error(y_test, predictions_lasso)\n",
    "print(f\"MAE for Lasso Regression: {mae_lasso:.4f}\")"
   ],
   "metadata": {
    "collapsed": false,
    "ExecuteTime": {
     "end_time": "2023-10-01T14:47:13.913384833Z",
     "start_time": "2023-10-01T14:47:13.870909502Z"
    }
   },
   "id": "7a3be234582eee13"
  },
  {
   "cell_type": "markdown",
   "source": [
    "### Decision Tree"
   ],
   "metadata": {
    "collapsed": false
   },
   "id": "42a951684a0702b6"
  },
  {
   "cell_type": "code",
   "execution_count": 13,
   "outputs": [
    {
     "name": "stdout",
     "output_type": "stream",
     "text": [
      "MAE for Decision Tree: 0.7039\n"
     ]
    }
   ],
   "source": [
    "from sklearn.tree import DecisionTreeRegressor\n",
    "\n",
    "dt = DecisionTreeRegressor(random_state=42)\n",
    "dt.fit(X_train_std, y_train)\n",
    "predictions_dt = dt.predict(X_test_std)\n",
    "mae_dt = mean_absolute_error(y_test, predictions_dt)\n",
    "print(f\"MAE for Decision Tree: {mae_dt:.4f}\")"
   ],
   "metadata": {
    "collapsed": false,
    "ExecuteTime": {
     "end_time": "2023-10-01T14:47:49.933389878Z",
     "start_time": "2023-10-01T14:47:49.887081151Z"
    }
   },
   "id": "dc03bad9afc005fe"
  },
  {
   "cell_type": "markdown",
   "source": [
    "### Random Forest"
   ],
   "metadata": {
    "collapsed": false
   },
   "id": "7531ba514ef60dc1"
  },
  {
   "cell_type": "code",
   "execution_count": 9,
   "outputs": [
    {
     "name": "stdout",
     "output_type": "stream",
     "text": [
      "MAE for Random Forest: 0.5028\n"
     ]
    }
   ],
   "source": [
    "from sklearn.ensemble import RandomForestRegressor\n",
    "\n",
    "rf = RandomForestRegressor(random_state=42)\n",
    "rf.fit(X_train_std, y_train)\n",
    "predictions_rf = rf.predict(X_test_std)\n",
    "mae_rf = mean_absolute_error(y_test, predictions_rf)\n",
    "print(f\"MAE for Random Forest: {mae_rf:.4f}\")"
   ],
   "metadata": {
    "collapsed": false,
    "ExecuteTime": {
     "end_time": "2023-10-01T14:45:06.409637816Z",
     "start_time": "2023-10-01T14:45:05.766538501Z"
    }
   },
   "id": "3e0084969902d8c6"
  },
  {
   "cell_type": "markdown",
   "source": [
    "### SVR"
   ],
   "metadata": {
    "collapsed": false
   },
   "id": "aaca752e88089020"
  },
  {
   "cell_type": "code",
   "execution_count": 14,
   "outputs": [
    {
     "name": "stdout",
     "output_type": "stream",
     "text": [
      "MAE for SVR: 0.5793\n"
     ]
    }
   ],
   "source": [
    "from sklearn.svm import SVR\n",
    "\n",
    "svr = SVR()\n",
    "svr.fit(X_train_std, y_train)\n",
    "predictions_svr = svr.predict(X_test_std)\n",
    "mae_svr = mean_absolute_error(y_test, predictions_svr)\n",
    "print(f\"MAE for SVR: {mae_svr:.4f}\")"
   ],
   "metadata": {
    "collapsed": false,
    "ExecuteTime": {
     "end_time": "2023-10-01T14:48:14.812024243Z",
     "start_time": "2023-10-01T14:48:14.723109920Z"
    }
   },
   "id": "a3063fb11356d82f"
  },
  {
   "cell_type": "markdown",
   "source": [
    "### AdaBoost"
   ],
   "metadata": {
    "collapsed": false
   },
   "id": "5743a17af09609ac"
  },
  {
   "cell_type": "code",
   "execution_count": 15,
   "outputs": [
    {
     "name": "stdout",
     "output_type": "stream",
     "text": [
      "MAE for AdaBoost: 0.5913\n"
     ]
    }
   ],
   "source": [
    "from sklearn.ensemble import AdaBoostRegressor\n",
    "\n",
    "adaboost = AdaBoostRegressor(random_state=42)\n",
    "adaboost.fit(X_train_std, y_train)\n",
    "predictions_adaboost = adaboost.predict(X_test_std)\n",
    "mae_adaboost = mean_absolute_error(y_test, predictions_adaboost)\n",
    "print(f\"MAE for AdaBoost: {mae_adaboost:.4f}\")"
   ],
   "metadata": {
    "collapsed": false,
    "ExecuteTime": {
     "end_time": "2023-10-01T14:48:36.226906075Z",
     "start_time": "2023-10-01T14:48:36.148073209Z"
    }
   },
   "id": "af86640691b2cac1"
  },
  {
   "cell_type": "markdown",
   "source": [
    "### Gradient Boosting"
   ],
   "metadata": {
    "collapsed": false
   },
   "id": "6774271bdd121c57"
  },
  {
   "cell_type": "code",
   "execution_count": 10,
   "outputs": [
    {
     "name": "stdout",
     "output_type": "stream",
     "text": [
      "MAE for Gradient Boosting: 0.5588\n"
     ]
    }
   ],
   "source": [
    "from sklearn.ensemble import GradientBoostingRegressor\n",
    "\n",
    "gb = GradientBoostingRegressor(random_state=42)\n",
    "gb.fit(X_train_std, y_train)\n",
    "predictions_gb = gb.predict(X_test_std)\n",
    "mae_gb = mean_absolute_error(y_test, predictions_gb)\n",
    "print(f\"MAE for Gradient Boosting: {mae_gb:.4f}\")"
   ],
   "metadata": {
    "collapsed": false,
    "ExecuteTime": {
     "end_time": "2023-10-01T14:45:30.270995734Z",
     "start_time": "2023-10-01T14:45:30.064016999Z"
    }
   },
   "id": "b920d2b13ee5f363"
  },
  {
   "cell_type": "markdown",
   "source": [
    "### Stacking Regression"
   ],
   "metadata": {
    "collapsed": false
   },
   "id": "7ca6a58fd9be4f75"
  },
  {
   "cell_type": "code",
   "execution_count": 16,
   "outputs": [
    {
     "name": "stdout",
     "output_type": "stream",
     "text": [
      "MAE for Stacking Regressor: 0.5159\n"
     ]
    }
   ],
   "source": [
    "from sklearn.ensemble import StackingRegressor\n",
    "\n",
    "base_learners = [\n",
    "                 ('rf', RandomForestRegressor(random_state=42)),\n",
    "                 ('gb', GradientBoostingRegressor(random_state=42)),\n",
    "                 ('ridge', Ridge(random_state=42))\n",
    "                ]\n",
    "\n",
    "stacking_regressor = StackingRegressor(estimators=base_learners, final_estimator=LinearRegression())\n",
    "stacking_regressor.fit(X_train_std, y_train)\n",
    "predictions_stack = stacking_regressor.predict(X_test_std)\n",
    "mae_stack = mean_absolute_error(y_test, predictions_stack)\n",
    "print(f\"MAE for Stacking Regressor: {mae_stack:.4f}\")"
   ],
   "metadata": {
    "collapsed": false,
    "ExecuteTime": {
     "end_time": "2023-10-01T14:48:59.979917820Z",
     "start_time": "2023-10-01T14:48:56.031679803Z"
    }
   },
   "id": "a4e4b508792537fe"
  },
  {
   "cell_type": "markdown",
   "source": [
    "## Results"
   ],
   "metadata": {
    "collapsed": false
   },
   "id": "f15ed7530df5bdb0"
  },
  {
   "cell_type": "code",
   "execution_count": 22,
   "outputs": [
    {
     "name": "stdout",
     "output_type": "stream",
     "text": [
      "               Model       MAE\n",
      "4      Random Forest  0.502793\n",
      "8           Stacking  0.515930\n",
      "7     Gradient Boost  0.558815\n",
      "5                SVR  0.579268\n",
      "6           AdaBoost  0.591281\n",
      "0  Linear Regression  0.611333\n",
      "1   Ridge Regression  0.611334\n",
      "2   Lasso Regression  0.672200\n",
      "3      Decision Tree  0.703911\n"
     ]
    }
   ],
   "source": [
    "import pandas as pd\n",
    "\n",
    "# Inicializar un DataFrame para registrar los resultados\n",
    "results_df = pd.DataFrame(columns=['Model', 'MAE'])\n",
    "\n",
    "# Función para añadir resultados al DataFrame\n",
    "def add_result(model_name, mae_value):\n",
    "    global results_df\n",
    "    new_row = pd.DataFrame({'Model': [model_name], 'MAE': [mae_value]})\n",
    "    results_df = pd.concat([results_df, new_row], ignore_index=True)\n",
    "\n",
    "# Añadir los resultados (solo como ejemplo, reemplaza las cifras ficticias con tus valores reales)\n",
    "add_result(\"Linear Regression\", mae_lr)  # Sustituye 0.1234 con tu valor real\n",
    "add_result(\"Ridge Regression\", mae_ridge)  # Sustituye 0.1234 con tu valor real\n",
    "add_result(\"Lasso Regression\", mae_lasso)  # Sustituye 0.2345 con tu valor real\n",
    "add_result(\"Decision Tree\", mae_dt)  # Sustituye 0.2345 con tu valor real\n",
    "add_result(\"Random Forest\", mae_rf)  # Sustituye 0.2345 con tu valor real\n",
    "add_result(\"SVR\", mae_svr)  # Sustituye 0.2345 con tu valor real\n",
    "add_result(\"AdaBoost\", mae_adaboost)  # Sustituye 0.2345 con tu valor real\n",
    "add_result(\"Gradient Boost\", mae_gb)  # Sustituye 0.2345 con tu valor real\n",
    "add_result(\"Stacking\", mae_stack)  # Sustituye 0.2345 con tu valor real\n",
    "\n",
    "\n",
    "# Muestra el DataFrame\n",
    "sorted_results_df = results_df.sort_values(by=\"MAE\", ascending=True)\n",
    "print(sorted_results_df)"
   ],
   "metadata": {
    "collapsed": false,
    "ExecuteTime": {
     "end_time": "2023-10-01T14:57:46.173375148Z",
     "start_time": "2023-10-01T14:57:46.130317719Z"
    }
   },
   "id": "f1951eb996cadc1f"
  }
 ],
 "metadata": {
  "kernelspec": {
   "display_name": "Python 3",
   "language": "python",
   "name": "python3"
  },
  "language_info": {
   "codemirror_mode": {
    "name": "ipython",
    "version": 2
   },
   "file_extension": ".py",
   "mimetype": "text/x-python",
   "name": "python",
   "nbconvert_exporter": "python",
   "pygments_lexer": "ipython2",
   "version": "2.7.6"
  }
 },
 "nbformat": 4,
 "nbformat_minor": 5
}
