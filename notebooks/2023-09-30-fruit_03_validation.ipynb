{
 "cells": [
  {
   "cell_type": "code",
   "execution_count": 9,
   "outputs": [],
   "source": [
    "import pandas as pd\n",
    "\n",
    "from sklearn.preprocessing import StandardScaler\n",
    "from sklearn.model_selection import train_test_split\n",
    "from sklearn.metrics import mean_absolute_error, mean_squared_error\n",
    "import xgboost as xgb"
   ],
   "metadata": {
    "collapsed": false,
    "ExecuteTime": {
     "end_time": "2023-09-30T20:13:50.457918550Z",
     "start_time": "2023-09-30T20:13:50.415883257Z"
    }
   },
   "id": "4dc6e31431545ca6"
  },
  {
   "cell_type": "code",
   "execution_count": 3,
   "id": "initial_id",
   "metadata": {
    "collapsed": true,
    "ExecuteTime": {
     "end_time": "2023-09-30T18:53:44.228531262Z",
     "start_time": "2023-09-30T18:53:43.596403303Z"
    }
   },
   "outputs": [],
   "source": [
    "df_train = pd.read_excel(\"../data/raw/entrenamiento.xlsx\")\n",
    "df_train = df_train.rename(columns={\"C7.1\": \"C8\", \"des\": \"QUALITY\"})\n"
   ]
  },
  {
   "cell_type": "code",
   "execution_count": 4,
   "outputs": [],
   "source": [
    "high_values_train = df_train[\"C8\"] > 900\n",
    "df_train.loc[high_values_train, \"C8\"] = df_train.loc[high_values_train, \"C8\"] / 1000"
   ],
   "metadata": {
    "collapsed": false,
    "ExecuteTime": {
     "end_time": "2023-09-30T18:54:01.828032220Z",
     "start_time": "2023-09-30T18:54:01.819793829Z"
    }
   },
   "id": "6b16f282af7a03e5"
  },
  {
   "cell_type": "code",
   "execution_count": 18,
   "outputs": [
    {
     "name": "stderr",
     "output_type": "stream",
     "text": [
      "/home/alberte/Desktop/Fruit/.venv/lib/python3.10/site-packages/xgboost/data.py:520: FutureWarning: is_sparse is deprecated and will be removed in a future version. Check `isinstance(dtype, pd.SparseDtype)` instead.\n",
      "  if is_sparse(data):\n"
     ]
    },
    {
     "name": "stdout",
     "output_type": "stream",
     "text": [
      "Mean Absolute Error (MAE) con hiperparámetros optimizados: 0.0330\n"
     ]
    }
   ],
   "source": [
    "# Function to impute outliers using IQR and column median\n",
    "def impute_outliers_iqr(data, column):\n",
    "    Q1 = data[column].quantile(0.25)\n",
    "    Q3 = data[column].quantile(0.75)\n",
    "    IQR = Q3 - Q1\n",
    "    lower_bound = Q1 - 1.5 * IQR\n",
    "    upper_bound = Q3 + 1.5 * IQR\n",
    "\n",
    "    # Identify outliers\n",
    "    outliers = (data[column] < lower_bound) | (data[column] > upper_bound)\n",
    "\n",
    "    # Impute outliers with the median of the column\n",
    "    data.loc[outliers, column] = data[column].median()\n",
    "    return data\n",
    "\n",
    "# Impute outliers in the dataset using IQR method\n",
    "df_imputed_outliers = df_train.copy()\n",
    "for column in df_train.columns:\n",
    "    if df_train[column].dtype != 'object':  # Apply only for numerical columns\n",
    "        df_imputed_outliers = impute_outliers_iqr(df_imputed_outliers, column)\n",
    "\n",
    "# Separate features and target\n",
    "X = df_imputed_outliers.drop(\"QUALITY\", axis=1)\n",
    "y = df_imputed_outliers[\"QUALITY\"]\n",
    "\n",
    "# Standardize the features\n",
    "scaler = StandardScaler()\n",
    "X_standardized = scaler.fit_transform(X)\n",
    "\n",
    "# Split the data into training and testing sets\n",
    "X_train_std, X_test_std, y_train, y_test = train_test_split(X_standardized, y, test_size=0.3, random_state=42)\n",
    "\n",
    "# Initialize the XGBoost regressor with the optimized hyperparameters\n",
    "xgb_optimized = {\n",
    "    'objective': 'reg:squarederror',\n",
    "    'colsample_bytree':0.8,\n",
    "    'gamma':0,\n",
    "    'learning_rate':0.1,\n",
    "    'max_depth':8,\n",
    "    'min_child_weight':1,\n",
    "    'n_estimators':200,\n",
    "    'subsample':0.8,\n",
    "    'random_state':42\n",
    "}\n",
    "\n",
    "optimized_xgb = xgb.XGBRegressor(**xgb_optimized)\n",
    "optimized_xgb.fit(X_train_std, y_train)\n",
    "train_predictions_optimized = optimized_xgb.predict(X_train_std)\n",
    "mae_optimized = mean_absolute_error(y_train, train_predictions_optimized)\n",
    "print(f\"Mean Absolute Error (MAE) con hiperparámetros optimizados: {mae_optimized:.4f}\")"
   ],
   "metadata": {
    "collapsed": false,
    "ExecuteTime": {
     "end_time": "2023-09-30T21:02:38.912885816Z",
     "start_time": "2023-09-30T21:02:37.674976503Z"
    }
   },
   "id": "a395cec54cc3b879"
  },
  {
   "cell_type": "code",
   "execution_count": 19,
   "outputs": [
    {
     "name": "stderr",
     "output_type": "stream",
     "text": [
      "/home/alberte/Desktop/Fruit/.venv/lib/python3.10/site-packages/xgboost/data.py:520: FutureWarning: is_sparse is deprecated and will be removed in a future version. Check `isinstance(dtype, pd.SparseDtype)` instead.\n",
      "  if is_sparse(data):\n",
      "/home/alberte/Desktop/Fruit/.venv/lib/python3.10/site-packages/xgboost/data.py:520: FutureWarning: is_sparse is deprecated and will be removed in a future version. Check `isinstance(dtype, pd.SparseDtype)` instead.\n",
      "  if is_sparse(data):\n",
      "/home/alberte/Desktop/Fruit/.venv/lib/python3.10/site-packages/xgboost/data.py:520: FutureWarning: is_sparse is deprecated and will be removed in a future version. Check `isinstance(dtype, pd.SparseDtype)` instead.\n",
      "  if is_sparse(data):\n",
      "/home/alberte/Desktop/Fruit/.venv/lib/python3.10/site-packages/xgboost/data.py:520: FutureWarning: is_sparse is deprecated and will be removed in a future version. Check `isinstance(dtype, pd.SparseDtype)` instead.\n",
      "  if is_sparse(data):\n",
      "/home/alberte/Desktop/Fruit/.venv/lib/python3.10/site-packages/xgboost/data.py:520: FutureWarning: is_sparse is deprecated and will be removed in a future version. Check `isinstance(dtype, pd.SparseDtype)` instead.\n",
      "  if is_sparse(data):\n"
     ]
    },
    {
     "name": "stdout",
     "output_type": "stream",
     "text": [
      "MAE scores from cross-validation: [0.47587791 0.44130769 0.46185581 0.46181228 0.45416789]\n",
      "Mean MAE score: 0.45900431441177\n",
      "Standard Deviation of MAE scores: 0.011289775751033553\n"
     ]
    }
   ],
   "source": [
    "from sklearn.model_selection import cross_val_score\n",
    "import xgboost as xgb\n",
    "\n",
    "# Definir el modelo\n",
    "xgb_model = xgb.XGBRegressor(\n",
    "    subsample=0.8, \n",
    "    n_estimators=200, \n",
    "    min_child_weight=1, \n",
    "    max_depth=8, \n",
    "    learning_rate=0.1, \n",
    "    gamma=0, \n",
    "    colsample_bytree=0.8,\n",
    "    objective='reg:squarederror',\n",
    "    random_state=42\n",
    ")\n",
    "\n",
    "# Realizar validación cruzada con MAE como métrica de evaluación\n",
    "scores = -cross_val_score(xgb_model, X_standardized, y, cv=5, scoring='neg_mean_absolute_error')\n",
    "\n",
    "print(f\"MAE scores from cross-validation: {scores}\")\n",
    "print(f\"Mean MAE score: {scores.mean()}\")\n",
    "print(f\"Standard Deviation of MAE scores: {scores.std()}\")"
   ],
   "metadata": {
    "collapsed": false,
    "ExecuteTime": {
     "end_time": "2023-09-30T21:05:09.036938099Z",
     "start_time": "2023-09-30T21:05:06.880881707Z"
    }
   },
   "id": "a87e57a388d7c257"
  },
  {
   "cell_type": "code",
   "execution_count": 20,
   "outputs": [
    {
     "name": "stderr",
     "output_type": "stream",
     "text": [
      "/home/alberte/Desktop/Fruit/.venv/lib/python3.10/site-packages/xgboost/data.py:520: FutureWarning: is_sparse is deprecated and will be removed in a future version. Check `isinstance(dtype, pd.SparseDtype)` instead.\n",
      "  if is_sparse(data):\n"
     ]
    },
    {
     "name": "stdout",
     "output_type": "stream",
     "text": [
      "Mean Absolute Error (MAE) con mayor regularización: 0.3018\n"
     ]
    }
   ],
   "source": [
    "# Aumentar la regularización\n",
    "xgb_reg_params = {\n",
    "    'objective': 'reg:squarederror',\n",
    "    'subsample': 0.8, \n",
    "    'n_estimators': 200, \n",
    "    'min_child_weight': 1, \n",
    "    'max_depth': 8, \n",
    "    'learning_rate': 0.05,  # Disminuir la tasa de aprendizaje\n",
    "    'gamma': 0.5,          # Aumentar gamma\n",
    "    'colsample_bytree': 0.8,\n",
    "    'alpha': 0.5,          # Aumentar alpha\n",
    "    'lambda': 1.5,         # Aumentar lambda\n",
    "    'random_state': 42\n",
    "}\n",
    "\n",
    "# Entrenar el modelo con los nuevos parámetros\n",
    "optimized_xgb_reg = xgb.XGBRegressor(**xgb_reg_params)\n",
    "optimized_xgb_reg.fit(X_train_std, y_train)\n",
    "\n",
    "# Evaluar el modelo en el conjunto de entrenamiento\n",
    "train_predictions = optimized_xgb_reg.predict(X_train_std)\n",
    "mae = mean_absolute_error(y_train, train_predictions)\n",
    "print(f\"Mean Absolute Error (MAE) con mayor regularización: {mae:.4f}\")\n"
   ],
   "metadata": {
    "collapsed": false,
    "ExecuteTime": {
     "end_time": "2023-09-30T21:08:18.468933421Z",
     "start_time": "2023-09-30T21:08:17.754505237Z"
    }
   },
   "id": "d9599c3e06630ca2"
  }
 ],
 "metadata": {
  "kernelspec": {
   "display_name": "Python 3",
   "language": "python",
   "name": "python3"
  },
  "language_info": {
   "codemirror_mode": {
    "name": "ipython",
    "version": 2
   },
   "file_extension": ".py",
   "mimetype": "text/x-python",
   "name": "python",
   "nbconvert_exporter": "python",
   "pygments_lexer": "ipython2",
   "version": "2.7.6"
  }
 },
 "nbformat": 4,
 "nbformat_minor": 5
}
