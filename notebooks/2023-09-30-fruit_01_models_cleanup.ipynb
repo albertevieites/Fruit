{
 "cells": [
  {
   "cell_type": "code",
   "execution_count": 15,
   "id": "initial_id",
   "metadata": {
    "collapsed": true,
    "ExecuteTime": {
     "end_time": "2023-09-30T17:01:50.070502439Z",
     "start_time": "2023-09-30T17:01:50.063760978Z"
    }
   },
   "outputs": [],
   "source": [
    "import pandas as pd\n",
    "\n",
    "from sklearn.preprocessing import StandardScaler\n",
    "from sklearn.model_selection import train_test_split\n",
    "from sklearn.metrics import mean_absolute_error, mean_squared_error"
   ]
  },
  {
   "cell_type": "code",
   "execution_count": 2,
   "outputs": [
    {
     "data": {
      "text/plain": "    C1        C2        C3    C4     C5    C6        C7       C8    C9  \\\n0  6.8  0.190620  0.307485  18.1  46.00  32.0  4.897840  1.00000  3.27   \n1  6.2  0.246860       NaN   5.0  43.00  50.0  5.241747  0.99318  3.23   \n2  6.7  0.350657  0.329304  12.1   0.04  61.0  5.517453  0.99794  3.31   \n3  6.8  0.254642  0.405465  13.3  53.00  48.0  5.273000  0.99740  3.09   \n4  6.6  0.215111  0.239017  15.8  35.00  46.0  5.241747  0.99820  3.24   \n\n        C10   C11  QUALITY  \n0  0.392042   8.8        5  \n1  0.494696  10.8        6  \n2  0.457425   9.7        5  \n3  0.371564   9.4        5  \n4  0.412110   9.2        5  ",
      "text/html": "<div>\n<style scoped>\n    .dataframe tbody tr th:only-of-type {\n        vertical-align: middle;\n    }\n\n    .dataframe tbody tr th {\n        vertical-align: top;\n    }\n\n    .dataframe thead th {\n        text-align: right;\n    }\n</style>\n<table border=\"1\" class=\"dataframe\">\n  <thead>\n    <tr style=\"text-align: right;\">\n      <th></th>\n      <th>C1</th>\n      <th>C2</th>\n      <th>C3</th>\n      <th>C4</th>\n      <th>C5</th>\n      <th>C6</th>\n      <th>C7</th>\n      <th>C8</th>\n      <th>C9</th>\n      <th>C10</th>\n      <th>C11</th>\n      <th>QUALITY</th>\n    </tr>\n  </thead>\n  <tbody>\n    <tr>\n      <th>0</th>\n      <td>6.8</td>\n      <td>0.190620</td>\n      <td>0.307485</td>\n      <td>18.1</td>\n      <td>46.00</td>\n      <td>32.0</td>\n      <td>4.897840</td>\n      <td>1.00000</td>\n      <td>3.27</td>\n      <td>0.392042</td>\n      <td>8.8</td>\n      <td>5</td>\n    </tr>\n    <tr>\n      <th>1</th>\n      <td>6.2</td>\n      <td>0.246860</td>\n      <td>NaN</td>\n      <td>5.0</td>\n      <td>43.00</td>\n      <td>50.0</td>\n      <td>5.241747</td>\n      <td>0.99318</td>\n      <td>3.23</td>\n      <td>0.494696</td>\n      <td>10.8</td>\n      <td>6</td>\n    </tr>\n    <tr>\n      <th>2</th>\n      <td>6.7</td>\n      <td>0.350657</td>\n      <td>0.329304</td>\n      <td>12.1</td>\n      <td>0.04</td>\n      <td>61.0</td>\n      <td>5.517453</td>\n      <td>0.99794</td>\n      <td>3.31</td>\n      <td>0.457425</td>\n      <td>9.7</td>\n      <td>5</td>\n    </tr>\n    <tr>\n      <th>3</th>\n      <td>6.8</td>\n      <td>0.254642</td>\n      <td>0.405465</td>\n      <td>13.3</td>\n      <td>53.00</td>\n      <td>48.0</td>\n      <td>5.273000</td>\n      <td>0.99740</td>\n      <td>3.09</td>\n      <td>0.371564</td>\n      <td>9.4</td>\n      <td>5</td>\n    </tr>\n    <tr>\n      <th>4</th>\n      <td>6.6</td>\n      <td>0.215111</td>\n      <td>0.239017</td>\n      <td>15.8</td>\n      <td>35.00</td>\n      <td>46.0</td>\n      <td>5.241747</td>\n      <td>0.99820</td>\n      <td>3.24</td>\n      <td>0.412110</td>\n      <td>9.2</td>\n      <td>5</td>\n    </tr>\n  </tbody>\n</table>\n</div>"
     },
     "execution_count": 2,
     "metadata": {},
     "output_type": "execute_result"
    }
   ],
   "source": [
    "df = pd.read_excel(\"../data/raw/entrenamiento.xlsx\")\n",
    "df = df.rename(columns={\"C7.1\": \"C8\", \"des\": \"QUALITY\"})\n",
    "features = df.columns[:-1]\n",
    "df.head()"
   ],
   "metadata": {
    "collapsed": false,
    "ExecuteTime": {
     "end_time": "2023-09-30T16:39:14.859541611Z",
     "start_time": "2023-09-30T16:39:14.216579226Z"
    }
   },
   "id": "783d102c672febb6"
  },
  {
   "cell_type": "code",
   "execution_count": 4,
   "outputs": [],
   "source": [
    "# Imputacion outliers variable C8\n",
    "high_values = df[\"C8\"] > 900\n",
    "df.loc[high_values, \"C8\"] = df.loc[high_values, \"C8\"] / 1000"
   ],
   "metadata": {
    "collapsed": false,
    "ExecuteTime": {
     "end_time": "2023-09-30T16:40:12.695660261Z",
     "start_time": "2023-09-30T16:40:12.692545045Z"
    }
   },
   "id": "e05c6eba1d1c8a59"
  },
  {
   "cell_type": "code",
   "execution_count": 8,
   "outputs": [
    {
     "data": {
      "text/plain": "       C1        C2        C3    C4     C5    C6        C7       C8    C9  \\\n0     6.8  0.190620  0.307485  18.1  46.00  32.0  4.897840  1.00000  3.27   \n1     6.2  0.246860       NaN   5.0  43.00  50.0  5.241747  0.99318  3.23   \n2     6.7  0.350657  0.329304  12.1   0.04  61.0  5.517453  0.99794  3.31   \n3     6.8  0.254642  0.405465  13.3  53.00  48.0  5.273000  0.99740  3.09   \n4     6.6  0.215111  0.239017  15.8  35.00  46.0  5.241747  0.99820  3.24   \n...   ...       ...       ...   ...    ...   ...       ...      ...   ...   \n3913  7.7       NaN  0.215111  11.2  31.00  41.0  5.123964  0.99480  3.12   \n3914  8.1  0.378436  0.270027   1.7  52.00  50.0  5.214936  0.99230  3.03   \n3915  6.1  0.148420  0.254642   6.0   0.03  29.0  4.976734  0.99474  3.68   \n3916  8.2  0.239017  0.329304   7.8    NaN  49.0  5.342334  0.99760  3.31   \n3917  6.8  0.165514  0.246860   9.8  39.00  29.0  4.736198  0.99406  3.11   \n\n           C10   C11  QUALITY  \n0     0.392042   8.8        5  \n1     0.494696  10.8        6  \n2     0.457425   9.7        5  \n3     0.371564   9.4        5  \n4     0.412110   9.2        5  \n...        ...   ...      ...  \n3913  0.357674  11.3        7  \n3914  0.350657  11.2        5  \n3915  0.378436  10.7        6  \n3916  0.412110   9.5        6  \n3917  0.371564  10.9        7  \n\n[3918 rows x 12 columns]",
      "text/html": "<div>\n<style scoped>\n    .dataframe tbody tr th:only-of-type {\n        vertical-align: middle;\n    }\n\n    .dataframe tbody tr th {\n        vertical-align: top;\n    }\n\n    .dataframe thead th {\n        text-align: right;\n    }\n</style>\n<table border=\"1\" class=\"dataframe\">\n  <thead>\n    <tr style=\"text-align: right;\">\n      <th></th>\n      <th>C1</th>\n      <th>C2</th>\n      <th>C3</th>\n      <th>C4</th>\n      <th>C5</th>\n      <th>C6</th>\n      <th>C7</th>\n      <th>C8</th>\n      <th>C9</th>\n      <th>C10</th>\n      <th>C11</th>\n      <th>QUALITY</th>\n    </tr>\n  </thead>\n  <tbody>\n    <tr>\n      <th>0</th>\n      <td>6.8</td>\n      <td>0.190620</td>\n      <td>0.307485</td>\n      <td>18.1</td>\n      <td>46.00</td>\n      <td>32.0</td>\n      <td>4.897840</td>\n      <td>1.00000</td>\n      <td>3.27</td>\n      <td>0.392042</td>\n      <td>8.8</td>\n      <td>5</td>\n    </tr>\n    <tr>\n      <th>1</th>\n      <td>6.2</td>\n      <td>0.246860</td>\n      <td>NaN</td>\n      <td>5.0</td>\n      <td>43.00</td>\n      <td>50.0</td>\n      <td>5.241747</td>\n      <td>0.99318</td>\n      <td>3.23</td>\n      <td>0.494696</td>\n      <td>10.8</td>\n      <td>6</td>\n    </tr>\n    <tr>\n      <th>2</th>\n      <td>6.7</td>\n      <td>0.350657</td>\n      <td>0.329304</td>\n      <td>12.1</td>\n      <td>0.04</td>\n      <td>61.0</td>\n      <td>5.517453</td>\n      <td>0.99794</td>\n      <td>3.31</td>\n      <td>0.457425</td>\n      <td>9.7</td>\n      <td>5</td>\n    </tr>\n    <tr>\n      <th>3</th>\n      <td>6.8</td>\n      <td>0.254642</td>\n      <td>0.405465</td>\n      <td>13.3</td>\n      <td>53.00</td>\n      <td>48.0</td>\n      <td>5.273000</td>\n      <td>0.99740</td>\n      <td>3.09</td>\n      <td>0.371564</td>\n      <td>9.4</td>\n      <td>5</td>\n    </tr>\n    <tr>\n      <th>4</th>\n      <td>6.6</td>\n      <td>0.215111</td>\n      <td>0.239017</td>\n      <td>15.8</td>\n      <td>35.00</td>\n      <td>46.0</td>\n      <td>5.241747</td>\n      <td>0.99820</td>\n      <td>3.24</td>\n      <td>0.412110</td>\n      <td>9.2</td>\n      <td>5</td>\n    </tr>\n    <tr>\n      <th>...</th>\n      <td>...</td>\n      <td>...</td>\n      <td>...</td>\n      <td>...</td>\n      <td>...</td>\n      <td>...</td>\n      <td>...</td>\n      <td>...</td>\n      <td>...</td>\n      <td>...</td>\n      <td>...</td>\n      <td>...</td>\n    </tr>\n    <tr>\n      <th>3913</th>\n      <td>7.7</td>\n      <td>NaN</td>\n      <td>0.215111</td>\n      <td>11.2</td>\n      <td>31.00</td>\n      <td>41.0</td>\n      <td>5.123964</td>\n      <td>0.99480</td>\n      <td>3.12</td>\n      <td>0.357674</td>\n      <td>11.3</td>\n      <td>7</td>\n    </tr>\n    <tr>\n      <th>3914</th>\n      <td>8.1</td>\n      <td>0.378436</td>\n      <td>0.270027</td>\n      <td>1.7</td>\n      <td>52.00</td>\n      <td>50.0</td>\n      <td>5.214936</td>\n      <td>0.99230</td>\n      <td>3.03</td>\n      <td>0.350657</td>\n      <td>11.2</td>\n      <td>5</td>\n    </tr>\n    <tr>\n      <th>3915</th>\n      <td>6.1</td>\n      <td>0.148420</td>\n      <td>0.254642</td>\n      <td>6.0</td>\n      <td>0.03</td>\n      <td>29.0</td>\n      <td>4.976734</td>\n      <td>0.99474</td>\n      <td>3.68</td>\n      <td>0.378436</td>\n      <td>10.7</td>\n      <td>6</td>\n    </tr>\n    <tr>\n      <th>3916</th>\n      <td>8.2</td>\n      <td>0.239017</td>\n      <td>0.329304</td>\n      <td>7.8</td>\n      <td>NaN</td>\n      <td>49.0</td>\n      <td>5.342334</td>\n      <td>0.99760</td>\n      <td>3.31</td>\n      <td>0.412110</td>\n      <td>9.5</td>\n      <td>6</td>\n    </tr>\n    <tr>\n      <th>3917</th>\n      <td>6.8</td>\n      <td>0.165514</td>\n      <td>0.246860</td>\n      <td>9.8</td>\n      <td>39.00</td>\n      <td>29.0</td>\n      <td>4.736198</td>\n      <td>0.99406</td>\n      <td>3.11</td>\n      <td>0.371564</td>\n      <td>10.9</td>\n      <td>7</td>\n    </tr>\n  </tbody>\n</table>\n<p>3918 rows × 12 columns</p>\n</div>"
     },
     "execution_count": 8,
     "metadata": {},
     "output_type": "execute_result"
    }
   ],
   "source": [
    "df_winsorized = df.copy()"
   ],
   "metadata": {
    "collapsed": false,
    "ExecuteTime": {
     "end_time": "2023-09-30T16:42:11.893774964Z",
     "start_time": "2023-09-30T16:42:11.853348777Z"
    }
   },
   "id": "1ab5660959d53e95"
  },
  {
   "cell_type": "markdown",
   "source": [
    "## Winsorize"
   ],
   "metadata": {
    "collapsed": false
   },
   "id": "c25ce689ec0db8d6"
  },
  {
   "cell_type": "code",
   "execution_count": 9,
   "outputs": [
    {
     "name": "stderr",
     "output_type": "stream",
     "text": [
      "/home/alberte/Desktop/Fruit/.venv/lib/python3.10/site-packages/numpy/lib/function_base.py:4823: UserWarning: Warning: 'partition' will ignore the 'mask' of the MaskedArray.\n",
      "  arr.partition(\n",
      "/home/alberte/Desktop/Fruit/.venv/lib/python3.10/site-packages/numpy/lib/function_base.py:4823: UserWarning: Warning: 'partition' will ignore the 'mask' of the MaskedArray.\n",
      "  arr.partition(\n",
      "/home/alberte/Desktop/Fruit/.venv/lib/python3.10/site-packages/numpy/lib/function_base.py:4823: UserWarning: Warning: 'partition' will ignore the 'mask' of the MaskedArray.\n",
      "  arr.partition(\n",
      "/home/alberte/Desktop/Fruit/.venv/lib/python3.10/site-packages/numpy/lib/function_base.py:4823: UserWarning: Warning: 'partition' will ignore the 'mask' of the MaskedArray.\n",
      "  arr.partition(\n",
      "/home/alberte/Desktop/Fruit/.venv/lib/python3.10/site-packages/numpy/lib/function_base.py:4823: UserWarning: Warning: 'partition' will ignore the 'mask' of the MaskedArray.\n",
      "  arr.partition(\n",
      "/home/alberte/Desktop/Fruit/.venv/lib/python3.10/site-packages/numpy/lib/function_base.py:4823: UserWarning: Warning: 'partition' will ignore the 'mask' of the MaskedArray.\n",
      "  arr.partition(\n",
      "/home/alberte/Desktop/Fruit/.venv/lib/python3.10/site-packages/numpy/lib/function_base.py:4823: UserWarning: Warning: 'partition' will ignore the 'mask' of the MaskedArray.\n",
      "  arr.partition(\n",
      "/home/alberte/Desktop/Fruit/.venv/lib/python3.10/site-packages/numpy/lib/function_base.py:4823: UserWarning: Warning: 'partition' will ignore the 'mask' of the MaskedArray.\n",
      "  arr.partition(\n",
      "/home/alberte/Desktop/Fruit/.venv/lib/python3.10/site-packages/numpy/lib/function_base.py:4823: UserWarning: Warning: 'partition' will ignore the 'mask' of the MaskedArray.\n",
      "  arr.partition(\n",
      "/home/alberte/Desktop/Fruit/.venv/lib/python3.10/site-packages/numpy/lib/function_base.py:4823: UserWarning: Warning: 'partition' will ignore the 'mask' of the MaskedArray.\n",
      "  arr.partition(\n",
      "/home/alberte/Desktop/Fruit/.venv/lib/python3.10/site-packages/numpy/lib/function_base.py:4823: UserWarning: Warning: 'partition' will ignore the 'mask' of the MaskedArray.\n",
      "  arr.partition(\n"
     ]
    },
    {
     "data": {
      "text/plain": "          count       mean        std       min        25%        50%  \\\nC1       3684.0   6.859229   0.841136  5.000000   6.300000   6.800000   \nC2       3664.0   0.421526   0.988179  0.113329   0.190620   0.231112   \nC3       3648.0   0.284464   0.085698  0.058269   0.239017   0.277632   \nC4       3636.0   6.425550   5.083063  0.900000   1.700000   5.300000   \nC5       3659.0  40.685327  25.105969  0.030000  33.000000  41.000000   \nC6       3655.0  35.233926  17.135911  6.000000  23.000000  34.000000   \nC7       3645.0   4.890383   0.322252  3.931826   4.691348   4.912655   \nC8       3646.0   0.994051   0.002996  0.988860   0.991760   0.993800   \nC9       3658.0   3.188710   0.151197  2.880000   3.090000   3.180000   \nC10      3639.0   0.395566   0.074237  0.254642   0.343590   0.385262   \nC11      3658.0  10.492810   1.216233  8.700000   9.400000  10.300000   \nQUALITY  3918.0   5.870342   0.887340  3.000000   5.000000   6.000000   \n\n               75%         max  \nC1        7.300000   14.200000  \nC2        0.285179    6.913737  \nC3        0.329304    0.802002  \nC4        9.900000   65.800000  \nC5       49.000000  346.000000  \nC6       46.000000  289.000000  \nC7        5.129899    6.089045  \nC8        0.996100    1.038980  \nC9        3.280000    3.820000  \nC10       0.438255    0.732368  \nC11      11.300000   14.000000  \nQUALITY   6.000000    9.000000  ",
      "text/html": "<div>\n<style scoped>\n    .dataframe tbody tr th:only-of-type {\n        vertical-align: middle;\n    }\n\n    .dataframe tbody tr th {\n        vertical-align: top;\n    }\n\n    .dataframe thead th {\n        text-align: right;\n    }\n</style>\n<table border=\"1\" class=\"dataframe\">\n  <thead>\n    <tr style=\"text-align: right;\">\n      <th></th>\n      <th>count</th>\n      <th>mean</th>\n      <th>std</th>\n      <th>min</th>\n      <th>25%</th>\n      <th>50%</th>\n      <th>75%</th>\n      <th>max</th>\n    </tr>\n  </thead>\n  <tbody>\n    <tr>\n      <th>C1</th>\n      <td>3684.0</td>\n      <td>6.859229</td>\n      <td>0.841136</td>\n      <td>5.000000</td>\n      <td>6.300000</td>\n      <td>6.800000</td>\n      <td>7.300000</td>\n      <td>14.200000</td>\n    </tr>\n    <tr>\n      <th>C2</th>\n      <td>3664.0</td>\n      <td>0.421526</td>\n      <td>0.988179</td>\n      <td>0.113329</td>\n      <td>0.190620</td>\n      <td>0.231112</td>\n      <td>0.285179</td>\n      <td>6.913737</td>\n    </tr>\n    <tr>\n      <th>C3</th>\n      <td>3648.0</td>\n      <td>0.284464</td>\n      <td>0.085698</td>\n      <td>0.058269</td>\n      <td>0.239017</td>\n      <td>0.277632</td>\n      <td>0.329304</td>\n      <td>0.802002</td>\n    </tr>\n    <tr>\n      <th>C4</th>\n      <td>3636.0</td>\n      <td>6.425550</td>\n      <td>5.083063</td>\n      <td>0.900000</td>\n      <td>1.700000</td>\n      <td>5.300000</td>\n      <td>9.900000</td>\n      <td>65.800000</td>\n    </tr>\n    <tr>\n      <th>C5</th>\n      <td>3659.0</td>\n      <td>40.685327</td>\n      <td>25.105969</td>\n      <td>0.030000</td>\n      <td>33.000000</td>\n      <td>41.000000</td>\n      <td>49.000000</td>\n      <td>346.000000</td>\n    </tr>\n    <tr>\n      <th>C6</th>\n      <td>3655.0</td>\n      <td>35.233926</td>\n      <td>17.135911</td>\n      <td>6.000000</td>\n      <td>23.000000</td>\n      <td>34.000000</td>\n      <td>46.000000</td>\n      <td>289.000000</td>\n    </tr>\n    <tr>\n      <th>C7</th>\n      <td>3645.0</td>\n      <td>4.890383</td>\n      <td>0.322252</td>\n      <td>3.931826</td>\n      <td>4.691348</td>\n      <td>4.912655</td>\n      <td>5.129899</td>\n      <td>6.089045</td>\n    </tr>\n    <tr>\n      <th>C8</th>\n      <td>3646.0</td>\n      <td>0.994051</td>\n      <td>0.002996</td>\n      <td>0.988860</td>\n      <td>0.991760</td>\n      <td>0.993800</td>\n      <td>0.996100</td>\n      <td>1.038980</td>\n    </tr>\n    <tr>\n      <th>C9</th>\n      <td>3658.0</td>\n      <td>3.188710</td>\n      <td>0.151197</td>\n      <td>2.880000</td>\n      <td>3.090000</td>\n      <td>3.180000</td>\n      <td>3.280000</td>\n      <td>3.820000</td>\n    </tr>\n    <tr>\n      <th>C10</th>\n      <td>3639.0</td>\n      <td>0.395566</td>\n      <td>0.074237</td>\n      <td>0.254642</td>\n      <td>0.343590</td>\n      <td>0.385262</td>\n      <td>0.438255</td>\n      <td>0.732368</td>\n    </tr>\n    <tr>\n      <th>C11</th>\n      <td>3658.0</td>\n      <td>10.492810</td>\n      <td>1.216233</td>\n      <td>8.700000</td>\n      <td>9.400000</td>\n      <td>10.300000</td>\n      <td>11.300000</td>\n      <td>14.000000</td>\n    </tr>\n    <tr>\n      <th>QUALITY</th>\n      <td>3918.0</td>\n      <td>5.870342</td>\n      <td>0.887340</td>\n      <td>3.000000</td>\n      <td>5.000000</td>\n      <td>6.000000</td>\n      <td>6.000000</td>\n      <td>9.000000</td>\n    </tr>\n  </tbody>\n</table>\n</div>"
     },
     "execution_count": 9,
     "metadata": {},
     "output_type": "execute_result"
    }
   ],
   "source": [
    "from scipy.stats import mstats\n",
    "\n",
    "for column in df_winsorized.columns:\n",
    "    if column != \"QUALITY\" and df_winsorized[column].dtype != 'object':\n",
    "        df_winsorized[column] = mstats.winsorize(df_winsorized[column], limits=[0.01, 0.01])\n",
    "        \n",
    "df_winsorized.describe().T"
   ],
   "metadata": {
    "collapsed": false,
    "ExecuteTime": {
     "end_time": "2023-09-30T16:44:19.545777802Z",
     "start_time": "2023-09-30T16:44:19.244586653Z"
    }
   },
   "id": "946f9ba0f84e874e"
  },
  {
   "cell_type": "code",
   "execution_count": 10,
   "outputs": [
    {
     "name": "stderr",
     "output_type": "stream",
     "text": [
      "/home/alberte/Desktop/Fruit/.venv/lib/python3.10/site-packages/numpy/core/fromnumeric.py:771: UserWarning: Warning: 'partition' will ignore the 'mask' of the MaskedArray.\n",
      "  a.partition(kth, axis=axis, kind=kind, order=order)\n",
      "/home/alberte/Desktop/Fruit/.venv/lib/python3.10/site-packages/numpy/core/fromnumeric.py:771: UserWarning: Warning: 'partition' will ignore the 'mask' of the MaskedArray.\n",
      "  a.partition(kth, axis=axis, kind=kind, order=order)\n",
      "/home/alberte/Desktop/Fruit/.venv/lib/python3.10/site-packages/numpy/core/fromnumeric.py:771: UserWarning: Warning: 'partition' will ignore the 'mask' of the MaskedArray.\n",
      "  a.partition(kth, axis=axis, kind=kind, order=order)\n",
      "/home/alberte/Desktop/Fruit/.venv/lib/python3.10/site-packages/numpy/core/fromnumeric.py:771: UserWarning: Warning: 'partition' will ignore the 'mask' of the MaskedArray.\n",
      "  a.partition(kth, axis=axis, kind=kind, order=order)\n",
      "/home/alberte/Desktop/Fruit/.venv/lib/python3.10/site-packages/numpy/core/fromnumeric.py:771: UserWarning: Warning: 'partition' will ignore the 'mask' of the MaskedArray.\n",
      "  a.partition(kth, axis=axis, kind=kind, order=order)\n",
      "/home/alberte/Desktop/Fruit/.venv/lib/python3.10/site-packages/numpy/core/fromnumeric.py:771: UserWarning: Warning: 'partition' will ignore the 'mask' of the MaskedArray.\n",
      "  a.partition(kth, axis=axis, kind=kind, order=order)\n",
      "/home/alberte/Desktop/Fruit/.venv/lib/python3.10/site-packages/numpy/core/fromnumeric.py:771: UserWarning: Warning: 'partition' will ignore the 'mask' of the MaskedArray.\n",
      "  a.partition(kth, axis=axis, kind=kind, order=order)\n",
      "/home/alberte/Desktop/Fruit/.venv/lib/python3.10/site-packages/numpy/core/fromnumeric.py:771: UserWarning: Warning: 'partition' will ignore the 'mask' of the MaskedArray.\n",
      "  a.partition(kth, axis=axis, kind=kind, order=order)\n",
      "/home/alberte/Desktop/Fruit/.venv/lib/python3.10/site-packages/numpy/core/fromnumeric.py:771: UserWarning: Warning: 'partition' will ignore the 'mask' of the MaskedArray.\n",
      "  a.partition(kth, axis=axis, kind=kind, order=order)\n",
      "/home/alberte/Desktop/Fruit/.venv/lib/python3.10/site-packages/numpy/core/fromnumeric.py:771: UserWarning: Warning: 'partition' will ignore the 'mask' of the MaskedArray.\n",
      "  a.partition(kth, axis=axis, kind=kind, order=order)\n",
      "/home/alberte/Desktop/Fruit/.venv/lib/python3.10/site-packages/numpy/core/fromnumeric.py:771: UserWarning: Warning: 'partition' will ignore the 'mask' of the MaskedArray.\n",
      "  a.partition(kth, axis=axis, kind=kind, order=order)\n"
     ]
    },
    {
     "data": {
      "text/plain": "Series([], dtype: int64)"
     },
     "execution_count": 10,
     "metadata": {},
     "output_type": "execute_result"
    }
   ],
   "source": [
    "# Imputacion de datos faltantes con la mediana\n",
    "# Impute missing values using median for predictor columns (excluding 'QUALITY')\n",
    "for column in df_winsorized.columns:\n",
    "    if column != \"QUALITY\" and df_winsorized[column].dtype != 'object':  # Exclude target column and non-numerical columns\n",
    "        median_value = df_winsorized[column].median()\n",
    "        df_winsorized[column].fillna(median_value, inplace=True)"
   ],
   "metadata": {
    "collapsed": false,
    "ExecuteTime": {
     "end_time": "2023-09-30T16:47:24.095009440Z",
     "start_time": "2023-09-30T16:47:24.074776147Z"
    }
   },
   "id": "3f5bffd05617b0e5"
  },
  {
   "cell_type": "code",
   "execution_count": 11,
   "outputs": [
    {
     "name": "stdout",
     "output_type": "stream",
     "text": [
      "<class 'pandas.core.frame.DataFrame'>\n",
      "RangeIndex: 3918 entries, 0 to 3917\n",
      "Data columns (total 12 columns):\n",
      " #   Column   Non-Null Count  Dtype  \n",
      "---  ------   --------------  -----  \n",
      " 0   C1       3918 non-null   float64\n",
      " 1   C2       3918 non-null   float64\n",
      " 2   C3       3918 non-null   float64\n",
      " 3   C4       3918 non-null   float64\n",
      " 4   C5       3918 non-null   float64\n",
      " 5   C6       3918 non-null   float64\n",
      " 6   C7       3918 non-null   float64\n",
      " 7   C8       3918 non-null   float64\n",
      " 8   C9       3918 non-null   float64\n",
      " 9   C10      3918 non-null   float64\n",
      " 10  C11      3918 non-null   float64\n",
      " 11  QUALITY  3918 non-null   int64  \n",
      "dtypes: float64(11), int64(1)\n",
      "memory usage: 367.4 KB\n"
     ]
    }
   ],
   "source": [
    "df_winsorized.info()"
   ],
   "metadata": {
    "collapsed": false,
    "ExecuteTime": {
     "end_time": "2023-09-30T16:47:57.902115632Z",
     "start_time": "2023-09-30T16:47:57.856174364Z"
    }
   },
   "id": "b4aaeed6f4253db6"
  },
  {
   "cell_type": "code",
   "execution_count": 16,
   "outputs": [],
   "source": [
    "X = df_winsorized.drop(\"QUALITY\", axis=1)\n",
    "y = df_winsorized[\"QUALITY\"]\n",
    "\n",
    "X_train, X_test, y_train, y_test = train_test_split(X, y, test_size=0.2, random_state=42)\n",
    "\n",
    "# Standardizing the data\n",
    "scaler = StandardScaler()\n",
    "X_train_std = scaler.fit_transform(X_train)\n",
    "X_test_std = scaler.transform(X_test)"
   ],
   "metadata": {
    "collapsed": false,
    "ExecuteTime": {
     "end_time": "2023-09-30T17:03:55.113984451Z",
     "start_time": "2023-09-30T17:03:55.103443813Z"
    }
   },
   "id": "d4d6b0452fde0b4"
  },
  {
   "cell_type": "code",
   "execution_count": 18,
   "outputs": [
    {
     "name": "stdout",
     "output_type": "stream",
     "text": [
      "MAE of XGBoost: 0.123014\n"
     ]
    },
    {
     "name": "stderr",
     "output_type": "stream",
     "text": [
      "/home/alberte/Desktop/Fruit/.venv/lib/python3.10/site-packages/xgboost/data.py:520: FutureWarning: is_sparse is deprecated and will be removed in a future version. Check `isinstance(dtype, pd.SparseDtype)` instead.\n",
      "  if is_sparse(data):\n"
     ]
    }
   ],
   "source": [
    "# XGBoost\n",
    "import xgboost as xgb\n",
    "\n",
    "# Initialize the XGBoost model\n",
    "xgb_model = xgb.XGBRegressor(objective='reg:squarederror', random_state=42)\n",
    "\n",
    "# Train the model\n",
    "xgb_model.fit(X_train_std, y_train)\n",
    "\n",
    "# Predict on the training set\n",
    "xgb_train_predictions = xgb_model.predict(X_train_std)\n",
    "\n",
    "# Calculate the MAE for XGBoost\n",
    "mae_xgb = mean_absolute_error(y_train, xgb_train_predictions)\n",
    "print(f'MAE of XGBoost: {mae_xgb:.6}')\n"
   ],
   "metadata": {
    "collapsed": false,
    "ExecuteTime": {
     "end_time": "2023-09-30T17:09:51.227056242Z",
     "start_time": "2023-09-30T17:09:51.039338652Z"
    }
   },
   "id": "f2f1637104a6d87a"
  },
  {
   "cell_type": "code",
   "execution_count": 23,
   "outputs": [
    {
     "name": "stdout",
     "output_type": "stream",
     "text": [
      "MAE of Stacking: 0.163018\n"
     ]
    }
   ],
   "source": [
    "# Stacking\n",
    "from sklearn.ensemble import StackingRegressor\n",
    "from sklearn.linear_model import LinearRegression\n",
    "import xgboost as xgb\n",
    "from sklearn.ensemble import RandomForestRegressor, GradientBoostingRegressor\n",
    "\n",
    "# Definir los modelos base\n",
    "base_models = [\n",
    "    (\"xgb\", xgb.XGBRegressor(objective='reg:squarederror', random_state=42)),\n",
    "    (\"rf\", RandomForestRegressor(max_depth=None, min_samples_leaf=1, min_samples_split=2, n_estimators=150, random_state=42)),\n",
    "    (\"gb\", GradientBoostingRegressor(learning_rate=0.1, max_depth=7, max_features='sqrt', min_samples_leaf=3, min_samples_split=2, n_estimators=150, subsample=1.0, random_state=42))\n",
    "]\n",
    "\n",
    "# Inicializar el Stacking Regressor con los modelos base y un meta-modelo lineal\n",
    "stacked_model = StackingRegressor(estimators=base_models, final_estimator=LinearRegression())\n",
    "\n",
    "# Entrenar el modelo\n",
    "stacked_model.fit(X_train_std, y_train)\n",
    "\n",
    "# Predecir en el conjunto de entrenamiento\n",
    "stacked_train_predictions = stacked_model.predict(X_train_std)\n",
    "\n",
    "# Calcular el MAE para el Stacking Regressor\n",
    "mae_stacked = mean_absolute_error(y_train, stacked_train_predictions)\n",
    "print(f'MAE of Stacking: {mae_stacked:.6}')"
   ],
   "metadata": {
    "collapsed": false,
    "ExecuteTime": {
     "end_time": "2023-09-30T17:15:43.153264092Z",
     "start_time": "2023-09-30T17:15:32.246430313Z"
    }
   },
   "id": "6743505041f274cc"
  },
  {
   "cell_type": "code",
   "execution_count": 26,
   "outputs": [
    {
     "name": "stdout",
     "output_type": "stream",
     "text": [
      "MAE of Gradient Boosting: 0.1715\n"
     ]
    }
   ],
   "source": [
    "# Gradient Boosting\n",
    "# Gradient Boosting\n",
    "from sklearn.ensemble import GradientBoostingRegressor\n",
    "\n",
    "# Create a Gradient Boosting Regressor model\n",
    "gb_model = GradientBoostingRegressor(\n",
    "    learning_rate=0.1,\n",
    "    max_depth=7,\n",
    "    max_features='sqrt',\n",
    "    min_samples_leaf=3,\n",
    "    min_samples_split=2,\n",
    "    n_estimators=150,\n",
    "    subsample=1.0,\n",
    "    random_state=42)\n",
    "\n",
    "# Train the model\n",
    "gb_model.fit(X_train_std, y_train)\n",
    "\n",
    "# Predict on the training set\n",
    "gb_train_predictions = gb_model.predict(X_train_std)\n",
    "\n",
    "# Calculate the MAE for Gradient Boosting\n",
    "mae_gb = mean_absolute_error(y_train, gb_train_predictions)\n",
    "print(f'MAE of Gradient Boosting: {mae_gb:.6}')"
   ],
   "metadata": {
    "collapsed": false,
    "ExecuteTime": {
     "end_time": "2023-09-30T17:18:42.865141512Z",
     "start_time": "2023-09-30T17:18:42.396677466Z"
    }
   },
   "id": "ea5d5a417fed9380"
  },
  {
   "cell_type": "code",
   "execution_count": 29,
   "outputs": [
    {
     "name": "stderr",
     "output_type": "stream",
     "text": [
      "/home/alberte/Desktop/Fruit/.venv/lib/python3.10/site-packages/xgboost/data.py:520: FutureWarning: is_sparse is deprecated and will be removed in a future version. Check `isinstance(dtype, pd.SparseDtype)` instead.\n",
      "  if is_sparse(data):\n",
      "/home/alberte/Desktop/Fruit/.venv/lib/python3.10/site-packages/xgboost/data.py:520: FutureWarning: is_sparse is deprecated and will be removed in a future version. Check `isinstance(dtype, pd.SparseDtype)` instead.\n",
      "  if is_sparse(data):\n",
      "/home/alberte/Desktop/Fruit/.venv/lib/python3.10/site-packages/xgboost/data.py:520: FutureWarning: is_sparse is deprecated and will be removed in a future version. Check `isinstance(dtype, pd.SparseDtype)` instead.\n",
      "  if is_sparse(data):\n",
      "/home/alberte/Desktop/Fruit/.venv/lib/python3.10/site-packages/xgboost/data.py:520: FutureWarning: is_sparse is deprecated and will be removed in a future version. Check `isinstance(dtype, pd.SparseDtype)` instead.\n",
      "  if is_sparse(data):\n",
      "/home/alberte/Desktop/Fruit/.venv/lib/python3.10/site-packages/xgboost/data.py:520: FutureWarning: is_sparse is deprecated and will be removed in a future version. Check `isinstance(dtype, pd.SparseDtype)` instead.\n",
      "  if is_sparse(data):\n",
      "/home/alberte/Desktop/Fruit/.venv/lib/python3.10/site-packages/xgboost/data.py:520: FutureWarning: is_sparse is deprecated and will be removed in a future version. Check `isinstance(dtype, pd.SparseDtype)` instead.\n",
      "  if is_sparse(data):\n",
      "/home/alberte/Desktop/Fruit/.venv/lib/python3.10/site-packages/xgboost/data.py:520: FutureWarning: is_sparse is deprecated and will be removed in a future version. Check `isinstance(dtype, pd.SparseDtype)` instead.\n",
      "  if is_sparse(data):\n",
      "/home/alberte/Desktop/Fruit/.venv/lib/python3.10/site-packages/xgboost/data.py:520: FutureWarning: is_sparse is deprecated and will be removed in a future version. Check `isinstance(dtype, pd.SparseDtype)` instead.\n",
      "  if is_sparse(data):\n",
      "/home/alberte/Desktop/Fruit/.venv/lib/python3.10/site-packages/xgboost/data.py:520: FutureWarning: is_sparse is deprecated and will be removed in a future version. Check `isinstance(dtype, pd.SparseDtype)` instead.\n",
      "  if is_sparse(data):\n",
      "/home/alberte/Desktop/Fruit/.venv/lib/python3.10/site-packages/xgboost/data.py:520: FutureWarning: is_sparse is deprecated and will be removed in a future version. Check `isinstance(dtype, pd.SparseDtype)` instead.\n",
      "  if is_sparse(data):\n"
     ]
    },
    {
     "data": {
      "text/plain": "(0.5407886055656513, 0.0301071375601385)"
     },
     "execution_count": 29,
     "metadata": {},
     "output_type": "execute_result"
    }
   ],
   "source": [
    "from sklearn.model_selection import cross_val_score\n",
    "\n",
    "# Create a function to evaluate the model using cross-validation\n",
    "def evaluate_cross_val(model, X, y, cv=10):\n",
    "    # Calculate negative MAE scores for cross-validation\n",
    "    negative_mae_scores = cross_val_score(model, X, y, scoring=\"neg_mean_absolute_error\", cv=cv)\n",
    "    \n",
    "    # Convert negative MAE to positive\n",
    "    mae_scores = -1 * negative_mae_scores\n",
    "    \n",
    "    # Calculate mean and standard deviation of MAE scores\n",
    "    mean_mae = mae_scores.mean()\n",
    "    std_mae = mae_scores.std()\n",
    "    \n",
    "    return mean_mae, std_mae\n",
    "\n",
    "# Evaluate XGBoost model using cross-validation\n",
    "xgb_model = xgb.XGBRegressor(objective='reg:squarederror', random_state=42)\n",
    "mean_mae_xgb, std_mae_xgb = evaluate_cross_val(xgb_model, X_train_std, y_train)\n",
    "\n",
    "mean_mae_xgb, std_mae_xgb"
   ],
   "metadata": {
    "collapsed": false,
    "ExecuteTime": {
     "end_time": "2023-09-30T17:29:49.132523564Z",
     "start_time": "2023-09-30T17:29:47.789830999Z"
    }
   },
   "id": "6fb19946d09d8e27"
  },
  {
   "cell_type": "code",
   "execution_count": 30,
   "outputs": [
    {
     "data": {
      "text/plain": "(0.6206346715466269, 0.013158781683302747)"
     },
     "execution_count": 30,
     "metadata": {},
     "output_type": "execute_result"
    }
   ],
   "source": [
    "from sklearn.linear_model import LinearRegression\n",
    "\n",
    "# Re-ejecutando la validación cruzada para el modelo de regresión lineal con imputación de mediana\n",
    "\n",
    "# Inicializar el modelo de regresión lineal\n",
    "lin_reg_model = LinearRegression()\n",
    "\n",
    "# Realizar la validación cruzada\n",
    "cv_scores = cross_val_score(lin_reg_model, X_train_std, y_train, scoring='neg_mean_absolute_error', cv=5)\n",
    "\n",
    "# Calcular el MAE promedio y su desviación estándar\n",
    "mean_cv_mae = -cv_scores.mean()\n",
    "std_cv_mae = cv_scores.std()\n",
    "\n",
    "mean_cv_mae, std_cv_mae\n"
   ],
   "metadata": {
    "collapsed": false,
    "ExecuteTime": {
     "end_time": "2023-09-30T17:33:29.883241235Z",
     "start_time": "2023-09-30T17:33:29.868912117Z"
    }
   },
   "id": "a590a0dbb5eded55"
  },
  {
   "cell_type": "markdown",
   "source": [
    "## Validazion cruzada usando la mediana"
   ],
   "metadata": {
    "collapsed": false
   },
   "id": "e7c9fd9011b919b9"
  },
  {
   "cell_type": "code",
   "execution_count": 32,
   "outputs": [
    {
     "data": {
      "text/plain": "(0.6206343933397973, 0.013156650332251829)"
     },
     "execution_count": 32,
     "metadata": {},
     "output_type": "execute_result"
    }
   ],
   "source": [
    "from sklearn.linear_model import Ridge\n",
    "\n",
    "# Initialize the Ridge Regressor\n",
    "ridge_model = Ridge()\n",
    "\n",
    "# Perform cross-validation\n",
    "ridge_scores = cross_val_score(ridge_model, X_train_std, y_train, cv=5, scoring='neg_mean_absolute_error')\n",
    "\n",
    "# Calculate mean and standard deviation of MAE\n",
    "ridge_mae_mean = -ridge_scores.mean()\n",
    "ridge_mae_std = ridge_scores.std()\n",
    "\n",
    "ridge_mae_mean, ridge_mae_std"
   ],
   "metadata": {
    "collapsed": false,
    "ExecuteTime": {
     "end_time": "2023-09-30T17:35:59.924877640Z",
     "start_time": "2023-09-30T17:35:59.834943139Z"
    }
   },
   "id": "4654bc699ddaa5b2"
  },
  {
   "cell_type": "code",
   "execution_count": 33,
   "outputs": [
    {
     "data": {
      "text/plain": "(0.6822016503060935, 0.023036559937844144)"
     },
     "execution_count": 33,
     "metadata": {},
     "output_type": "execute_result"
    }
   ],
   "source": [
    "from sklearn.linear_model import Lasso\n",
    "\n",
    "# Initialize the Lasso Regressor\n",
    "lasso_model = Lasso()\n",
    "\n",
    "# Perform cross-validation\n",
    "lasso_scores = cross_val_score(lasso_model, X_train_std, y_train, cv=5, scoring='neg_mean_absolute_error')\n",
    "\n",
    "# Calculate mean and standard deviation of MAE\n",
    "lasso_mae_mean = -lasso_scores.mean()\n",
    "lasso_mae_std = lasso_scores.std()\n",
    "\n",
    "lasso_mae_mean, lasso_mae_std"
   ],
   "metadata": {
    "collapsed": false,
    "ExecuteTime": {
     "end_time": "2023-09-30T17:36:11.585166993Z",
     "start_time": "2023-09-30T17:36:11.546858079Z"
    }
   },
   "id": "40029c05cb1d02f"
  },
  {
   "cell_type": "code",
   "execution_count": 34,
   "outputs": [
    {
     "data": {
      "text/plain": "(0.6462473242657519, 0.028378803535728594)"
     },
     "execution_count": 34,
     "metadata": {},
     "output_type": "execute_result"
    }
   ],
   "source": [
    "from sklearn.tree import DecisionTreeRegressor\n",
    "\n",
    "# Initialize the Decision Tree Regressor\n",
    "dt_model = DecisionTreeRegressor(random_state=42)\n",
    "\n",
    "# Perform cross-validation\n",
    "dt_scores = cross_val_score(dt_model, X_train_std, y_train, cv=5, scoring='neg_mean_absolute_error')\n",
    "\n",
    "# Calculate mean and standard deviation of MAE\n",
    "dt_mae_mean = -dt_scores.mean()\n",
    "dt_mae_std = dt_scores.std()\n",
    "\n",
    "dt_mae_mean, dt_mae_std"
   ],
   "metadata": {
    "collapsed": false,
    "ExecuteTime": {
     "end_time": "2023-09-30T17:36:23.982835802Z",
     "start_time": "2023-09-30T17:36:23.900897320Z"
    }
   },
   "id": "69f96285e1525710"
  },
  {
   "cell_type": "code",
   "execution_count": 35,
   "outputs": [
    {
     "data": {
      "text/plain": "(0.5322988512624148, 0.008405573783347733)"
     },
     "execution_count": 35,
     "metadata": {},
     "output_type": "execute_result"
    }
   ],
   "source": [
    "from sklearn.ensemble import RandomForestRegressor\n",
    "\n",
    "# Initialize the Random Forest Regressor\n",
    "rf_model = RandomForestRegressor(random_state=42)\n",
    "\n",
    "# Attempt to perform cross-validation\n",
    "try:\n",
    "    rf_scores = cross_val_score(rf_model, X_train_std, y_train, cv=5, scoring='neg_mean_absolute_error')\n",
    "\n",
    "    # Calculate mean and standard deviation of MAE\n",
    "    rf_mae_mean = -rf_scores.mean()\n",
    "    rf_mae_std = rf_scores.std()\n",
    "    result = (rf_mae_mean, rf_mae_std)\n",
    "except:\n",
    "    result = \"Error encountered while performing cross-validation on Random Forest.\"\n",
    "\n",
    "result\n"
   ],
   "metadata": {
    "collapsed": false,
    "ExecuteTime": {
     "end_time": "2023-09-30T17:36:48.228519280Z",
     "start_time": "2023-09-30T17:36:43.665342660Z"
    }
   },
   "id": "5d4108a6af880c0b"
  },
  {
   "cell_type": "code",
   "execution_count": 36,
   "outputs": [
    {
     "name": "stderr",
     "output_type": "stream",
     "text": [
      "/home/alberte/Desktop/Fruit/.venv/lib/python3.10/site-packages/xgboost/data.py:520: FutureWarning: is_sparse is deprecated and will be removed in a future version. Check `isinstance(dtype, pd.SparseDtype)` instead.\n",
      "  if is_sparse(data):\n",
      "/home/alberte/Desktop/Fruit/.venv/lib/python3.10/site-packages/xgboost/data.py:520: FutureWarning: is_sparse is deprecated and will be removed in a future version. Check `isinstance(dtype, pd.SparseDtype)` instead.\n",
      "  if is_sparse(data):\n",
      "/home/alberte/Desktop/Fruit/.venv/lib/python3.10/site-packages/xgboost/data.py:520: FutureWarning: is_sparse is deprecated and will be removed in a future version. Check `isinstance(dtype, pd.SparseDtype)` instead.\n",
      "  if is_sparse(data):\n",
      "/home/alberte/Desktop/Fruit/.venv/lib/python3.10/site-packages/xgboost/data.py:520: FutureWarning: is_sparse is deprecated and will be removed in a future version. Check `isinstance(dtype, pd.SparseDtype)` instead.\n",
      "  if is_sparse(data):\n",
      "/home/alberte/Desktop/Fruit/.venv/lib/python3.10/site-packages/xgboost/data.py:520: FutureWarning: is_sparse is deprecated and will be removed in a future version. Check `isinstance(dtype, pd.SparseDtype)` instead.\n",
      "  if is_sparse(data):\n"
     ]
    },
    {
     "data": {
      "text/plain": "(0.567029630762703,\n 0.010023545159152263,\n 0.5450311923603012,\n 0.01897256243739973)"
     },
     "execution_count": 36,
     "metadata": {},
     "output_type": "execute_result"
    }
   ],
   "source": [
    "from sklearn.model_selection import cross_val_score\n",
    "\n",
    "# Gradient Boosting\n",
    "gb_model = GradientBoostingRegressor(random_state=42)\n",
    "gb_scores = cross_val_score(gb_model, X_train_std, y_train, cv=5, scoring='neg_mean_absolute_error')\n",
    "\n",
    "# XGBoost\n",
    "xgb_model = xgb.XGBRegressor(objective='reg:squarederror', random_state=42)\n",
    "xgb_scores = cross_val_score(xgb_model, X_train_std, y_train, cv=5, scoring='neg_mean_absolute_error')\n",
    "\n",
    "gb_mean_mae = -gb_scores.mean()\n",
    "gb_std_mae = gb_scores.std()\n",
    "\n",
    "xgb_mean_mae = -xgb_scores.mean()\n",
    "xgb_std_mae = xgb_scores.std()\n",
    "\n",
    "gb_mean_mae, gb_std_mae, xgb_mean_mae, xgb_std_mae"
   ],
   "metadata": {
    "collapsed": false,
    "ExecuteTime": {
     "end_time": "2023-09-30T17:39:10.868175874Z",
     "start_time": "2023-09-30T17:39:08.696277714Z"
    }
   },
   "id": "db8735078ee14378"
  }
 ],
 "metadata": {
  "kernelspec": {
   "display_name": "Python 3",
   "language": "python",
   "name": "python3"
  },
  "language_info": {
   "codemirror_mode": {
    "name": "ipython",
    "version": 2
   },
   "file_extension": ".py",
   "mimetype": "text/x-python",
   "name": "python",
   "nbconvert_exporter": "python",
   "pygments_lexer": "ipython2",
   "version": "2.7.6"
  }
 },
 "nbformat": 4,
 "nbformat_minor": 5
}
