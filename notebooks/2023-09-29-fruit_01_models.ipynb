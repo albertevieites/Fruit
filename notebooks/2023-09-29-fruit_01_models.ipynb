{
 "cells": [
  {
   "cell_type": "code",
   "execution_count": 19,
   "outputs": [],
   "source": [
    "import  pandas as pd\n",
    "\n",
    "import matplotlib.pyplot as plt\n",
    "import klib\n",
    "\n",
    "from sklearn.model_selection import train_test_split\n",
    "from sklearn.preprocessing import StandardScaler\n",
    "from sklearn.linear_model import LinearRegression\n",
    "from sklearn.metrics import mean_absolute_error, mean_squared_error"
   ],
   "metadata": {
    "collapsed": false,
    "ExecuteTime": {
     "end_time": "2023-09-29T11:14:39.368095309Z",
     "start_time": "2023-09-29T11:14:39.326587665Z"
    }
   }
  },
  {
   "cell_type": "code",
   "execution_count": 3,
   "outputs": [
    {
     "data": {
      "text/plain": "    C1        C2        C3    C4     C5    C6        C7       C8    C9  \\\n0  6.8  0.190620  0.307485  18.1  46.00  32.0  4.897840  1.00000  3.27   \n1  6.2  0.246860       NaN   5.0  43.00  50.0  5.241747  0.99318  3.23   \n2  6.7  0.350657  0.329304  12.1   0.04  61.0  5.517453  0.99794  3.31   \n3  6.8  0.254642  0.405465  13.3  53.00  48.0  5.273000  0.99740  3.09   \n4  6.6  0.215111  0.239017  15.8  35.00  46.0  5.241747  0.99820  3.24   \n\n        C10   C11  QUALITY  \n0  0.392042   8.8        5  \n1  0.494696  10.8        6  \n2  0.457425   9.7        5  \n3  0.371564   9.4        5  \n4  0.412110   9.2        5  ",
      "text/html": "<div>\n<style scoped>\n    .dataframe tbody tr th:only-of-type {\n        vertical-align: middle;\n    }\n\n    .dataframe tbody tr th {\n        vertical-align: top;\n    }\n\n    .dataframe thead th {\n        text-align: right;\n    }\n</style>\n<table border=\"1\" class=\"dataframe\">\n  <thead>\n    <tr style=\"text-align: right;\">\n      <th></th>\n      <th>C1</th>\n      <th>C2</th>\n      <th>C3</th>\n      <th>C4</th>\n      <th>C5</th>\n      <th>C6</th>\n      <th>C7</th>\n      <th>C8</th>\n      <th>C9</th>\n      <th>C10</th>\n      <th>C11</th>\n      <th>QUALITY</th>\n    </tr>\n  </thead>\n  <tbody>\n    <tr>\n      <th>0</th>\n      <td>6.8</td>\n      <td>0.190620</td>\n      <td>0.307485</td>\n      <td>18.1</td>\n      <td>46.00</td>\n      <td>32.0</td>\n      <td>4.897840</td>\n      <td>1.00000</td>\n      <td>3.27</td>\n      <td>0.392042</td>\n      <td>8.8</td>\n      <td>5</td>\n    </tr>\n    <tr>\n      <th>1</th>\n      <td>6.2</td>\n      <td>0.246860</td>\n      <td>NaN</td>\n      <td>5.0</td>\n      <td>43.00</td>\n      <td>50.0</td>\n      <td>5.241747</td>\n      <td>0.99318</td>\n      <td>3.23</td>\n      <td>0.494696</td>\n      <td>10.8</td>\n      <td>6</td>\n    </tr>\n    <tr>\n      <th>2</th>\n      <td>6.7</td>\n      <td>0.350657</td>\n      <td>0.329304</td>\n      <td>12.1</td>\n      <td>0.04</td>\n      <td>61.0</td>\n      <td>5.517453</td>\n      <td>0.99794</td>\n      <td>3.31</td>\n      <td>0.457425</td>\n      <td>9.7</td>\n      <td>5</td>\n    </tr>\n    <tr>\n      <th>3</th>\n      <td>6.8</td>\n      <td>0.254642</td>\n      <td>0.405465</td>\n      <td>13.3</td>\n      <td>53.00</td>\n      <td>48.0</td>\n      <td>5.273000</td>\n      <td>0.99740</td>\n      <td>3.09</td>\n      <td>0.371564</td>\n      <td>9.4</td>\n      <td>5</td>\n    </tr>\n    <tr>\n      <th>4</th>\n      <td>6.6</td>\n      <td>0.215111</td>\n      <td>0.239017</td>\n      <td>15.8</td>\n      <td>35.00</td>\n      <td>46.0</td>\n      <td>5.241747</td>\n      <td>0.99820</td>\n      <td>3.24</td>\n      <td>0.412110</td>\n      <td>9.2</td>\n      <td>5</td>\n    </tr>\n  </tbody>\n</table>\n</div>"
     },
     "execution_count": 3,
     "metadata": {},
     "output_type": "execute_result"
    }
   ],
   "source": [
    "df = pd.read_excel(\"../data/raw/entrenamiento.xlsx\")\n",
    "df = df.rename(columns={\"C7.1\": \"C8\", \"des\": \"QUALITY\"})\n",
    "features = df.columns[:-1]\n",
    "df.head()"
   ],
   "metadata": {
    "collapsed": false,
    "ExecuteTime": {
     "end_time": "2023-09-29T10:49:10.748059004Z",
     "start_time": "2023-09-29T10:49:10.212045307Z"
    }
   }
  },
  {
   "cell_type": "markdown",
   "source": [
    "## Ouliers"
   ],
   "metadata": {
    "collapsed": false
   }
  },
  {
   "cell_type": "code",
   "execution_count": 4,
   "outputs": [
    {
     "data": {
      "text/plain": "count    3646.000000\nmean        0.994044\nstd         0.003008\nmin         0.987110\n25%         0.991760\n50%         0.993800\n75%         0.996100\nmax         1.038980\nName: C8, dtype: float64"
     },
     "execution_count": 4,
     "metadata": {},
     "output_type": "execute_result"
    }
   ],
   "source": [
    "# Correct the values in column C8 that are above 900 by dividing them by 1000\n",
    "high_values = df[\"C8\"] > 900\n",
    "df.loc[high_values, \"C8\"] = df.loc[high_values, \"C8\"] / 1000\n",
    "\n",
    "# Display the basic statistics of the corrected column\n",
    "df[\"C8\"].describe()"
   ],
   "metadata": {
    "collapsed": false,
    "ExecuteTime": {
     "end_time": "2023-09-29T10:49:13.624072532Z",
     "start_time": "2023-09-29T10:49:13.615184453Z"
    }
   }
  },
  {
   "cell_type": "code",
   "execution_count": 5,
   "outputs": [
    {
     "data": {
      "text/plain": "          count       mean        std       min        25%        50%  \\\nC1       3684.0   6.857166   0.846430  3.800000   6.300000   6.800000   \nC2       3664.0   0.421440   0.988207  0.076961   0.190620   0.231112   \nC3       3648.0   0.284054   0.086887  0.000000   0.239017   0.277632   \nC4       3636.0   6.424642   5.084063  0.600000   1.700000   5.300000   \nC5       3659.0  40.685294  25.106022  0.020000  33.000000  41.000000   \nC6       3655.0  35.216142  17.167346  2.000000  23.000000  34.000000   \nC7       3645.0   4.885591   0.341723  2.302585   4.691348   4.912655   \nC8       3646.0   0.994044   0.003008  0.987110   0.991760   0.993800   \nC9       3658.0   3.188291   0.152155  2.720000   3.090000   3.180000   \nC10      3639.0   0.395421   0.074535  0.198851   0.343590   0.385262   \nC11      3658.0  10.491607   1.218126  8.000000   9.400000  10.300000   \nQUALITY  3918.0   5.870342   0.887340  3.000000   5.000000   6.000000   \n\n               75%         max  \nC1        7.300000   14.200000  \nC2        0.285179    6.913737  \nC3        0.329304    0.802002  \nC4        9.900000   65.800000  \nC5       49.000000  346.000000  \nC6       46.000000  289.000000  \nC7        5.129899    6.089045  \nC8        0.996100    1.038980  \nC9        3.280000    3.820000  \nC10       0.438255    0.732368  \nC11      11.300000   14.000000  \nQUALITY   6.000000    9.000000  ",
      "text/html": "<div>\n<style scoped>\n    .dataframe tbody tr th:only-of-type {\n        vertical-align: middle;\n    }\n\n    .dataframe tbody tr th {\n        vertical-align: top;\n    }\n\n    .dataframe thead th {\n        text-align: right;\n    }\n</style>\n<table border=\"1\" class=\"dataframe\">\n  <thead>\n    <tr style=\"text-align: right;\">\n      <th></th>\n      <th>count</th>\n      <th>mean</th>\n      <th>std</th>\n      <th>min</th>\n      <th>25%</th>\n      <th>50%</th>\n      <th>75%</th>\n      <th>max</th>\n    </tr>\n  </thead>\n  <tbody>\n    <tr>\n      <th>C1</th>\n      <td>3684.0</td>\n      <td>6.857166</td>\n      <td>0.846430</td>\n      <td>3.800000</td>\n      <td>6.300000</td>\n      <td>6.800000</td>\n      <td>7.300000</td>\n      <td>14.200000</td>\n    </tr>\n    <tr>\n      <th>C2</th>\n      <td>3664.0</td>\n      <td>0.421440</td>\n      <td>0.988207</td>\n      <td>0.076961</td>\n      <td>0.190620</td>\n      <td>0.231112</td>\n      <td>0.285179</td>\n      <td>6.913737</td>\n    </tr>\n    <tr>\n      <th>C3</th>\n      <td>3648.0</td>\n      <td>0.284054</td>\n      <td>0.086887</td>\n      <td>0.000000</td>\n      <td>0.239017</td>\n      <td>0.277632</td>\n      <td>0.329304</td>\n      <td>0.802002</td>\n    </tr>\n    <tr>\n      <th>C4</th>\n      <td>3636.0</td>\n      <td>6.424642</td>\n      <td>5.084063</td>\n      <td>0.600000</td>\n      <td>1.700000</td>\n      <td>5.300000</td>\n      <td>9.900000</td>\n      <td>65.800000</td>\n    </tr>\n    <tr>\n      <th>C5</th>\n      <td>3659.0</td>\n      <td>40.685294</td>\n      <td>25.106022</td>\n      <td>0.020000</td>\n      <td>33.000000</td>\n      <td>41.000000</td>\n      <td>49.000000</td>\n      <td>346.000000</td>\n    </tr>\n    <tr>\n      <th>C6</th>\n      <td>3655.0</td>\n      <td>35.216142</td>\n      <td>17.167346</td>\n      <td>2.000000</td>\n      <td>23.000000</td>\n      <td>34.000000</td>\n      <td>46.000000</td>\n      <td>289.000000</td>\n    </tr>\n    <tr>\n      <th>C7</th>\n      <td>3645.0</td>\n      <td>4.885591</td>\n      <td>0.341723</td>\n      <td>2.302585</td>\n      <td>4.691348</td>\n      <td>4.912655</td>\n      <td>5.129899</td>\n      <td>6.089045</td>\n    </tr>\n    <tr>\n      <th>C8</th>\n      <td>3646.0</td>\n      <td>0.994044</td>\n      <td>0.003008</td>\n      <td>0.987110</td>\n      <td>0.991760</td>\n      <td>0.993800</td>\n      <td>0.996100</td>\n      <td>1.038980</td>\n    </tr>\n    <tr>\n      <th>C9</th>\n      <td>3658.0</td>\n      <td>3.188291</td>\n      <td>0.152155</td>\n      <td>2.720000</td>\n      <td>3.090000</td>\n      <td>3.180000</td>\n      <td>3.280000</td>\n      <td>3.820000</td>\n    </tr>\n    <tr>\n      <th>C10</th>\n      <td>3639.0</td>\n      <td>0.395421</td>\n      <td>0.074535</td>\n      <td>0.198851</td>\n      <td>0.343590</td>\n      <td>0.385262</td>\n      <td>0.438255</td>\n      <td>0.732368</td>\n    </tr>\n    <tr>\n      <th>C11</th>\n      <td>3658.0</td>\n      <td>10.491607</td>\n      <td>1.218126</td>\n      <td>8.000000</td>\n      <td>9.400000</td>\n      <td>10.300000</td>\n      <td>11.300000</td>\n      <td>14.000000</td>\n    </tr>\n    <tr>\n      <th>QUALITY</th>\n      <td>3918.0</td>\n      <td>5.870342</td>\n      <td>0.887340</td>\n      <td>3.000000</td>\n      <td>5.000000</td>\n      <td>6.000000</td>\n      <td>6.000000</td>\n      <td>9.000000</td>\n    </tr>\n  </tbody>\n</table>\n</div>"
     },
     "execution_count": 5,
     "metadata": {},
     "output_type": "execute_result"
    }
   ],
   "source": [
    "df.describe().T"
   ],
   "metadata": {
    "collapsed": false,
    "ExecuteTime": {
     "end_time": "2023-09-29T11:02:04.301192210Z",
     "start_time": "2023-09-29T11:02:04.277715051Z"
    }
   }
  },
  {
   "cell_type": "markdown",
   "source": [
    "## Tratamiento de outliers"
   ],
   "metadata": {
    "collapsed": false
   }
  },
  {
   "cell_type": "code",
   "execution_count": 6,
   "outputs": [
    {
     "data": {
      "text/plain": "                C1           C2           C3           C4           C5  \\\ncount  3684.000000  3664.000000  3648.000000  3636.000000  3659.000000   \nmean      6.810016     0.235175     0.280678     6.390058    42.117245   \nstd       0.744556     0.061220     0.066104     4.951515     9.325894   \nmin       4.800000     0.076961     0.104360     0.600000     9.000000   \n25%       6.300000     0.190620     0.239017     1.700000    36.000000   \n50%       6.800000     0.231112     0.277632     5.300000    41.000000   \n75%       7.300000     0.270027     0.314811     9.900000    47.000000   \nmax       8.800000     0.425268     0.463734    22.000000    73.000000   \n\n                C6           C7           C8           C9          C10  \\\ncount  3655.000000  3645.000000  3646.000000  3658.000000  3639.000000   \nmean     34.541176     4.903080     0.994025     3.182701     0.390783   \nstd      15.412465     0.300378     0.002898     0.140424     0.066773   \nmin       2.000000     4.043051     0.987110     2.820000     0.207014   \n25%      23.000000     4.709530     0.991760     3.090000     0.343590   \n50%      34.000000     4.912655     0.993800     3.180000     0.385262   \n75%      45.000000     5.129899     0.996100     3.270000     0.431782   \nmax      80.000000     5.749393     1.002400     3.560000     0.576613   \n\n               C11      QUALITY  \ncount  3658.000000  3918.000000  \nmean     10.491607     5.807300  \nstd       1.218126     0.763862  \nmin       8.000000     4.000000  \n25%       9.400000     5.000000  \n50%      10.300000     6.000000  \n75%      11.300000     6.000000  \nmax      14.000000     7.000000  ",
      "text/html": "<div>\n<style scoped>\n    .dataframe tbody tr th:only-of-type {\n        vertical-align: middle;\n    }\n\n    .dataframe tbody tr th {\n        vertical-align: top;\n    }\n\n    .dataframe thead th {\n        text-align: right;\n    }\n</style>\n<table border=\"1\" class=\"dataframe\">\n  <thead>\n    <tr style=\"text-align: right;\">\n      <th></th>\n      <th>C1</th>\n      <th>C2</th>\n      <th>C3</th>\n      <th>C4</th>\n      <th>C5</th>\n      <th>C6</th>\n      <th>C7</th>\n      <th>C8</th>\n      <th>C9</th>\n      <th>C10</th>\n      <th>C11</th>\n      <th>QUALITY</th>\n    </tr>\n  </thead>\n  <tbody>\n    <tr>\n      <th>count</th>\n      <td>3684.000000</td>\n      <td>3664.000000</td>\n      <td>3648.000000</td>\n      <td>3636.000000</td>\n      <td>3659.000000</td>\n      <td>3655.000000</td>\n      <td>3645.000000</td>\n      <td>3646.000000</td>\n      <td>3658.000000</td>\n      <td>3639.000000</td>\n      <td>3658.000000</td>\n      <td>3918.000000</td>\n    </tr>\n    <tr>\n      <th>mean</th>\n      <td>6.810016</td>\n      <td>0.235175</td>\n      <td>0.280678</td>\n      <td>6.390058</td>\n      <td>42.117245</td>\n      <td>34.541176</td>\n      <td>4.903080</td>\n      <td>0.994025</td>\n      <td>3.182701</td>\n      <td>0.390783</td>\n      <td>10.491607</td>\n      <td>5.807300</td>\n    </tr>\n    <tr>\n      <th>std</th>\n      <td>0.744556</td>\n      <td>0.061220</td>\n      <td>0.066104</td>\n      <td>4.951515</td>\n      <td>9.325894</td>\n      <td>15.412465</td>\n      <td>0.300378</td>\n      <td>0.002898</td>\n      <td>0.140424</td>\n      <td>0.066773</td>\n      <td>1.218126</td>\n      <td>0.763862</td>\n    </tr>\n    <tr>\n      <th>min</th>\n      <td>4.800000</td>\n      <td>0.076961</td>\n      <td>0.104360</td>\n      <td>0.600000</td>\n      <td>9.000000</td>\n      <td>2.000000</td>\n      <td>4.043051</td>\n      <td>0.987110</td>\n      <td>2.820000</td>\n      <td>0.207014</td>\n      <td>8.000000</td>\n      <td>4.000000</td>\n    </tr>\n    <tr>\n      <th>25%</th>\n      <td>6.300000</td>\n      <td>0.190620</td>\n      <td>0.239017</td>\n      <td>1.700000</td>\n      <td>36.000000</td>\n      <td>23.000000</td>\n      <td>4.709530</td>\n      <td>0.991760</td>\n      <td>3.090000</td>\n      <td>0.343590</td>\n      <td>9.400000</td>\n      <td>5.000000</td>\n    </tr>\n    <tr>\n      <th>50%</th>\n      <td>6.800000</td>\n      <td>0.231112</td>\n      <td>0.277632</td>\n      <td>5.300000</td>\n      <td>41.000000</td>\n      <td>34.000000</td>\n      <td>4.912655</td>\n      <td>0.993800</td>\n      <td>3.180000</td>\n      <td>0.385262</td>\n      <td>10.300000</td>\n      <td>6.000000</td>\n    </tr>\n    <tr>\n      <th>75%</th>\n      <td>7.300000</td>\n      <td>0.270027</td>\n      <td>0.314811</td>\n      <td>9.900000</td>\n      <td>47.000000</td>\n      <td>45.000000</td>\n      <td>5.129899</td>\n      <td>0.996100</td>\n      <td>3.270000</td>\n      <td>0.431782</td>\n      <td>11.300000</td>\n      <td>6.000000</td>\n    </tr>\n    <tr>\n      <th>max</th>\n      <td>8.800000</td>\n      <td>0.425268</td>\n      <td>0.463734</td>\n      <td>22.000000</td>\n      <td>73.000000</td>\n      <td>80.000000</td>\n      <td>5.749393</td>\n      <td>1.002400</td>\n      <td>3.560000</td>\n      <td>0.576613</td>\n      <td>14.000000</td>\n      <td>7.000000</td>\n    </tr>\n  </tbody>\n</table>\n</div>"
     },
     "execution_count": 6,
     "metadata": {},
     "output_type": "execute_result"
    }
   ],
   "source": [
    "# Function to impute outliers using IQR and column median\n",
    "def impute_outliers_iqr(data, column):\n",
    "    Q1 = data[column].quantile(0.25)\n",
    "    Q3 = data[column].quantile(0.75)\n",
    "    IQR = Q3 - Q1\n",
    "    lower_bound = Q1 - 1.5 * IQR\n",
    "    upper_bound = Q3 + 1.5 * IQR\n",
    "    \n",
    "    # Identify outliers\n",
    "    outliers = (data[column] < lower_bound) | (data[column] > upper_bound)\n",
    "    \n",
    "    # Impute outliers with the median of the column\n",
    "    data.loc[outliers, column] = data[column].median()\n",
    "    return data\n",
    "\n",
    "# Impute outliers in the dataset using IQR method\n",
    "df_imputed_outliers = df.copy()\n",
    "for column in df.columns:\n",
    "    if df[column].dtype != 'object':  # Apply only for numerical columns\n",
    "        df_imputed_outliers = impute_outliers_iqr(df_imputed_outliers, column)\n",
    "\n",
    "# Display basic statistics of the dataset after outlier imputation\n",
    "df_imputed_outliers.describe()"
   ],
   "metadata": {
    "collapsed": false,
    "ExecuteTime": {
     "end_time": "2023-09-29T11:02:29.168122859Z",
     "start_time": "2023-09-29T11:02:29.135621154Z"
    }
   }
  },
  {
   "cell_type": "code",
   "execution_count": 32,
   "outputs": [
    {
     "data": {
      "text/plain": "       C1        C2        C3    C4    C5    C6        C7       C8    C9  \\\n0     6.8  0.190620  0.307485  18.1  46.0  32.0  4.897840  1.00000  3.27   \n1     6.2  0.246860  0.277632   5.0  43.0  50.0  5.241747  0.99318  3.23   \n2     6.7  0.350657  0.329304  12.1  41.0  61.0  5.517453  0.99794  3.31   \n3     6.8  0.254642  0.405465  13.3  53.0  48.0  5.273000  0.99740  3.09   \n4     6.6  0.215111  0.239017  15.8  35.0  46.0  5.241747  0.99820  3.24   \n...   ...       ...       ...   ...   ...   ...       ...      ...   ...   \n3913  7.7  0.231112  0.215111  11.2  31.0  41.0  5.123964  0.99480  3.12   \n3914  8.1  0.378436  0.270027   1.7  52.0  50.0  5.214936  0.99230  3.03   \n3915  6.1  0.148420  0.254642   6.0  41.0  29.0  4.976734  0.99474  3.18   \n3916  8.2  0.239017  0.329304   7.8  41.0  49.0  5.342334  0.99760  3.31   \n3917  6.8  0.165514  0.246860   9.8  39.0  29.0  4.736198  0.99406  3.11   \n\n           C10   C11  QUALITY  \n0     0.392042   8.8        5  \n1     0.494696  10.8        6  \n2     0.457425   9.7        5  \n3     0.371564   9.4        5  \n4     0.412110   9.2        5  \n...        ...   ...      ...  \n3913  0.357674  11.3        7  \n3914  0.350657  11.2        5  \n3915  0.378436  10.7        6  \n3916  0.412110   9.5        6  \n3917  0.371564  10.9        7  \n\n[3918 rows x 12 columns]",
      "text/html": "<div>\n<style scoped>\n    .dataframe tbody tr th:only-of-type {\n        vertical-align: middle;\n    }\n\n    .dataframe tbody tr th {\n        vertical-align: top;\n    }\n\n    .dataframe thead th {\n        text-align: right;\n    }\n</style>\n<table border=\"1\" class=\"dataframe\">\n  <thead>\n    <tr style=\"text-align: right;\">\n      <th></th>\n      <th>C1</th>\n      <th>C2</th>\n      <th>C3</th>\n      <th>C4</th>\n      <th>C5</th>\n      <th>C6</th>\n      <th>C7</th>\n      <th>C8</th>\n      <th>C9</th>\n      <th>C10</th>\n      <th>C11</th>\n      <th>QUALITY</th>\n    </tr>\n  </thead>\n  <tbody>\n    <tr>\n      <th>0</th>\n      <td>6.8</td>\n      <td>0.190620</td>\n      <td>0.307485</td>\n      <td>18.1</td>\n      <td>46.0</td>\n      <td>32.0</td>\n      <td>4.897840</td>\n      <td>1.00000</td>\n      <td>3.27</td>\n      <td>0.392042</td>\n      <td>8.8</td>\n      <td>5</td>\n    </tr>\n    <tr>\n      <th>1</th>\n      <td>6.2</td>\n      <td>0.246860</td>\n      <td>0.277632</td>\n      <td>5.0</td>\n      <td>43.0</td>\n      <td>50.0</td>\n      <td>5.241747</td>\n      <td>0.99318</td>\n      <td>3.23</td>\n      <td>0.494696</td>\n      <td>10.8</td>\n      <td>6</td>\n    </tr>\n    <tr>\n      <th>2</th>\n      <td>6.7</td>\n      <td>0.350657</td>\n      <td>0.329304</td>\n      <td>12.1</td>\n      <td>41.0</td>\n      <td>61.0</td>\n      <td>5.517453</td>\n      <td>0.99794</td>\n      <td>3.31</td>\n      <td>0.457425</td>\n      <td>9.7</td>\n      <td>5</td>\n    </tr>\n    <tr>\n      <th>3</th>\n      <td>6.8</td>\n      <td>0.254642</td>\n      <td>0.405465</td>\n      <td>13.3</td>\n      <td>53.0</td>\n      <td>48.0</td>\n      <td>5.273000</td>\n      <td>0.99740</td>\n      <td>3.09</td>\n      <td>0.371564</td>\n      <td>9.4</td>\n      <td>5</td>\n    </tr>\n    <tr>\n      <th>4</th>\n      <td>6.6</td>\n      <td>0.215111</td>\n      <td>0.239017</td>\n      <td>15.8</td>\n      <td>35.0</td>\n      <td>46.0</td>\n      <td>5.241747</td>\n      <td>0.99820</td>\n      <td>3.24</td>\n      <td>0.412110</td>\n      <td>9.2</td>\n      <td>5</td>\n    </tr>\n    <tr>\n      <th>...</th>\n      <td>...</td>\n      <td>...</td>\n      <td>...</td>\n      <td>...</td>\n      <td>...</td>\n      <td>...</td>\n      <td>...</td>\n      <td>...</td>\n      <td>...</td>\n      <td>...</td>\n      <td>...</td>\n      <td>...</td>\n    </tr>\n    <tr>\n      <th>3913</th>\n      <td>7.7</td>\n      <td>0.231112</td>\n      <td>0.215111</td>\n      <td>11.2</td>\n      <td>31.0</td>\n      <td>41.0</td>\n      <td>5.123964</td>\n      <td>0.99480</td>\n      <td>3.12</td>\n      <td>0.357674</td>\n      <td>11.3</td>\n      <td>7</td>\n    </tr>\n    <tr>\n      <th>3914</th>\n      <td>8.1</td>\n      <td>0.378436</td>\n      <td>0.270027</td>\n      <td>1.7</td>\n      <td>52.0</td>\n      <td>50.0</td>\n      <td>5.214936</td>\n      <td>0.99230</td>\n      <td>3.03</td>\n      <td>0.350657</td>\n      <td>11.2</td>\n      <td>5</td>\n    </tr>\n    <tr>\n      <th>3915</th>\n      <td>6.1</td>\n      <td>0.148420</td>\n      <td>0.254642</td>\n      <td>6.0</td>\n      <td>41.0</td>\n      <td>29.0</td>\n      <td>4.976734</td>\n      <td>0.99474</td>\n      <td>3.18</td>\n      <td>0.378436</td>\n      <td>10.7</td>\n      <td>6</td>\n    </tr>\n    <tr>\n      <th>3916</th>\n      <td>8.2</td>\n      <td>0.239017</td>\n      <td>0.329304</td>\n      <td>7.8</td>\n      <td>41.0</td>\n      <td>49.0</td>\n      <td>5.342334</td>\n      <td>0.99760</td>\n      <td>3.31</td>\n      <td>0.412110</td>\n      <td>9.5</td>\n      <td>6</td>\n    </tr>\n    <tr>\n      <th>3917</th>\n      <td>6.8</td>\n      <td>0.165514</td>\n      <td>0.246860</td>\n      <td>9.8</td>\n      <td>39.0</td>\n      <td>29.0</td>\n      <td>4.736198</td>\n      <td>0.99406</td>\n      <td>3.11</td>\n      <td>0.371564</td>\n      <td>10.9</td>\n      <td>7</td>\n    </tr>\n  </tbody>\n</table>\n<p>3918 rows × 12 columns</p>\n</div>"
     },
     "execution_count": 32,
     "metadata": {},
     "output_type": "execute_result"
    }
   ],
   "source": [
    "df_imputed_outliers"
   ],
   "metadata": {
    "collapsed": false,
    "ExecuteTime": {
     "end_time": "2023-09-29T12:48:55.165471938Z",
     "start_time": "2023-09-29T12:48:55.162135680Z"
    }
   }
  },
  {
   "cell_type": "markdown",
   "source": [
    "## Imputacion de valores faltantes"
   ],
   "metadata": {
    "collapsed": false
   }
  },
  {
   "cell_type": "code",
   "execution_count": 7,
   "outputs": [
    {
     "data": {
      "text/plain": "C1     234\nC2     254\nC3     270\nC4     282\nC5     259\nC6     263\nC7     273\nC8     272\nC9     260\nC10    279\nC11    260\ndtype: int64"
     },
     "execution_count": 7,
     "metadata": {},
     "output_type": "execute_result"
    }
   ],
   "source": [
    "# Calculate the number of missing values in each column\n",
    "missing_values = df_imputed_outliers.isnull().sum()\n",
    "\n",
    "# Display columns with missing values\n",
    "missing_values[missing_values > 0]"
   ],
   "metadata": {
    "collapsed": false,
    "ExecuteTime": {
     "end_time": "2023-09-29T11:03:40.556668678Z",
     "start_time": "2023-09-29T11:03:40.508018370Z"
    }
   }
  },
  {
   "cell_type": "code",
   "execution_count": 8,
   "outputs": [
    {
     "data": {
      "text/plain": "Series([], dtype: int64)"
     },
     "execution_count": 8,
     "metadata": {},
     "output_type": "execute_result"
    }
   ],
   "source": [
    "# Impute missing values using median for predictor columns (excluding 'des' or 'QUALITY')\n",
    "for column in df_imputed_outliers.columns:\n",
    "    if column != \"des\" and df_imputed_outliers[column].dtype != 'object':  # Exclude target column and non-numerical columns\n",
    "        median_value = df_imputed_outliers[column].median()\n",
    "        df_imputed_outliers[column].fillna(median_value, inplace=True)\n",
    "\n",
    "# Check if there are any missing values left\n",
    "remaining_missing_values = df_imputed_outliers.isnull().sum()\n",
    "remaining_missing_values[remaining_missing_values > 0]"
   ],
   "metadata": {
    "collapsed": false,
    "ExecuteTime": {
     "end_time": "2023-09-29T11:06:32.801374673Z",
     "start_time": "2023-09-29T11:06:32.794135484Z"
    }
   }
  },
  {
   "cell_type": "code",
   "execution_count": 12,
   "outputs": [
    {
     "data": {
      "text/plain": "C1         0\nC2         0\nC3         0\nC4         0\nC5         0\nC6         0\nC7         0\nC8         0\nC9         0\nC10        0\nC11        0\nQUALITY    0\ndtype: int64"
     },
     "execution_count": 12,
     "metadata": {},
     "output_type": "execute_result"
    }
   ],
   "source": [
    "df_imputed_outliers.isna().sum()"
   ],
   "metadata": {
    "collapsed": false,
    "ExecuteTime": {
     "end_time": "2023-09-29T11:07:35.416496132Z",
     "start_time": "2023-09-29T11:07:35.372250152Z"
    }
   }
  },
  {
   "cell_type": "code",
   "execution_count": 35,
   "outputs": [],
   "source": [
    "df_completed = df_imputed_outliers.copy()"
   ],
   "metadata": {
    "collapsed": false,
    "ExecuteTime": {
     "end_time": "2023-09-29T12:52:49.340185755Z",
     "start_time": "2023-09-29T12:52:49.297582727Z"
    }
   }
  },
  {
   "cell_type": "code",
   "execution_count": 40,
   "outputs": [
    {
     "data": {
      "text/plain": "    C1        C2        C3    C4    C5    C6        C7       C8    C9  \\\n0  6.8  0.190620  0.307485  18.1  46.0  32.0  4.897840  1.00000  3.27   \n1  6.2  0.246860  0.277632   5.0  43.0  50.0  5.241747  0.99318  3.23   \n2  6.7  0.350657  0.329304  12.1  41.0  61.0  5.517453  0.99794  3.31   \n3  6.8  0.254642  0.405465  13.3  53.0  48.0  5.273000  0.99740  3.09   \n4  6.6  0.215111  0.239017  15.8  35.0  46.0  5.241747  0.99820  3.24   \n\n        C10   C11  QUALITY  \n0  0.392042   8.8        5  \n1  0.494696  10.8        6  \n2  0.457425   9.7        5  \n3  0.371564   9.4        5  \n4  0.412110   9.2        5  ",
      "text/html": "<div>\n<style scoped>\n    .dataframe tbody tr th:only-of-type {\n        vertical-align: middle;\n    }\n\n    .dataframe tbody tr th {\n        vertical-align: top;\n    }\n\n    .dataframe thead th {\n        text-align: right;\n    }\n</style>\n<table border=\"1\" class=\"dataframe\">\n  <thead>\n    <tr style=\"text-align: right;\">\n      <th></th>\n      <th>C1</th>\n      <th>C2</th>\n      <th>C3</th>\n      <th>C4</th>\n      <th>C5</th>\n      <th>C6</th>\n      <th>C7</th>\n      <th>C8</th>\n      <th>C9</th>\n      <th>C10</th>\n      <th>C11</th>\n      <th>QUALITY</th>\n    </tr>\n  </thead>\n  <tbody>\n    <tr>\n      <th>0</th>\n      <td>6.8</td>\n      <td>0.190620</td>\n      <td>0.307485</td>\n      <td>18.1</td>\n      <td>46.0</td>\n      <td>32.0</td>\n      <td>4.897840</td>\n      <td>1.00000</td>\n      <td>3.27</td>\n      <td>0.392042</td>\n      <td>8.8</td>\n      <td>5</td>\n    </tr>\n    <tr>\n      <th>1</th>\n      <td>6.2</td>\n      <td>0.246860</td>\n      <td>0.277632</td>\n      <td>5.0</td>\n      <td>43.0</td>\n      <td>50.0</td>\n      <td>5.241747</td>\n      <td>0.99318</td>\n      <td>3.23</td>\n      <td>0.494696</td>\n      <td>10.8</td>\n      <td>6</td>\n    </tr>\n    <tr>\n      <th>2</th>\n      <td>6.7</td>\n      <td>0.350657</td>\n      <td>0.329304</td>\n      <td>12.1</td>\n      <td>41.0</td>\n      <td>61.0</td>\n      <td>5.517453</td>\n      <td>0.99794</td>\n      <td>3.31</td>\n      <td>0.457425</td>\n      <td>9.7</td>\n      <td>5</td>\n    </tr>\n    <tr>\n      <th>3</th>\n      <td>6.8</td>\n      <td>0.254642</td>\n      <td>0.405465</td>\n      <td>13.3</td>\n      <td>53.0</td>\n      <td>48.0</td>\n      <td>5.273000</td>\n      <td>0.99740</td>\n      <td>3.09</td>\n      <td>0.371564</td>\n      <td>9.4</td>\n      <td>5</td>\n    </tr>\n    <tr>\n      <th>4</th>\n      <td>6.6</td>\n      <td>0.215111</td>\n      <td>0.239017</td>\n      <td>15.8</td>\n      <td>35.0</td>\n      <td>46.0</td>\n      <td>5.241747</td>\n      <td>0.99820</td>\n      <td>3.24</td>\n      <td>0.412110</td>\n      <td>9.2</td>\n      <td>5</td>\n    </tr>\n  </tbody>\n</table>\n</div>"
     },
     "execution_count": 40,
     "metadata": {},
     "output_type": "execute_result"
    }
   ],
   "source": [
    "df_completed.head()"
   ],
   "metadata": {
    "collapsed": false,
    "ExecuteTime": {
     "end_time": "2023-09-29T12:53:27.074745895Z",
     "start_time": "2023-09-29T12:53:27.068656582Z"
    }
   }
  },
  {
   "cell_type": "markdown",
   "source": [
    "## Seleccion de caracteristicas => Correlacion"
   ],
   "metadata": {
    "collapsed": false
   }
  },
  {
   "cell_type": "code",
   "execution_count": 14,
   "outputs": [],
   "source": [
    "# Calculate the correlation of each feature with the target variable \"des\"\n",
    "correlation_with_target = df_imputed_outliers.corr()[\"QUALITY\"].sort_values(ascending=False)\n",
    "\n",
    "# Drop the \"des\" correlation with itself\n",
    "correlation_with_target = correlation_with_target.drop(\"QUALITY\")"
   ],
   "metadata": {
    "collapsed": false,
    "ExecuteTime": {
     "end_time": "2023-09-29T11:11:52.805498012Z",
     "start_time": "2023-09-29T11:11:52.782873384Z"
    }
   }
  },
  {
   "cell_type": "code",
   "execution_count": 21,
   "outputs": [
    {
     "data": {
      "text/plain": "C11    0.389832\nC9     0.105163\nC10    0.031181\nC6     0.027012\nC3     0.019531\nC1    -0.075961\nC4    -0.094360\nC2    -0.136625\nC7    -0.160526\nC5    -0.230048\nC8    -0.291863\nName: QUALITY, dtype: float64"
     },
     "execution_count": 21,
     "metadata": {},
     "output_type": "execute_result"
    }
   ],
   "source": [
    "correlation_with_target"
   ],
   "metadata": {
    "collapsed": false,
    "ExecuteTime": {
     "end_time": "2023-09-29T11:15:38.676448011Z",
     "start_time": "2023-09-29T11:15:38.628977011Z"
    }
   }
  },
  {
   "cell_type": "code",
   "execution_count": 22,
   "outputs": [
    {
     "data": {
      "text/plain": "<Figure size 1000x600 with 1 Axes>",
      "image/png": "[encoded data removed]"
     },
     "metadata": {},
     "output_type": "display_data"
    }
   ],
   "source": [
    "# Plot the correlation values again\n",
    "plt.figure(figsize=(10, 6))\n",
    "correlation_with_target.plot(kind='bar', color='skyblue')\n",
    "plt.title('Correlation of Features with \"QUALITY\"')\n",
    "plt.ylabel('Pearson Correlation Coefficient')\n",
    "plt.xlabel('Features')\n",
    "plt.axhline(0, color='black', linewidth=0.5)\n",
    "plt.grid()\n",
    "plt.show()\n"
   ],
   "metadata": {
    "collapsed": false,
    "ExecuteTime": {
     "end_time": "2023-09-29T11:16:09.815857956Z",
     "start_time": "2023-09-29T11:16:09.668483168Z"
    }
   }
  },
  {
   "cell_type": "markdown",
   "source": [
    "### Random Forest => Correlacion"
   ],
   "metadata": {
    "collapsed": false
   }
  },
  {
   "cell_type": "code",
   "execution_count": 41,
   "outputs": [
    {
     "data": {
      "text/plain": "<Figure size 1000x600 with 1 Axes>",
      "image/png": "[encoded data removed]"
     },
     "metadata": {},
     "output_type": "display_data"
    }
   ],
   "source": [
    "from sklearn.ensemble import RandomForestRegressor\n",
    "\n",
    "# Splitting the data into features (X) and target (y)\n",
    "X = df_completed.drop(columns=[\"QUALITY\"])\n",
    "y = df_completed[\"QUALITY\"]\n",
    "\n",
    "# Create and train a Random Forest model\n",
    "rf_model_single_block = RandomForestRegressor(n_estimators=100, random_state=42)\n",
    "rf_model_single_block.fit(X, y)\n",
    "\n",
    "# Extract feature importances\n",
    "feature_importances_single_block = rf_model_single_block.feature_importances_\n",
    "\n",
    "# Create a DataFrame to visualize the feature importances\n",
    "features_df_single_block = pd.DataFrame({\n",
    "    'Feature': X.columns,\n",
    "    'Importance': feature_importances_single_block\n",
    "})\n",
    "\n",
    "# Sort the DataFrame by importance\n",
    "features_df_single_block = features_df_single_block.sort_values(by='Importance', ascending=False)\n",
    "\n",
    "# Plot the feature importances\n",
    "plt.figure(figsize=(10, 6))\n",
    "features_df_single_block.set_index('Feature').plot(kind='bar', legend=False, ax=plt.gca(), color='skyblue')\n",
    "plt.title('Feature Importances from Random Forest')\n",
    "plt.ylabel('Importance')\n",
    "plt.xlabel('Features')\n",
    "plt.grid()\n",
    "plt.show()\n"
   ],
   "metadata": {
    "collapsed": false,
    "ExecuteTime": {
     "end_time": "2023-09-29T12:54:36.391200230Z",
     "start_time": "2023-09-29T12:54:34.604278329Z"
    }
   }
  },
  {
   "cell_type": "markdown",
   "source": [
    "## Splitting the DataFrame"
   ],
   "metadata": {
    "collapsed": false
   }
  },
  {
   "cell_type": "code",
   "execution_count": 66,
   "outputs": [],
   "source": [
    "# Adjusting the column names and splitting the data\n",
    "X = df_completed.drop(columns=[\"QUALITY\"])\n",
    "y = df_completed[\"QUALITY\"]\n",
    "X_train, X_test, y_train, y_test = train_test_split(X, y, test_size=0.3, random_state=42)"
   ],
   "metadata": {
    "collapsed": false,
    "ExecuteTime": {
     "end_time": "2023-09-29T13:26:09.138077186Z",
     "start_time": "2023-09-29T13:26:09.094642549Z"
    }
   }
  },
  {
   "cell_type": "markdown",
   "source": [
    "## Linear Regression"
   ],
   "metadata": {
    "collapsed": false
   }
  },
  {
   "cell_type": "code",
   "execution_count": 67,
   "outputs": [
    {
     "name": "stdout",
     "output_type": "stream",
     "text": [
      "MAE of Linear Regression = 0.5195\n"
     ]
    }
   ],
   "source": [
    "# Train the model\n",
    "lr_model = LinearRegression()\n",
    "lr_model.fit(X_train, y_train)\n",
    "\n",
    "# Predict on the test set\n",
    "lr_predictions = lr_model.predict(X_test)\n",
    "\n",
    "# Calculate MAE\n",
    "lr_mae = mean_absolute_error(y_test, lr_predictions)\n",
    "print(f'MAE of Linear Regression = {lr_mae:.4f}')"
   ],
   "metadata": {
    "collapsed": false,
    "ExecuteTime": {
     "end_time": "2023-09-29T13:26:11.627633428Z",
     "start_time": "2023-09-29T13:26:11.577093793Z"
    }
   }
  },
  {
   "cell_type": "markdown",
   "source": [
    "## Ridge Regression"
   ],
   "metadata": {
    "collapsed": false
   }
  },
  {
   "cell_type": "code",
   "execution_count": 48,
   "outputs": [
    {
     "name": "stdout",
     "output_type": "stream",
     "text": [
      "MAE of Ridge Regression: 0.5234\n"
     ]
    }
   ],
   "source": [
    "from sklearn.linear_model import Ridge\n",
    "X_train_completed, X_test_completed, y_train_completed, y_test_completed = train_test_split(\n",
    "    X, y, test_size=0.3, random_state=42\n",
    ")\n",
    "\n",
    "# Ridge Regression\n",
    "ridge_model = Ridge(alpha=1.0)  # alpha is the regularization strength\n",
    "ridge_model.fit(X_train_completed, y_train_completed)\n",
    "\n",
    "# Predict on the test set\n",
    "ridge_predictions = ridge_model.predict(X_test_completed)\n",
    "\n",
    "# Calculate MAE for Ridge Regression\n",
    "ridge_mae = mean_absolute_error(y_test_completed, ridge_predictions)\n",
    "print(f'MAE of Ridge Regression: {ridge_mae:.4f}')"
   ],
   "metadata": {
    "collapsed": false,
    "ExecuteTime": {
     "end_time": "2023-09-29T13:03:32.024187893Z",
     "start_time": "2023-09-29T13:03:31.971064580Z"
    }
   }
  },
  {
   "cell_type": "markdown",
   "source": [
    "## Lasso Regression"
   ],
   "metadata": {
    "collapsed": false
   }
  },
  {
   "cell_type": "code",
   "execution_count": 52,
   "outputs": [
    {
     "name": "stdout",
     "output_type": "stream",
     "text": [
      "MAE of Lasso Regression: 0.5345\n"
     ]
    }
   ],
   "source": [
    "from sklearn.linear_model import Lasso\n",
    "\n",
    "# Lasso Regression\n",
    "lasso_model = Lasso(alpha=0.1)  # alpha is the regularization strength\n",
    "lasso_model.fit(X_train_completed, y_train_completed)\n",
    "\n",
    "# Predict on the test set\n",
    "lasso_predictions = lasso_model.predict(X_test_completed)\n",
    "\n",
    "# Calculate MAE for Lasso Regression\n",
    "lasso_mae = mean_absolute_error(y_test_completed, lasso_predictions)\n",
    "print(f'MAE of Lasso Regression: {lasso_mae:.4f}')"
   ],
   "metadata": {
    "collapsed": false,
    "ExecuteTime": {
     "end_time": "2023-09-29T13:05:29.245095179Z",
     "start_time": "2023-09-29T13:05:29.214702843Z"
    }
   }
  },
  {
   "cell_type": "markdown",
   "source": [
    "## Decision Tree "
   ],
   "metadata": {
    "collapsed": false
   }
  },
  {
   "cell_type": "code",
   "execution_count": 55,
   "outputs": [
    {
     "name": "stdout",
     "output_type": "stream",
     "text": [
      "MAE of Decision Tree Regression: 0.5655\n"
     ]
    }
   ],
   "source": [
    "from sklearn.tree import DecisionTreeRegressor\n",
    "\n",
    "# Decision Tree Regression\n",
    "dt_model = DecisionTreeRegressor(random_state=42)\n",
    "dt_model.fit(X_train_completed, y_train_completed)\n",
    "\n",
    "# Predict on the test set\n",
    "dt_predictions = dt_model.predict(X_test_completed)\n",
    "\n",
    "# Calculate MAE for Decision Tree Regression\n",
    "dt_mae = mean_absolute_error(y_test_completed, dt_predictions)\n",
    "print(f'MAE of Decision Tree Regression: {dt_mae:.4f}')"
   ],
   "metadata": {
    "collapsed": false,
    "ExecuteTime": {
     "end_time": "2023-09-29T13:07:22.848871328Z",
     "start_time": "2023-09-29T13:07:22.826320316Z"
    }
   }
  },
  {
   "cell_type": "markdown",
   "source": [
    "## Random Forest"
   ],
   "metadata": {
    "collapsed": false
   }
  },
  {
   "cell_type": "code",
   "execution_count": 69,
   "outputs": [
    {
     "name": "stdout",
     "output_type": "stream",
     "text": [
      "MAE of Random Forest Regression: 0.4546\n"
     ]
    }
   ],
   "source": [
    "from sklearn.ensemble import RandomForestRegressor\n",
    "\n",
    "# Random Forest Regression\n",
    "rf_model = RandomForestRegressor(n_estimators=100, random_state=42)\n",
    "rf_model.fit(X_train_completed, y_train_completed)\n",
    "\n",
    "# Predict on the test set\n",
    "rf_predictions = rf_model.predict(X_test_completed)\n",
    "\n",
    "# Calculate MAE for Random Forest Regression\n",
    "rf_mae = mean_absolute_error(y_test_completed, rf_predictions)\n",
    "print(f'MAE of Random Forest Regression: {rf_mae:.4}')"
   ],
   "metadata": {
    "collapsed": false,
    "ExecuteTime": {
     "end_time": "2023-09-29T13:33:23.040399547Z",
     "start_time": "2023-09-29T13:33:21.874911158Z"
    }
   }
  },
  {
   "cell_type": "markdown",
   "source": [
    "## Gradient Boosting"
   ],
   "metadata": {
    "collapsed": false
   }
  },
  {
   "cell_type": "code",
   "execution_count": 61,
   "outputs": [
    {
     "name": "stdout",
     "output_type": "stream",
     "text": [
      "MAE of Random Forest Regression: 0.4976\n"
     ]
    }
   ],
   "source": [
    "from sklearn.ensemble import GradientBoostingRegressor\n",
    "\n",
    "# Gradient Boosting Regression\n",
    "gb_model = GradientBoostingRegressor(n_estimators=100, random_state=42)\n",
    "gb_model.fit(X_train_completed, y_train_completed)\n",
    "\n",
    "# Predict on the test set\n",
    "gb_predictions = gb_model.predict(X_test_completed)\n",
    "\n",
    "# Calculate MAE for Gradient Boosting Regression\n",
    "gb_mae = mean_absolute_error(y_test_completed, gb_predictions)\n",
    "print(f'MAE of Gradient Boosting Regression: {gb_mae:.4}')"
   ],
   "metadata": {
    "collapsed": false,
    "ExecuteTime": {
     "end_time": "2023-09-29T13:12:38.102637919Z",
     "start_time": "2023-09-29T13:12:37.730393571Z"
    }
   }
  },
  {
   "cell_type": "markdown",
   "source": [
    "## KNN"
   ],
   "metadata": {
    "collapsed": false
   }
  },
  {
   "cell_type": "code",
   "execution_count": 62,
   "outputs": [
    {
     "name": "stdout",
     "output_type": "stream",
     "text": [
      "MAE of KNN: 0.5639\n"
     ]
    }
   ],
   "source": [
    "from sklearn.neighbors import KNeighborsRegressor\n",
    "\n",
    "# K-Nearest Neighbors Regression\n",
    "knn_model = KNeighborsRegressor(n_neighbors=5)\n",
    "knn_model.fit(X_train_completed, y_train_completed)\n",
    "\n",
    "# Predict on the test set\n",
    "knn_predictions = knn_model.predict(X_test_completed)\n",
    "\n",
    "# Calculate MAE for K-Nearest Neighbors Regression\n",
    "knn_mae = mean_absolute_error(y_test_completed, knn_predictions)\n",
    "print(f'MAE of KNN: {knn_mae:.4}')"
   ],
   "metadata": {
    "collapsed": false,
    "ExecuteTime": {
     "end_time": "2023-09-29T13:14:16.580219762Z",
     "start_time": "2023-09-29T13:14:16.535780047Z"
    }
   }
  },
  {
   "cell_type": "markdown",
   "source": [
    "## Comparative"
   ],
   "metadata": {
    "collapsed": false
   }
  },
  {
   "cell_type": "code",
   "execution_count": 65,
   "outputs": [
    {
     "data": {
      "text/plain": "                      Model       MAE\n4             Random Forest  0.454575\n5         Gradient Boosting  0.497578\n0         Linear Regression  0.519546\n1          Ridge Regression  0.523414\n2          Lasso Regression  0.534534\n6       K-Nearest Neighbors  0.563946\n3  Decision Tree Regression  0.565476",
      "text/html": "<div>\n<style scoped>\n    .dataframe tbody tr th:only-of-type {\n        vertical-align: middle;\n    }\n\n    .dataframe tbody tr th {\n        vertical-align: top;\n    }\n\n    .dataframe thead th {\n        text-align: right;\n    }\n</style>\n<table border=\"1\" class=\"dataframe\">\n  <thead>\n    <tr style=\"text-align: right;\">\n      <th></th>\n      <th>Model</th>\n      <th>MAE</th>\n    </tr>\n  </thead>\n  <tbody>\n    <tr>\n      <th>4</th>\n      <td>Random Forest</td>\n      <td>0.454575</td>\n    </tr>\n    <tr>\n      <th>5</th>\n      <td>Gradient Boosting</td>\n      <td>0.497578</td>\n    </tr>\n    <tr>\n      <th>0</th>\n      <td>Linear Regression</td>\n      <td>0.519546</td>\n    </tr>\n    <tr>\n      <th>1</th>\n      <td>Ridge Regression</td>\n      <td>0.523414</td>\n    </tr>\n    <tr>\n      <th>2</th>\n      <td>Lasso Regression</td>\n      <td>0.534534</td>\n    </tr>\n    <tr>\n      <th>6</th>\n      <td>K-Nearest Neighbors</td>\n      <td>0.563946</td>\n    </tr>\n    <tr>\n      <th>3</th>\n      <td>Decision Tree Regression</td>\n      <td>0.565476</td>\n    </tr>\n  </tbody>\n</table>\n</div>"
     },
     "execution_count": 65,
     "metadata": {},
     "output_type": "execute_result"
    }
   ],
   "source": [
    "# Creating a dictionary with MAE values for each model\n",
    "mae_values = {\n",
    "    \"Linear Regression\": lr_mae,\n",
    "    \"Ridge Regression\": ridge_mae,\n",
    "    \"Lasso Regression\": lasso_mae,\n",
    "    \"Decision Tree Regression\": dt_mae,\n",
    "    \"Random Forest\": rf_mae,\n",
    "    \"Gradient Boosting\": gb_mae,\n",
    "    \"K-Nearest Neighbors\": knn_mae\n",
    "}\n",
    "\n",
    "# Convert the dictionary to a pandas DataFrame for better visualization\n",
    "mae_comparison = pd.DataFrame(list(mae_values.items()), columns=[\"Model\", \"MAE\"]).sort_values(by=\"MAE\")\n",
    "mae_comparison"
   ],
   "metadata": {
    "collapsed": false,
    "ExecuteTime": {
     "end_time": "2023-09-29T13:15:46.094225929Z",
     "start_time": "2023-09-29T13:15:46.080638890Z"
    }
   }
  }
 ],
 "metadata": {
  "kernelspec": {
   "display_name": "fruit-IC3wtz_r-py3.11",
   "language": "python",
   "name": "python3"
  },
  "language_info": {
   "codemirror_mode": {
    "name": "ipython",
    "version": 3
   },
   "file_extension": ".py",
   "mimetype": "text/x-python",
   "name": "python",
   "nbconvert_exporter": "python",
   "pygments_lexer": "ipython3",
   "version": "3.11.4"
  },
  "orig_nbformat": 4
 },
 "nbformat": 4,
 "nbformat_minor": 2
}
