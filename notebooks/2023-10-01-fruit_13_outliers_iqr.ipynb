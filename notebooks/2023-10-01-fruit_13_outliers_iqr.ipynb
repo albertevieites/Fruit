{
 "cells": [
  {
   "cell_type": "code",
   "execution_count": 41,
   "id": "initial_id",
   "metadata": {
    "collapsed": true,
    "ExecuteTime": {
     "end_time": "2023-10-01T19:37:07.298554530Z",
     "start_time": "2023-10-01T19:37:07.096222298Z"
    }
   },
   "outputs": [],
   "source": [
    "import numpy as np\n",
    "import pandas as pd\n",
    "\n",
    "import matplotlib.pyplot as plt\n",
    "import seaborn as sns\n",
    "\n",
    "from sklearn.preprocessing import StandardScaler\n",
    "from sklearn.preprocessing import MinMaxScaler\n",
    "from sklearn.model_selection import train_test_split\n",
    "from sklearn.metrics import mean_absolute_error\n",
    "from sklearn.decomposition import PCA\n",
    "from sklearn.ensemble import GradientBoostingRegressor\n",
    "from sklearn.ensemble import StackingRegressor\n",
    "from sklearn.linear_model import LinearRegression\n",
    "from sklearn.ensemble import RandomForestRegressor, GradientBoostingRegressor\n",
    "import xgboost as xgb\n",
    "\n",
    "import warnings\n",
    "\n",
    "warnings.filterwarnings(\"ignore\", category=FutureWarning)"
   ]
  },
  {
   "cell_type": "code",
   "execution_count": 42,
   "outputs": [],
   "source": [
    "df = pd.read_excel(\"../data/raw/entrenamiento.xlsx\")\n",
    "df = df.rename(columns={\"C7.1\": \"C8\", \"des\": \"QUALITY\"})\n",
    "features = df.drop(columns=[\"QUALITY\"])\n",
    "target = df[\"QUALITY\"]"
   ],
   "metadata": {
    "collapsed": false,
    "ExecuteTime": {
     "end_time": "2023-10-01T19:37:07.408852018Z",
     "start_time": "2023-10-01T19:37:07.101221142Z"
    }
   },
   "id": "89f565dc104d541a"
  },
  {
   "cell_type": "code",
   "execution_count": 43,
   "outputs": [
    {
     "data": {
      "text/plain": "count    3646.000000\nmean        0.994044\nstd         0.003008\nmin         0.987110\n25%         0.991760\n50%         0.993800\n75%         0.996100\nmax         1.038980\nName: C8, dtype: float64"
     },
     "execution_count": 43,
     "metadata": {},
     "output_type": "execute_result"
    }
   ],
   "source": [
    "# Correct the values in column C8 that are above 900 by dividing them by 1000\n",
    "high_values = df[\"C8\"] > 900\n",
    "df.loc[high_values, \"C8\"] = df.loc[high_values, \"C8\"] / 1000\n",
    "\n",
    "# Display the basic statistics of the corrected column\n",
    "df[\"C8\"].describe()"
   ],
   "metadata": {
    "collapsed": false,
    "ExecuteTime": {
     "end_time": "2023-10-01T19:37:07.414931063Z",
     "start_time": "2023-10-01T19:37:07.411328060Z"
    }
   },
   "id": "73c8ad2e7af00ab9"
  },
  {
   "cell_type": "code",
   "execution_count": 44,
   "outputs": [],
   "source": [
    "# Imputar datos faltantes con la mediana\n",
    "for col in df.columns:\n",
    "    median_value = df[col].median()\n",
    "    df[col].fillna(median_value, inplace=True)"
   ],
   "metadata": {
    "collapsed": false,
    "ExecuteTime": {
     "end_time": "2023-10-01T19:37:07.445629050Z",
     "start_time": "2023-10-01T19:37:07.417737827Z"
    }
   },
   "id": "299c5c3691b3b897"
  },
  {
   "cell_type": "code",
   "execution_count": 45,
   "outputs": [
    {
     "data": {
      "text/plain": "          count       mean        std        min        25%        50%  \\\nC1       3918.0   6.811690   0.682280   5.100000   6.400000   6.800000   \nC2       3918.0   0.233108   0.056150   0.086178   0.198851   0.231112   \nC3       3918.0   0.279778   0.061094   0.122218   0.246860   0.277632   \nC4       3918.0   6.307338   4.771707   0.600000   1.800000   5.300000   \nC5       3918.0  41.964523   8.859699  12.000000  37.000000  41.000000   \nC6       3918.0  34.369321  14.687726   2.000000  24.000000  34.000000   \nC7       3918.0   4.907424   0.283764   4.110874   4.727388   4.912655   \nC8       3918.0   0.994007   0.002793   0.987110   0.991880   0.993800   \nC9       3918.0   3.180084   0.130941   2.850000   3.100000   3.180000   \nC10      3918.0   0.388687   0.061853   0.223144   0.350657   0.385262   \nC11      3918.0  10.478892   1.177970   8.000000   9.500000  10.300000   \nQUALITY  3918.0   5.807300   0.763862   4.000000   5.000000   6.000000   \n\n               75%        max  \nC1        7.200000   8.600000  \nC2        0.262364   0.392042  \nC3        0.314811   0.444686  \nC4        9.375000  20.800000  \nC5       47.000000  69.000000  \nC6       44.000000  76.000000  \nC7        5.117994   5.717028  \nC8        0.995857   1.001820  \nC9        3.260000   3.520000  \nC10       0.425268   0.559616  \nC11      11.300000  14.000000  \nQUALITY   6.000000   7.000000  ",
      "text/html": "<div>\n<style scoped>\n    .dataframe tbody tr th:only-of-type {\n        vertical-align: middle;\n    }\n\n    .dataframe tbody tr th {\n        vertical-align: top;\n    }\n\n    .dataframe thead th {\n        text-align: right;\n    }\n</style>\n<table border=\"1\" class=\"dataframe\">\n  <thead>\n    <tr style=\"text-align: right;\">\n      <th></th>\n      <th>count</th>\n      <th>mean</th>\n      <th>std</th>\n      <th>min</th>\n      <th>25%</th>\n      <th>50%</th>\n      <th>75%</th>\n      <th>max</th>\n    </tr>\n  </thead>\n  <tbody>\n    <tr>\n      <th>C1</th>\n      <td>3918.0</td>\n      <td>6.811690</td>\n      <td>0.682280</td>\n      <td>5.100000</td>\n      <td>6.400000</td>\n      <td>6.800000</td>\n      <td>7.200000</td>\n      <td>8.600000</td>\n    </tr>\n    <tr>\n      <th>C2</th>\n      <td>3918.0</td>\n      <td>0.233108</td>\n      <td>0.056150</td>\n      <td>0.086178</td>\n      <td>0.198851</td>\n      <td>0.231112</td>\n      <td>0.262364</td>\n      <td>0.392042</td>\n    </tr>\n    <tr>\n      <th>C3</th>\n      <td>3918.0</td>\n      <td>0.279778</td>\n      <td>0.061094</td>\n      <td>0.122218</td>\n      <td>0.246860</td>\n      <td>0.277632</td>\n      <td>0.314811</td>\n      <td>0.444686</td>\n    </tr>\n    <tr>\n      <th>C4</th>\n      <td>3918.0</td>\n      <td>6.307338</td>\n      <td>4.771707</td>\n      <td>0.600000</td>\n      <td>1.800000</td>\n      <td>5.300000</td>\n      <td>9.375000</td>\n      <td>20.800000</td>\n    </tr>\n    <tr>\n      <th>C5</th>\n      <td>3918.0</td>\n      <td>41.964523</td>\n      <td>8.859699</td>\n      <td>12.000000</td>\n      <td>37.000000</td>\n      <td>41.000000</td>\n      <td>47.000000</td>\n      <td>69.000000</td>\n    </tr>\n    <tr>\n      <th>C6</th>\n      <td>3918.0</td>\n      <td>34.369321</td>\n      <td>14.687726</td>\n      <td>2.000000</td>\n      <td>24.000000</td>\n      <td>34.000000</td>\n      <td>44.000000</td>\n      <td>76.000000</td>\n    </tr>\n    <tr>\n      <th>C7</th>\n      <td>3918.0</td>\n      <td>4.907424</td>\n      <td>0.283764</td>\n      <td>4.110874</td>\n      <td>4.727388</td>\n      <td>4.912655</td>\n      <td>5.117994</td>\n      <td>5.717028</td>\n    </tr>\n    <tr>\n      <th>C8</th>\n      <td>3918.0</td>\n      <td>0.994007</td>\n      <td>0.002793</td>\n      <td>0.987110</td>\n      <td>0.991880</td>\n      <td>0.993800</td>\n      <td>0.995857</td>\n      <td>1.001820</td>\n    </tr>\n    <tr>\n      <th>C9</th>\n      <td>3918.0</td>\n      <td>3.180084</td>\n      <td>0.130941</td>\n      <td>2.850000</td>\n      <td>3.100000</td>\n      <td>3.180000</td>\n      <td>3.260000</td>\n      <td>3.520000</td>\n    </tr>\n    <tr>\n      <th>C10</th>\n      <td>3918.0</td>\n      <td>0.388687</td>\n      <td>0.061853</td>\n      <td>0.223144</td>\n      <td>0.350657</td>\n      <td>0.385262</td>\n      <td>0.425268</td>\n      <td>0.559616</td>\n    </tr>\n    <tr>\n      <th>C11</th>\n      <td>3918.0</td>\n      <td>10.478892</td>\n      <td>1.177970</td>\n      <td>8.000000</td>\n      <td>9.500000</td>\n      <td>10.300000</td>\n      <td>11.300000</td>\n      <td>14.000000</td>\n    </tr>\n    <tr>\n      <th>QUALITY</th>\n      <td>3918.0</td>\n      <td>5.807300</td>\n      <td>0.763862</td>\n      <td>4.000000</td>\n      <td>5.000000</td>\n      <td>6.000000</td>\n      <td>6.000000</td>\n      <td>7.000000</td>\n    </tr>\n  </tbody>\n</table>\n</div>"
     },
     "execution_count": 45,
     "metadata": {},
     "output_type": "execute_result"
    }
   ],
   "source": [
    "# Function to impute outliers using IQR and column median\n",
    "def impute_outliers_iqr(data, column):\n",
    "    Q1 = data[column].quantile(0.25)\n",
    "    Q3 = data[column].quantile(0.75)\n",
    "    IQR = Q3 - Q1\n",
    "    lower_bound = Q1 - 1.5 * IQR\n",
    "    upper_bound = Q3 + 1.5 * IQR\n",
    "\n",
    "    # Identify outliers\n",
    "    outliers = (data[column] < lower_bound) | (data[column] > upper_bound)\n",
    "\n",
    "    # Impute outliers with the median of the column\n",
    "    data.loc[outliers, column] = data[column].median()\n",
    "    return data\n",
    "\n",
    "\n",
    "# Impute outliers in the dataset using IQR method\n",
    "df_imputed_outliers = df.copy()\n",
    "for column in df.columns:\n",
    "    if df[column].dtype != 'object':  # Apply only for numerical columns\n",
    "        df_imputed_outliers = impute_outliers_iqr(df_imputed_outliers, column)\n",
    "\n",
    "# Display basic statistics of the dataset after outlier imputation\n",
    "df_imputed_outliers.describe().T"
   ],
   "metadata": {
    "collapsed": false,
    "ExecuteTime": {
     "end_time": "2023-10-01T19:37:07.455725297Z",
     "start_time": "2023-10-01T19:37:07.424581491Z"
    }
   },
   "id": "23c8898f3bfa0f03"
  },
  {
   "cell_type": "code",
   "execution_count": 46,
   "outputs": [],
   "source": [
    "X = df_imputed_outliers.drop(columns=['QUALITY'])\n",
    "y = df_imputed_outliers['QUALITY']\n",
    "\n",
    "X_train, X_test, y_train, y_test = train_test_split(X, y, test_size=0.2, random_state=42)\n",
    "\n",
    "scaler = StandardScaler()\n",
    "X_train_std = scaler.fit_transform(X_train)\n",
    "X_test_std = scaler.transform(X_test)"
   ],
   "metadata": {
    "collapsed": false,
    "ExecuteTime": {
     "end_time": "2023-10-01T19:37:07.516131258Z",
     "start_time": "2023-10-01T19:37:07.454823721Z"
    }
   },
   "id": "415aabfeb38bd84"
  },
  {
   "cell_type": "code",
   "execution_count": 47,
   "outputs": [
    {
     "name": "stdout",
     "output_type": "stream",
     "text": [
      "MAE for Random Forest: 0.1696\n"
     ]
    }
   ],
   "source": [
    "from sklearn.ensemble import RandomForestRegressor\n",
    "\n",
    "rf = RandomForestRegressor(\n",
    "    max_depth=30,\n",
    "    min_samples_leaf=1,\n",
    "    min_samples_split=2,\n",
    "    n_estimators=100,\n",
    "    bootstrap=True,\n",
    "    random_state=42)\n",
    "rf.fit(X_train_std, y_train)\n",
    "predictions_rf = rf.predict(X_train_std)\n",
    "mae_rf = mean_absolute_error(y_train, predictions_rf)\n",
    "print(f\"MAE for Random Forest: {mae_rf:.4f}\")"
   ],
   "metadata": {
    "collapsed": false,
    "ExecuteTime": {
     "end_time": "2023-10-01T19:37:08.785505697Z",
     "start_time": "2023-10-01T19:37:07.497066845Z"
    }
   },
   "id": "9286dd696f31ffa"
  },
  {
   "cell_type": "code",
   "execution_count": 48,
   "outputs": [
    {
     "name": "stdout",
     "output_type": "stream",
     "text": [
      "MAE of Gradient Boosting Regression: 0.2411\n"
     ]
    }
   ],
   "source": [
    "# Hiperparámetros optimizados\n",
    "gb_model_std = GradientBoostingRegressor(\n",
    "    learning_rate=0.1,\n",
    "    max_depth=7,\n",
    "    max_features='sqrt',\n",
    "    min_samples_leaf=3,\n",
    "    min_samples_split=2,\n",
    "    n_estimators=100,\n",
    "    subsample=0.9,\n",
    "    random_state=42)  # Puedes ajustar los hiperparámetros según sea necesario\n",
    "gb_model_std.fit(X_train_std, y_train)\n",
    "\n",
    "# Hacer predicciones en el conjunto de entrenamiento\n",
    "y_train_pred_gb = gb_model_std.predict(X_train_std)\n",
    "\n",
    "# Calcular el MAE para las predicciones\n",
    "mae_gb_std = mean_absolute_error(y_train, y_train_pred_gb)\n",
    "print(f'MAE of Gradient Boosting Regression: {mae_gb_std:.4}')"
   ],
   "metadata": {
    "collapsed": false,
    "ExecuteTime": {
     "end_time": "2023-10-01T19:37:09.074329623Z",
     "start_time": "2023-10-01T19:37:08.785750260Z"
    }
   },
   "id": "3e671b73880396af"
  },
  {
   "cell_type": "code",
   "execution_count": 49,
   "outputs": [
    {
     "name": "stdout",
     "output_type": "stream",
     "text": [
      "MAE of XGBoost: 0.1422\n"
     ]
    }
   ],
   "source": [
    "optimized_xgb = xgb.XGBRegressor(objective='reg:squarederror',\n",
    "                                 subsample=0.8,\n",
    "                                 min_child_weight=4,\n",
    "                                 max_depth=9,\n",
    "                                 learning_rate=0.1,\n",
    "                                 gamma=0,\n",
    "                                 colsample_bytree=0.8,\n",
    "                                 random_state=42)\n",
    "\n",
    "# Entrenar el modelo con los datos estandarizados\n",
    "optimized_xgb.fit(X_train_std, y_train)\n",
    "\n",
    "# Hacer predicciones en el conjunto de entrenamiento\n",
    "xgb_optimized_predictions = optimized_xgb.predict(X_train_std)\n",
    "\n",
    "# Calcular el MAE\n",
    "mae_optimized_xgb = mean_absolute_error(y_train, xgb_optimized_predictions)\n",
    "mae_optimized_xgb\n",
    "print(f'MAE of XGBoost: {mae_optimized_xgb:.4}')"
   ],
   "metadata": {
    "collapsed": false,
    "ExecuteTime": {
     "end_time": "2023-10-01T19:37:09.951010723Z",
     "start_time": "2023-10-01T19:37:09.077976414Z"
    }
   },
   "id": "fd49cf7ff6378f09"
  },
  {
   "cell_type": "code",
   "execution_count": 50,
   "outputs": [
    {
     "name": "stdout",
     "output_type": "stream",
     "text": [
      "MAE of Stacking Regressor: 0.196939\n"
     ]
    }
   ],
   "source": [
    "base_learners = [\n",
    "    ('rf', RandomForestRegressor(max_depth=30,\n",
    "                                 min_samples_leaf=1,\n",
    "                                 min_samples_split=2,\n",
    "                                 n_estimators=100,\n",
    "                                 bootstrap=True,\n",
    "                                 random_state=42)),\n",
    "    ('gboost', GradientBoostingRegressor(learning_rate=0.1,\n",
    "                                         max_depth=7,\n",
    "                                         max_features='sqrt',\n",
    "                                         min_samples_leaf=3,\n",
    "                                         min_samples_split=2,\n",
    "                                         n_estimators=100,\n",
    "                                         subsample=0.9,\n",
    "                                         random_state=42)),\n",
    "    ('xgb', XGBRegressor(objective='reg:squarederror',\n",
    "                         subsample=0.8,\n",
    "                         min_child_weight=4,\n",
    "                         max_depth=9,\n",
    "                         learning_rate=0.1,\n",
    "                         gamma=0,\n",
    "                         colsample_bytree=0.8,\n",
    "                         random_state=42))\n",
    "]\n",
    "\n",
    "# Inicializa el modelo de Stacking\n",
    "stack_reg = StackingRegressor(\n",
    "    estimators=base_learners,\n",
    "    final_estimator=LinearRegression(),\n",
    "    cv=5  # Utiliza validación cruzada con 5 folds para entrenar los modelos base\n",
    ")\n",
    "\n",
    "\n",
    "# Train the model\n",
    "stack_reg.fit(X_test_std, y_test)\n",
    "\n",
    "# Predict on the training set\n",
    "stacked_train_predictions = stack_reg.predict(X_test_std)\n",
    "\n",
    "# Calculate the MAE for the Stacking Regressor\n",
    "mae_stacked = mean_absolute_error(y_test, stacked_train_predictions)\n",
    "print(f'MAE of Stacking Regressor: {mae_stacked:.6f}')"
   ],
   "metadata": {
    "collapsed": false,
    "ExecuteTime": {
     "end_time": "2023-10-01T19:37:12.401263293Z",
     "start_time": "2023-10-01T19:37:09.948842612Z"
    }
   },
   "id": "a3054dce8431c157"
  }
 ],
 "metadata": {
  "kernelspec": {
   "display_name": "Python 3",
   "language": "python",
   "name": "python3"
  },
  "language_info": {
   "codemirror_mode": {
    "name": "ipython",
    "version": 2
   },
   "file_extension": ".py",
   "mimetype": "text/x-python",
   "name": "python",
   "nbconvert_exporter": "python",
   "pygments_lexer": "ipython2",
   "version": "2.7.6"
  }
 },
 "nbformat": 4,
 "nbformat_minor": 5
}
