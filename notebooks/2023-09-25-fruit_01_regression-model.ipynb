{
 "cells": [
  {
   "cell_type": "code",
   "execution_count": 2,
   "outputs": [],
   "source": [
    "import  pandas as pd\n",
    "\n",
    "from sklearn.model_selection import train_test_split\n",
    "from sklearn.preprocessing import StandardScaler\n",
    "from sklearn.linear_model import LinearRegression\n",
    "from sklearn.metrics import mean_absolute_error, mean_squared_error"
   ],
   "metadata": {
    "collapsed": false,
    "ExecuteTime": {
     "end_time": "2023-09-25T19:59:34.160717799Z",
     "start_time": "2023-09-25T19:59:34.119297488Z"
    }
   }
  },
  {
   "cell_type": "code",
   "execution_count": 7,
   "outputs": [
    {
     "data": {
      "text/plain": "    C1        C2        C3    C4     C5    C6        C7       C8    C9  \\\n0  6.8  0.190620  0.307485  18.1  46.00  32.0  4.897840  1.00000  3.27   \n1  6.2  0.246860       NaN   5.0  43.00  50.0  5.241747  0.99318  3.23   \n2  6.7  0.350657  0.329304  12.1   0.04  61.0  5.517453  0.99794  3.31   \n3  6.8  0.254642  0.405465  13.3  53.00  48.0  5.273000  0.99740  3.09   \n4  6.6  0.215111  0.239017  15.8  35.00  46.0  5.241747  0.99820  3.24   \n\n        C10   C11  QUALITY  \n0  0.392042   8.8        5  \n1  0.494696  10.8        6  \n2  0.457425   9.7        5  \n3  0.371564   9.4        5  \n4  0.412110   9.2        5  ",
      "text/html": "<div>\n<style scoped>\n    .dataframe tbody tr th:only-of-type {\n        vertical-align: middle;\n    }\n\n    .dataframe tbody tr th {\n        vertical-align: top;\n    }\n\n    .dataframe thead th {\n        text-align: right;\n    }\n</style>\n<table border=\"1\" class=\"dataframe\">\n  <thead>\n    <tr style=\"text-align: right;\">\n      <th></th>\n      <th>C1</th>\n      <th>C2</th>\n      <th>C3</th>\n      <th>C4</th>\n      <th>C5</th>\n      <th>C6</th>\n      <th>C7</th>\n      <th>C8</th>\n      <th>C9</th>\n      <th>C10</th>\n      <th>C11</th>\n      <th>QUALITY</th>\n    </tr>\n  </thead>\n  <tbody>\n    <tr>\n      <th>0</th>\n      <td>6.8</td>\n      <td>0.190620</td>\n      <td>0.307485</td>\n      <td>18.1</td>\n      <td>46.00</td>\n      <td>32.0</td>\n      <td>4.897840</td>\n      <td>1.00000</td>\n      <td>3.27</td>\n      <td>0.392042</td>\n      <td>8.8</td>\n      <td>5</td>\n    </tr>\n    <tr>\n      <th>1</th>\n      <td>6.2</td>\n      <td>0.246860</td>\n      <td>NaN</td>\n      <td>5.0</td>\n      <td>43.00</td>\n      <td>50.0</td>\n      <td>5.241747</td>\n      <td>0.99318</td>\n      <td>3.23</td>\n      <td>0.494696</td>\n      <td>10.8</td>\n      <td>6</td>\n    </tr>\n    <tr>\n      <th>2</th>\n      <td>6.7</td>\n      <td>0.350657</td>\n      <td>0.329304</td>\n      <td>12.1</td>\n      <td>0.04</td>\n      <td>61.0</td>\n      <td>5.517453</td>\n      <td>0.99794</td>\n      <td>3.31</td>\n      <td>0.457425</td>\n      <td>9.7</td>\n      <td>5</td>\n    </tr>\n    <tr>\n      <th>3</th>\n      <td>6.8</td>\n      <td>0.254642</td>\n      <td>0.405465</td>\n      <td>13.3</td>\n      <td>53.00</td>\n      <td>48.0</td>\n      <td>5.273000</td>\n      <td>0.99740</td>\n      <td>3.09</td>\n      <td>0.371564</td>\n      <td>9.4</td>\n      <td>5</td>\n    </tr>\n    <tr>\n      <th>4</th>\n      <td>6.6</td>\n      <td>0.215111</td>\n      <td>0.239017</td>\n      <td>15.8</td>\n      <td>35.00</td>\n      <td>46.0</td>\n      <td>5.241747</td>\n      <td>0.99820</td>\n      <td>3.24</td>\n      <td>0.412110</td>\n      <td>9.2</td>\n      <td>5</td>\n    </tr>\n  </tbody>\n</table>\n</div>"
     },
     "execution_count": 7,
     "metadata": {},
     "output_type": "execute_result"
    }
   ],
   "source": [
    "df = pd.read_excel(\"../data/raw/entrenamiento.xlsx\")\n",
    "df = df.rename(columns={\"C7.1\": \"C8\", \"des\": \"QUALITY\"})\n",
    "features = df.columns[:-1]\n",
    "df.head()"
   ],
   "metadata": {
    "collapsed": false,
    "ExecuteTime": {
     "end_time": "2023-09-25T20:06:51.514850878Z",
     "start_time": "2023-09-25T20:06:51.140492862Z"
    }
   }
  },
  {
   "cell_type": "code",
   "execution_count": 8,
   "outputs": [],
   "source": [
    "df_median_imputed = df.copy()\n",
    "for feature in features:\n",
    "    df_median_imputed[feature].fillna(df_median_imputed[feature].median(), inplace=True)\n"
   ],
   "metadata": {
    "collapsed": false,
    "ExecuteTime": {
     "end_time": "2023-09-25T20:07:19.012767812Z",
     "start_time": "2023-09-25T20:07:18.970344362Z"
    }
   }
  },
  {
   "cell_type": "code",
   "execution_count": 23,
   "outputs": [
    {
     "name": "stdout",
     "output_type": "stream",
     "text": [
      "MAE: 0.6197\n",
      "MSE: 0.6415\n",
      "MAE: 0.8009\n"
     ]
    }
   ],
   "source": [
    "# Dividir el dataset en entrenamiento y validación\n",
    "X = df_median_imputed[features]\n",
    "y = df_median_imputed['QUALITY']\n",
    "X_train, X_val, y_train, y_val = train_test_split(X, y, test_size=0.2, random_state=42)\n",
    "\n",
    "# Escalar las características\n",
    "scaler = StandardScaler()\n",
    "X_train_scaled = scaler.fit_transform(X_train)\n",
    "X_val_scaled = scaler.transform(X_val)\n",
    "\n",
    "# Entrenar un modelo de regresión lineal\n",
    "regressor = LinearRegression()\n",
    "regressor.fit(X_train_scaled, y_train)\n",
    "\n",
    "# Predecir en el conjunto de validación\n",
    "y_pred = regressor.predict(X_val_scaled)\n",
    "\n",
    "# Evaluar el rendimiento\n",
    "mae = mean_absolute_error(y_val, y_pred)\n",
    "mse = mean_squared_error(y_val, y_pred)\n",
    "rmse = mean_squared_error(y_val, y_pred, squared=False)\n",
    "\n",
    "print(f\"MAE: {mae:.4f}\")\n",
    "print(f\"MSE: {mse:.4f}\")\n",
    "print(f\"MAE: {rmse:.4f}\")\n"
   ],
   "metadata": {
    "collapsed": false,
    "ExecuteTime": {
     "end_time": "2023-09-25T20:10:09.528854823Z",
     "start_time": "2023-09-25T20:10:09.482594905Z"
    }
   }
  }
 ],
 "metadata": {
  "kernelspec": {
   "display_name": "fruit-IC3wtz_r-py3.11",
   "language": "python",
   "name": "python3"
  },
  "language_info": {
   "codemirror_mode": {
    "name": "ipython",
    "version": 3
   },
   "file_extension": ".py",
   "mimetype": "text/x-python",
   "name": "python",
   "nbconvert_exporter": "python",
   "pygments_lexer": "ipython3",
   "version": "3.11.4"
  },
  "orig_nbformat": 4
 },
 "nbformat": 4,
 "nbformat_minor": 2
}
