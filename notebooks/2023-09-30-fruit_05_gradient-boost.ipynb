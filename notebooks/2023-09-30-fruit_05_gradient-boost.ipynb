{
 "cells": [
  {
   "cell_type": "code",
   "execution_count": 1,
   "id": "initial_id",
   "metadata": {
    "collapsed": true,
    "ExecuteTime": {
     "end_time": "2023-09-30T21:35:00.299214922Z",
     "start_time": "2023-09-30T21:34:59.881732701Z"
    }
   },
   "outputs": [],
   "source": [
    "import pandas as pd\n",
    "\n",
    "from sklearn.preprocessing import StandardScaler\n",
    "from sklearn.model_selection import train_test_split\n",
    "from sklearn.metrics import mean_absolute_error, mean_squared_error\n",
    "import xgboost as xgb"
   ]
  },
  {
   "cell_type": "code",
   "execution_count": 2,
   "outputs": [],
   "source": [
    "df= pd.read_excel(\"../data/raw/entrenamiento.xlsx\")\n",
    "df= df.rename(columns={\"C7.1\": \"C8\", \"des\": \"QUALITY\"})\n"
   ],
   "metadata": {
    "collapsed": false,
    "ExecuteTime": {
     "end_time": "2023-09-30T21:35:01.609561147Z",
     "start_time": "2023-09-30T21:35:01.052324440Z"
    }
   },
   "id": "4a09fb42ffab4d39"
  },
  {
   "cell_type": "code",
   "execution_count": 4,
   "outputs": [],
   "source": [
    "high_values_train = df[\"C8\"] > 900\n",
    "df.loc[high_values_train, \"C8\"] = df.loc[high_values_train, \"C8\"] / 1000"
   ],
   "metadata": {
    "collapsed": false,
    "ExecuteTime": {
     "end_time": "2023-09-30T21:35:21.798496788Z",
     "start_time": "2023-09-30T21:35:21.790736211Z"
    }
   },
   "id": "25da9e9f818f17c1"
  },
  {
   "cell_type": "code",
   "execution_count": 5,
   "outputs": [],
   "source": [
    "def impute_outliers_iqr(data, column):\n",
    "    Q1 = data[column].quantile(0.25)\n",
    "    Q3 = data[column].quantile(0.75)\n",
    "    IQR = Q3 - Q1\n",
    "    lower_bound = Q1 - 1.5 * IQR\n",
    "    upper_bound = Q3 + 1.5 * IQR\n",
    "\n",
    "    # Identify outliers\n",
    "    outliers = (data[column] < lower_bound) | (data[column] > upper_bound)\n",
    "\n",
    "    # Impute outliers with the median of the column\n",
    "    data.loc[outliers, column] = data[column].median()\n",
    "    return data\n",
    "\n",
    "\n",
    "# Impute outliers in the dataset using IQR method\n",
    "df_imputed_outliers = df.copy()\n",
    "for column in df.columns:\n",
    "    if df[column].dtype != 'object':  # Apply only for numerical columns\n",
    "        df_imputed_outliers = impute_outliers_iqr(df_imputed_outliers, column)"
   ],
   "metadata": {
    "collapsed": false,
    "ExecuteTime": {
     "end_time": "2023-09-30T21:35:22.839625323Z",
     "start_time": "2023-09-30T21:35:22.812133105Z"
    }
   },
   "id": "fe8ac01ae1c5cd61"
  },
  {
   "cell_type": "code",
   "execution_count": 6,
   "outputs": [
    {
     "data": {
      "text/plain": "Series([], dtype: int64)"
     },
     "execution_count": 6,
     "metadata": {},
     "output_type": "execute_result"
    }
   ],
   "source": [
    "# Impute missing values using median for predictor columns (excluding 'des' or 'QUALITY')\n",
    "for column in df_imputed_outliers.columns:\n",
    "    if column != \"des\" and df_imputed_outliers[\n",
    "        column].dtype != 'object':  # Exclude target column and non-numerical columns\n",
    "        median_value = df_imputed_outliers[column].median()\n",
    "        df_imputed_outliers[column].fillna(median_value, inplace=True)\n",
    "\n",
    "# Check if there are any missing values left\n",
    "remaining_missing_values = df_imputed_outliers.isnull().sum()\n",
    "remaining_missing_values[remaining_missing_values > 0]"
   ],
   "metadata": {
    "collapsed": false,
    "ExecuteTime": {
     "end_time": "2023-09-30T21:35:25.229312920Z",
     "start_time": "2023-09-30T21:35:25.205691160Z"
    }
   },
   "id": "e2a6eec9e963cd0e"
  },
  {
   "cell_type": "code",
   "execution_count": 8,
   "outputs": [],
   "source": [
    "df_completed = df_imputed_outliers.copy()\n",
    "# Separar las características y la variable objetivo\n",
    "X = df_completed.drop(\"QUALITY\", axis=1)\n",
    "y = df_completed[\"QUALITY\"]\n",
    "\n",
    "# Estandarizar las características\n",
    "scaler = StandardScaler()\n",
    "X_standardized = scaler.fit_transform(X)\n",
    "## Splitting the DataFrame\n",
    "# Dividir los datos en conjuntos de entrenamiento y prueba\n",
    "X_train_std, X_test_std, y_train, y_test = train_test_split(X_standardized, y, test_size=0.3, random_state=42)"
   ],
   "metadata": {
    "collapsed": false,
    "ExecuteTime": {
     "end_time": "2023-09-30T21:36:12.293902289Z",
     "start_time": "2023-09-30T21:36:12.250364647Z"
    }
   },
   "id": "4a0c5927d77392e6"
  },
  {
   "cell_type": "code",
   "execution_count": 9,
   "outputs": [
    {
     "name": "stdout",
     "output_type": "stream",
     "text": [
      "Mejores hiperparámetros: {'learning_rate': 0.1, 'max_depth': 5, 'max_features': None, 'n_estimators': 200, 'subsample': 0.9}\n",
      "Mean Absolute Error (MAE) con hiperparámetros optimizados: 0.2508\n"
     ]
    }
   ],
   "source": [
    "from sklearn.ensemble import GradientBoostingRegressor\n",
    "from sklearn.model_selection import GridSearchCV\n",
    "\n",
    "# Paso 1: Definir el modelo\n",
    "gb = GradientBoostingRegressor(random_state=42)\n",
    "\n",
    "# Paso 2: Establecer un conjunto de hiperparámetros para buscar\n",
    "param_grid = {\n",
    "    'n_estimators': [50, 100, 200],\n",
    "    'learning_rate': [0.01, 0.05, 0.1],\n",
    "    'max_depth': [3, 4, 5],\n",
    "    'subsample': [0.8, 0.9, 1.0],\n",
    "    'max_features': ['sqrt', 'log2', None]\n",
    "}\n",
    "\n",
    "# Paso 3: Usar GridSearchCV\n",
    "grid_search = GridSearchCV(gb, param_grid, cv=5, scoring='neg_mean_absolute_error', n_jobs=-1)\n",
    "grid_search.fit(X_train_std, y_train)\n",
    "\n",
    "# Mostrar los mejores hiperparámetros encontrados\n",
    "print(\"Mejores hiperparámetros:\", grid_search.best_params_)\n",
    "\n",
    "# Paso 4: Entrenar el modelo\n",
    "best_gb = grid_search.best_estimator_\n",
    "\n",
    "# Paso 5: Evaluar el rendimiento del modelo\n",
    "train_predictions = best_gb.predict(X_train_std)\n",
    "mae = mean_absolute_error(y_train, train_predictions)\n",
    "print(f\"Mean Absolute Error (MAE) con hiperparámetros optimizados: {mae:.4f}\")\n"
   ],
   "metadata": {
    "collapsed": false,
    "ExecuteTime": {
     "end_time": "2023-09-30T21:36:47.198423882Z",
     "start_time": "2023-09-30T21:36:21.977601845Z"
    }
   },
   "id": "617577d9591599e1"
  },
  {
   "cell_type": "code",
   "execution_count": 10,
   "outputs": [
    {
     "name": "stdout",
     "output_type": "stream",
     "text": [
      "MAE scores from cross-validation: [0.496141   0.50923275 0.48737803 0.47747602 0.49874127]\n",
      "Mean MAE score: 0.49379381392790067\n",
      "Standard Deviation of MAE scores: 0.010731077455014906\n"
     ]
    }
   ],
   "source": [
    "from sklearn.model_selection import cross_val_score\n",
    "\n",
    "# Usando el modelo con los mejores hiperparámetros\n",
    "scores = cross_val_score(best_gb, X_train_std, y_train, cv=5, scoring='neg_mean_absolute_error', n_jobs=-1)\n",
    "\n",
    "# Convertir a MAE positivo\n",
    "mae_scores = -scores\n",
    "\n",
    "# Mostrar los resultados de la validación cruzada\n",
    "print(f\"MAE scores from cross-validation: {mae_scores}\")\n",
    "print(f\"Mean MAE score: {mae_scores.mean()}\")\n",
    "print(f\"Standard Deviation of MAE scores: {mae_scores.std()}\")\n"
   ],
   "metadata": {
    "collapsed": false,
    "ExecuteTime": {
     "end_time": "2023-09-30T21:37:43.130187654Z",
     "start_time": "2023-09-30T21:37:42.236770022Z"
    }
   },
   "id": "56a5a6d9ccc81138"
  }
 ],
 "metadata": {
  "kernelspec": {
   "display_name": "Python 3",
   "language": "python",
   "name": "python3"
  },
  "language_info": {
   "codemirror_mode": {
    "name": "ipython",
    "version": 2
   },
   "file_extension": ".py",
   "mimetype": "text/x-python",
   "name": "python",
   "nbconvert_exporter": "python",
   "pygments_lexer": "ipython2",
   "version": "2.7.6"
  }
 },
 "nbformat": 4,
 "nbformat_minor": 5
}
