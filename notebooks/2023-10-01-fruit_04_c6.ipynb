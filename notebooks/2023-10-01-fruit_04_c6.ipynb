{
 "cells": [
  {
   "cell_type": "code",
   "execution_count": 34,
   "id": "initial_id",
   "metadata": {
    "collapsed": true,
    "ExecuteTime": {
     "end_time": "2023-10-01T15:25:55.961400188Z",
     "start_time": "2023-10-01T15:25:55.798847765Z"
    }
   },
   "outputs": [],
   "source": [
    "import numpy as np\n",
    "import pandas as pd\n",
    "\n",
    "import matplotlib.pyplot as plt\n",
    "import seaborn as sns\n",
    "\n",
    "from sklearn.preprocessing import StandardScaler\n",
    "from sklearn.preprocessing import MinMaxScaler\n",
    "from sklearn.model_selection import train_test_split\n",
    "\n",
    "import warnings\n",
    "\n",
    "warnings.filterwarnings(\"ignore\", category=FutureWarning)"
   ]
  },
  {
   "cell_type": "code",
   "execution_count": 35,
   "outputs": [],
   "source": [
    "df = pd.read_excel(\"../data/raw/entrenamiento.xlsx\")\n",
    "df = df.rename(columns={\"C7.1\": \"C8\", \"des\": \"QUALITY\"})"
   ],
   "metadata": {
    "collapsed": false,
    "ExecuteTime": {
     "end_time": "2023-10-01T15:25:56.143998940Z",
     "start_time": "2023-10-01T15:25:55.841233444Z"
    }
   },
   "id": "29692f62fef49841"
  },
  {
   "cell_type": "code",
   "execution_count": 36,
   "outputs": [
    {
     "data": {
      "text/plain": "          count       mean         std       min        25%        50%  \\\nC1       3684.0   6.857166    0.846430  3.800000   6.300000   6.800000   \nC2       3664.0   0.421440    0.988207  0.076961   0.190620   0.231112   \nC3       3648.0   0.284054    0.086887  0.000000   0.239017   0.277632   \nC4       3636.0   6.424642    5.084063  0.600000   1.700000   5.300000   \nC5       3659.0  40.685294   25.106022  0.020000  33.000000  41.000000   \nC6       3655.0  35.216142   17.167346  2.000000  23.000000  34.000000   \nC7       3645.0   4.885591    0.341723  2.302585   4.691348   4.912655   \nC8       3646.0  65.824651  245.359289  0.987110   0.991800   0.994100   \nC9       3658.0   3.188291    0.152155  2.720000   3.090000   3.180000   \nC10      3639.0   0.395421    0.074535  0.198851   0.343590   0.385262   \nC11      3658.0  10.491607    1.218126  8.000000   9.400000  10.300000   \nQUALITY  3918.0   5.870342    0.887340  3.000000   5.000000   6.000000   \n\n               75%          max  \nC1        7.300000    14.200000  \nC2        0.285179     6.913737  \nC3        0.329304     0.802002  \nC4        9.900000    65.800000  \nC5       49.000000   346.000000  \nC6       46.000000   289.000000  \nC7        5.129899     6.089045  \nC8        0.996825  1001.000000  \nC9        3.280000     3.820000  \nC10       0.438255     0.732368  \nC11      11.300000    14.000000  \nQUALITY   6.000000     9.000000  ",
      "text/html": "<div>\n<style scoped>\n    .dataframe tbody tr th:only-of-type {\n        vertical-align: middle;\n    }\n\n    .dataframe tbody tr th {\n        vertical-align: top;\n    }\n\n    .dataframe thead th {\n        text-align: right;\n    }\n</style>\n<table border=\"1\" class=\"dataframe\">\n  <thead>\n    <tr style=\"text-align: right;\">\n      <th></th>\n      <th>count</th>\n      <th>mean</th>\n      <th>std</th>\n      <th>min</th>\n      <th>25%</th>\n      <th>50%</th>\n      <th>75%</th>\n      <th>max</th>\n    </tr>\n  </thead>\n  <tbody>\n    <tr>\n      <th>C1</th>\n      <td>3684.0</td>\n      <td>6.857166</td>\n      <td>0.846430</td>\n      <td>3.800000</td>\n      <td>6.300000</td>\n      <td>6.800000</td>\n      <td>7.300000</td>\n      <td>14.200000</td>\n    </tr>\n    <tr>\n      <th>C2</th>\n      <td>3664.0</td>\n      <td>0.421440</td>\n      <td>0.988207</td>\n      <td>0.076961</td>\n      <td>0.190620</td>\n      <td>0.231112</td>\n      <td>0.285179</td>\n      <td>6.913737</td>\n    </tr>\n    <tr>\n      <th>C3</th>\n      <td>3648.0</td>\n      <td>0.284054</td>\n      <td>0.086887</td>\n      <td>0.000000</td>\n      <td>0.239017</td>\n      <td>0.277632</td>\n      <td>0.329304</td>\n      <td>0.802002</td>\n    </tr>\n    <tr>\n      <th>C4</th>\n      <td>3636.0</td>\n      <td>6.424642</td>\n      <td>5.084063</td>\n      <td>0.600000</td>\n      <td>1.700000</td>\n      <td>5.300000</td>\n      <td>9.900000</td>\n      <td>65.800000</td>\n    </tr>\n    <tr>\n      <th>C5</th>\n      <td>3659.0</td>\n      <td>40.685294</td>\n      <td>25.106022</td>\n      <td>0.020000</td>\n      <td>33.000000</td>\n      <td>41.000000</td>\n      <td>49.000000</td>\n      <td>346.000000</td>\n    </tr>\n    <tr>\n      <th>C6</th>\n      <td>3655.0</td>\n      <td>35.216142</td>\n      <td>17.167346</td>\n      <td>2.000000</td>\n      <td>23.000000</td>\n      <td>34.000000</td>\n      <td>46.000000</td>\n      <td>289.000000</td>\n    </tr>\n    <tr>\n      <th>C7</th>\n      <td>3645.0</td>\n      <td>4.885591</td>\n      <td>0.341723</td>\n      <td>2.302585</td>\n      <td>4.691348</td>\n      <td>4.912655</td>\n      <td>5.129899</td>\n      <td>6.089045</td>\n    </tr>\n    <tr>\n      <th>C8</th>\n      <td>3646.0</td>\n      <td>65.824651</td>\n      <td>245.359289</td>\n      <td>0.987110</td>\n      <td>0.991800</td>\n      <td>0.994100</td>\n      <td>0.996825</td>\n      <td>1001.000000</td>\n    </tr>\n    <tr>\n      <th>C9</th>\n      <td>3658.0</td>\n      <td>3.188291</td>\n      <td>0.152155</td>\n      <td>2.720000</td>\n      <td>3.090000</td>\n      <td>3.180000</td>\n      <td>3.280000</td>\n      <td>3.820000</td>\n    </tr>\n    <tr>\n      <th>C10</th>\n      <td>3639.0</td>\n      <td>0.395421</td>\n      <td>0.074535</td>\n      <td>0.198851</td>\n      <td>0.343590</td>\n      <td>0.385262</td>\n      <td>0.438255</td>\n      <td>0.732368</td>\n    </tr>\n    <tr>\n      <th>C11</th>\n      <td>3658.0</td>\n      <td>10.491607</td>\n      <td>1.218126</td>\n      <td>8.000000</td>\n      <td>9.400000</td>\n      <td>10.300000</td>\n      <td>11.300000</td>\n      <td>14.000000</td>\n    </tr>\n    <tr>\n      <th>QUALITY</th>\n      <td>3918.0</td>\n      <td>5.870342</td>\n      <td>0.887340</td>\n      <td>3.000000</td>\n      <td>5.000000</td>\n      <td>6.000000</td>\n      <td>6.000000</td>\n      <td>9.000000</td>\n    </tr>\n  </tbody>\n</table>\n</div>"
     },
     "execution_count": 36,
     "metadata": {},
     "output_type": "execute_result"
    }
   ],
   "source": [
    "df.describe().T"
   ],
   "metadata": {
    "collapsed": false,
    "ExecuteTime": {
     "end_time": "2023-10-01T15:25:56.197762198Z",
     "start_time": "2023-10-01T15:25:56.144735590Z"
    }
   },
   "id": "5f91ac2d9b897cae"
  },
  {
   "cell_type": "code",
   "execution_count": 37,
   "outputs": [],
   "source": [
    "df_no_missing = df.dropna()"
   ],
   "metadata": {
    "collapsed": false,
    "ExecuteTime": {
     "end_time": "2023-10-01T15:25:56.197911194Z",
     "start_time": "2023-10-01T15:25:56.185242229Z"
    }
   },
   "id": "5de9552f1662e89e"
  },
  {
   "cell_type": "code",
   "execution_count": 38,
   "outputs": [],
   "source": [
    "df_no_missing_dropped = df_no_missing.drop(columns=[\"C7\"])"
   ],
   "metadata": {
    "collapsed": false,
    "ExecuteTime": {
     "end_time": "2023-10-01T15:25:56.197981992Z",
     "start_time": "2023-10-01T15:25:56.185350066Z"
    }
   },
   "id": "576e7645727a0e0f"
  },
  {
   "cell_type": "code",
   "execution_count": 39,
   "outputs": [],
   "source": [
    "from sklearn.model_selection import train_test_split\n",
    "\n",
    "X = df_no_missing_dropped.drop(columns=['QUALITY'])\n",
    "y = df_no_missing_dropped['QUALITY']\n",
    "\n",
    "X_train, X_test, y_train, y_test = train_test_split(X, y, test_size=0.2, random_state=42)\n",
    "from sklearn.preprocessing import StandardScaler\n",
    "\n",
    "scaler = StandardScaler()\n",
    "X_train_std = scaler.fit_transform(X_train)\n",
    "X_test_std = scaler.transform(X_test)"
   ],
   "metadata": {
    "collapsed": false,
    "ExecuteTime": {
     "end_time": "2023-10-01T15:25:56.198075280Z",
     "start_time": "2023-10-01T15:25:56.185416624Z"
    }
   },
   "id": "fe7df1da49045821"
  },
  {
   "cell_type": "code",
   "execution_count": 40,
   "outputs": [
    {
     "name": "stdout",
     "output_type": "stream",
     "text": [
      "MAE for Linear Regression: 0.6113\n"
     ]
    }
   ],
   "source": [
    "from sklearn.linear_model import LinearRegression\n",
    "from sklearn.metrics import mean_absolute_error\n",
    "\n",
    "lr = LinearRegression()\n",
    "lr.fit(X_train_std, y_train)\n",
    "predictions_lr = lr.predict(X_test_std)\n",
    "mae_lr = mean_absolute_error(y_test, predictions_lr)\n",
    "print(f\"MAE for Linear Regression: {mae_lr:.4f}\")"
   ],
   "metadata": {
    "collapsed": false,
    "ExecuteTime": {
     "end_time": "2023-10-01T15:25:56.198202817Z",
     "start_time": "2023-10-01T15:25:56.185520242Z"
    }
   },
   "id": "11d79226a0d53748"
  },
  {
   "cell_type": "code",
   "execution_count": 41,
   "outputs": [
    {
     "name": "stdout",
     "output_type": "stream",
     "text": [
      "MAE for Ridge Regression: 0.6113\n"
     ]
    }
   ],
   "source": [
    "from sklearn.linear_model import Ridge\n",
    "\n",
    "ridge = Ridge(random_state=42)\n",
    "ridge.fit(X_train_std, y_train)\n",
    "predictions_ridge = ridge.predict(X_test_std)\n",
    "mae_ridge = mean_absolute_error(y_test, predictions_ridge)\n",
    "print(f\"MAE for Ridge Regression: {mae_ridge:.4f}\")"
   ],
   "metadata": {
    "collapsed": false,
    "ExecuteTime": {
     "end_time": "2023-10-01T15:25:56.198410421Z",
     "start_time": "2023-10-01T15:25:56.185604909Z"
    }
   },
   "id": "915b327a84286fb0"
  },
  {
   "cell_type": "code",
   "execution_count": 42,
   "outputs": [
    {
     "name": "stdout",
     "output_type": "stream",
     "text": [
      "MAE for Lasso Regression: 0.6722\n"
     ]
    }
   ],
   "source": [
    "from sklearn.linear_model import Lasso\n",
    "\n",
    "lasso = Lasso(random_state=42)\n",
    "lasso.fit(X_train_std, y_train)\n",
    "predictions_lasso = lasso.predict(X_test_std)\n",
    "mae_lasso = mean_absolute_error(y_test, predictions_lasso)\n",
    "print(f\"MAE for Lasso Regression: {mae_lasso:.4f}\")"
   ],
   "metadata": {
    "collapsed": false,
    "ExecuteTime": {
     "end_time": "2023-10-01T15:25:56.281673290Z",
     "start_time": "2023-10-01T15:25:56.229081560Z"
    }
   },
   "id": "be3dfac1f1500c72"
  },
  {
   "cell_type": "code",
   "execution_count": 43,
   "outputs": [
    {
     "name": "stdout",
     "output_type": "stream",
     "text": [
      "MAE for Decision Tree: 0.6955\n"
     ]
    }
   ],
   "source": [
    "from sklearn.tree import DecisionTreeRegressor\n",
    "\n",
    "dt = DecisionTreeRegressor(random_state=42)\n",
    "dt.fit(X_train_std, y_train)\n",
    "predictions_dt = dt.predict(X_test_std)\n",
    "mae_dt = mean_absolute_error(y_test, predictions_dt)\n",
    "print(f\"MAE for Decision Tree: {mae_dt:.4f}\")"
   ],
   "metadata": {
    "collapsed": false,
    "ExecuteTime": {
     "end_time": "2023-10-01T15:25:56.281898104Z",
     "start_time": "2023-10-01T15:25:56.229187088Z"
    }
   },
   "id": "ba2f3484b39377a5"
  },
  {
   "cell_type": "code",
   "execution_count": 44,
   "outputs": [
    {
     "name": "stdout",
     "output_type": "stream",
     "text": [
      "MAE for Random Forest: 0.5088\n"
     ]
    }
   ],
   "source": [
    "from sklearn.ensemble import RandomForestRegressor\n",
    "\n",
    "rf = RandomForestRegressor(random_state=42)\n",
    "rf.fit(X_train_std, y_train)\n",
    "predictions_rf = rf.predict(X_test_std)\n",
    "mae_rf = mean_absolute_error(y_test, predictions_rf)\n",
    "print(f\"MAE for Random Forest: {mae_rf:.4f}\")"
   ],
   "metadata": {
    "collapsed": false,
    "ExecuteTime": {
     "end_time": "2023-10-01T15:25:56.791851041Z",
     "start_time": "2023-10-01T15:25:56.229247536Z"
    }
   },
   "id": "c57c65b7f58d7549"
  },
  {
   "cell_type": "code",
   "execution_count": 45,
   "outputs": [
    {
     "name": "stdout",
     "output_type": "stream",
     "text": [
      "MAE for SVR: 0.5800\n"
     ]
    }
   ],
   "source": [
    "from sklearn.svm import SVR\n",
    "\n",
    "svr = SVR()\n",
    "svr.fit(X_train_std, y_train)\n",
    "predictions_svr = svr.predict(X_test_std)\n",
    "mae_svr = mean_absolute_error(y_test, predictions_svr)\n",
    "print(f\"MAE for SVR: {mae_svr:.4f}\")"
   ],
   "metadata": {
    "collapsed": false,
    "ExecuteTime": {
     "end_time": "2023-10-01T15:25:56.870601679Z",
     "start_time": "2023-10-01T15:25:56.787335560Z"
    }
   },
   "id": "1a06ed0f8f16dd42"
  },
  {
   "cell_type": "code",
   "execution_count": 46,
   "outputs": [
    {
     "name": "stdout",
     "output_type": "stream",
     "text": [
      "MAE for AdaBoost: 0.6044\n"
     ]
    }
   ],
   "source": [
    "from sklearn.ensemble import AdaBoostRegressor\n",
    "\n",
    "adaboost = AdaBoostRegressor(random_state=42)\n",
    "adaboost.fit(X_train_std, y_train)\n",
    "predictions_adaboost = adaboost.predict(X_test_std)\n",
    "mae_adaboost = mean_absolute_error(y_test, predictions_adaboost)\n",
    "print(f\"MAE for AdaBoost: {mae_adaboost:.4f}\")"
   ],
   "metadata": {
    "collapsed": false,
    "ExecuteTime": {
     "end_time": "2023-10-01T15:25:56.976127279Z",
     "start_time": "2023-10-01T15:25:56.869231185Z"
    }
   },
   "id": "b91b8bdef3432a8f"
  },
  {
   "cell_type": "code",
   "execution_count": 47,
   "outputs": [
    {
     "name": "stdout",
     "output_type": "stream",
     "text": [
      "MAE for Gradient Boosting: 0.5515\n"
     ]
    }
   ],
   "source": [
    "from sklearn.ensemble import GradientBoostingRegressor\n",
    "\n",
    "gb = GradientBoostingRegressor(random_state=42)\n",
    "gb.fit(X_train_std, y_train)\n",
    "predictions_gb = gb.predict(X_test_std)\n",
    "mae_gb = mean_absolute_error(y_test, predictions_gb)\n",
    "print(f\"MAE for Gradient Boosting: {mae_gb:.4f}\")"
   ],
   "metadata": {
    "collapsed": false,
    "ExecuteTime": {
     "end_time": "2023-10-01T15:25:57.163097226Z",
     "start_time": "2023-10-01T15:25:56.975958664Z"
    }
   },
   "id": "39ea65b3c221a486"
  },
  {
   "cell_type": "code",
   "execution_count": 48,
   "outputs": [
    {
     "name": "stdout",
     "output_type": "stream",
     "text": [
      "MAE for Stacking Regressor: 0.5209\n"
     ]
    }
   ],
   "source": [
    "from sklearn.ensemble import StackingRegressor\n",
    "\n",
    "base_learners = [\n",
    "                 ('rf', RandomForestRegressor(random_state=42)),\n",
    "                 ('gb', GradientBoostingRegressor(random_state=42)),\n",
    "                 ('ridge', Ridge(random_state=42))\n",
    "                ]\n",
    "\n",
    "stacking_regressor = StackingRegressor(estimators=base_learners, final_estimator=LinearRegression())\n",
    "stacking_regressor.fit(X_train_std, y_train)\n",
    "predictions_stack = stacking_regressor.predict(X_test_std)\n",
    "mae_stack = mean_absolute_error(y_test, predictions_stack)\n",
    "print(f\"MAE for Stacking Regressor: {mae_stack:.4f}\")"
   ],
   "metadata": {
    "collapsed": false,
    "ExecuteTime": {
     "end_time": "2023-10-01T15:26:00.799091747Z",
     "start_time": "2023-10-01T15:25:57.180529735Z"
    }
   },
   "id": "4ac4032e9b6a9c35"
  },
  {
   "cell_type": "code",
   "execution_count": 49,
   "outputs": [
    {
     "name": "stdout",
     "output_type": "stream",
     "text": [
      "               Model       MAE\n",
      "4      Random Forest  0.508827\n",
      "8           Stacking  0.520869\n",
      "7     Gradient Boost  0.551477\n",
      "5                SVR  0.579981\n",
      "6           AdaBoost  0.604415\n",
      "0  Linear Regression  0.611255\n",
      "1   Ridge Regression  0.611256\n",
      "2   Lasso Regression  0.672200\n",
      "3      Decision Tree  0.695531\n"
     ]
    }
   ],
   "source": [
    "# Inicializar un DataFrame para registrar los resultados\n",
    "results_df = pd.DataFrame(columns=['Model', 'MAE'])\n",
    "\n",
    "# Función para añadir resultados al DataFrame\n",
    "def add_result(model_name, mae_value):\n",
    "    global results_df\n",
    "    new_row = pd.DataFrame({'Model': [model_name], 'MAE': [mae_value]})\n",
    "    results_df = pd.concat([results_df, new_row], ignore_index=True)\n",
    "\n",
    "# Añadir los resultados (solo como ejemplo, reemplaza las cifras ficticias con tus valores reales)\n",
    "add_result(\"Linear Regression\", mae_lr)  # Sustituye 0.1234 con tu valor real\n",
    "add_result(\"Ridge Regression\", mae_ridge)  # Sustituye 0.1234 con tu valor real\n",
    "add_result(\"Lasso Regression\", mae_lasso)  # Sustituye 0.2345 con tu valor real\n",
    "add_result(\"Decision Tree\", mae_dt)  # Sustituye 0.2345 con tu valor real\n",
    "add_result(\"Random Forest\", mae_rf)  # Sustituye 0.2345 con tu valor real\n",
    "add_result(\"SVR\", mae_svr)  # Sustituye 0.2345 con tu valor real\n",
    "add_result(\"AdaBoost\", mae_adaboost)  # Sustituye 0.2345 con tu valor real\n",
    "add_result(\"Gradient Boost\", mae_gb)  # Sustituye 0.2345 con tu valor real\n",
    "add_result(\"Stacking\", mae_stack)  # Sustituye 0.2345 con tu valor real\n",
    "\n",
    "\n",
    "# Muestra el DataFrame\n",
    "sorted_results_df = results_df.sort_values(by=\"MAE\", ascending=True)\n",
    "print(sorted_results_df)"
   ],
   "metadata": {
    "collapsed": false,
    "ExecuteTime": {
     "end_time": "2023-10-01T15:26:00.818005536Z",
     "start_time": "2023-10-01T15:26:00.807147964Z"
    }
   },
   "id": "bf5379dba049412d"
  }
 ],
 "metadata": {
  "kernelspec": {
   "display_name": "Python 3",
   "language": "python",
   "name": "python3"
  },
  "language_info": {
   "codemirror_mode": {
    "name": "ipython",
    "version": 2
   },
   "file_extension": ".py",
   "mimetype": "text/x-python",
   "name": "python",
   "nbconvert_exporter": "python",
   "pygments_lexer": "ipython2",
   "version": "2.7.6"
  }
 },
 "nbformat": 4,
 "nbformat_minor": 5
}
